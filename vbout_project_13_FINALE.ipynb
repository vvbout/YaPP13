{
 "cells": [
  {
   "cell_type": "markdown",
   "metadata": {},
   "source": [
    "# ОЦЕНКА РЕЗУЛЬТАТОВ А/В ТЕСТА\n",
    "# ТЕСТИРОВАНИЕ ИЗМЕНЕНИЙ, СВЯЗАННЫХ С ВНЕДРЕНИЕМ УЛУЧШЕННОЙ РЕКОМЕНДАТЕЛЬНОЙ СИСТЕМЫ\n",
    "\n",
    "**ЗАДАЧА ПРОЕКТА:**\n",
    "\n",
    "на основании данных:\n",
    "\n",
    "1. **файл ab_project_marketing_events.csv — календарь маркетинговых событий на 2020 год**\n",
    "\n",
    "Структура файла:\n",
    "\n",
    "* name — название маркетингового события\n",
    "* regions — регионы, в которых будет проводиться рекламная кампания\n",
    "* start_dt — дата начала кампании\n",
    "* finish_dt — дата завершения кампании\n",
    "\n",
    "2. **файл final_ab_new_users.csv — пользователи, зарегистрировавшиеся с 7 по 21 декабря 2020 года**\n",
    "\n",
    "Структура файла:\n",
    "\n",
    "* user_id — идентификатор пользователя\n",
    "* first_date — дата регистрации\n",
    "* region — регион пользователя\n",
    "* device — устройство, с которого происходила регистрация\n",
    "\n",
    "3. **файл final_ab_events.csv — действия новых пользователей в период с 7 декабря 2020 по 4 января 2021 года**\n",
    "\n",
    "Структура файла:\n",
    "\n",
    "* user_id — идентификатор пользователя\n",
    "* event_dt — дата и время покупки\n",
    "* event_name — тип события\n",
    "* details — дополнительные данные о событии. Например, для покупок, purchase, в этом поле хранится стоимость покупки в долларах\n",
    "\n",
    "4. **файл final_ab_participants.csv — таблица участников тестов**\n",
    "\n",
    "Структура файла:\n",
    "\n",
    "* user_id — идентификатор пользователя\n",
    "* ab_test — название теста\n",
    "* group — группа пользователя\n",
    "\n",
    "**Оценить** корректность проведения теста\n",
    "\n",
    "**Проанализировать** результаты теста\n",
    "\n",
    "**ТЕХНИЧЕСКОЕ ЗАДАНИЕ:**\n",
    "\n",
    "* Название теста: recommender_system_test\n",
    "* группы: А — контрольная, B — новая платёжная воронка\n",
    "* дата запуска: 2020-12-07\n",
    "* дата остановки набора новых пользователей: 2020-12-21\n",
    "* дата остановки: 2021-01-04\n",
    "* аудитория: 15% новых пользователей из региона EU\n",
    "* назначение теста: тестирование изменений, связанных с внедрением улучшенной рекомендательной системы\n",
    "* ожидаемое количество участников теста: 6 000\n",
    "* ожидаемый эффект: за 14 дней с момента регистрации пользователи покажут улучшение каждой метрики не менее, чем на 10%\n",
    "* конверсии в просмотр карточек товаров — событие product_page\n",
    "* просмотры корзины — product_cart\n",
    "* покупки — purchase"
   ]
  },
  {
   "cell_type": "markdown",
   "metadata": {},
   "source": [
    "## Предподготовка данных"
   ]
  },
  {
   "cell_type": "markdown",
   "metadata": {},
   "source": [
    "**Задача:**\n",
    "\n",
    "* создание рабочей среды\n",
    "* загрузка данных\n",
    "* проверка регистров, корректности записей и названий (преобразования в случае необходимости)\n",
    "* проверка типов данных ((преобразования в случае необходимости)\n",
    "* проверка пропущенных значений (преобразования в случае необходимости)\n",
    "* проверка дубликатов (преобразования в случае необходимости)\n",
    "* проверка минимальных и максимальных значений на аномалии (преобразования в случае необходимости)"
   ]
  },
  {
   "cell_type": "code",
   "execution_count": 1,
   "metadata": {},
   "outputs": [],
   "source": [
    "# импортируем библиотеки, подготавливаем рабочую среду\n",
    "\n",
    "import pandas as pd\n",
    "from scipy import stats as st\n",
    "from scipy.stats import ttest_ind\n",
    "import numpy as np\n",
    "import math as mth\n",
    "from datetime import datetime, timedelta\n",
    "from matplotlib import pyplot as plt\n",
    "import seaborn as sns\n",
    "from plotly import graph_objects as go\n",
    "import plotly.express as px\n",
    "\n",
    "pd.set_option('display.max_columns', None)\n",
    "pd.set_option('max_colwidth', 110)"
   ]
  },
  {
   "cell_type": "code",
   "execution_count": 2,
   "metadata": {},
   "outputs": [
    {
     "name": "stdout",
     "output_type": "stream",
     "text": [
      "<class 'pandas.core.frame.DataFrame'>\n",
      "RangeIndex: 14 entries, 0 to 13\n",
      "Data columns (total 4 columns):\n",
      " #   Column     Non-Null Count  Dtype \n",
      "---  ------     --------------  ----- \n",
      " 0   name       14 non-null     object\n",
      " 1   regions    14 non-null     object\n",
      " 2   start_dt   14 non-null     object\n",
      " 3   finish_dt  14 non-null     object\n",
      "dtypes: object(4)\n",
      "memory usage: 576.0+ bytes\n"
     ]
    },
    {
     "data": {
      "text/html": [
       "<div>\n",
       "<style scoped>\n",
       "    .dataframe tbody tr th:only-of-type {\n",
       "        vertical-align: middle;\n",
       "    }\n",
       "\n",
       "    .dataframe tbody tr th {\n",
       "        vertical-align: top;\n",
       "    }\n",
       "\n",
       "    .dataframe thead th {\n",
       "        text-align: right;\n",
       "    }\n",
       "</style>\n",
       "<table border=\"1\" class=\"dataframe\">\n",
       "  <thead>\n",
       "    <tr style=\"text-align: right;\">\n",
       "      <th></th>\n",
       "      <th>name</th>\n",
       "      <th>regions</th>\n",
       "      <th>start_dt</th>\n",
       "      <th>finish_dt</th>\n",
       "    </tr>\n",
       "  </thead>\n",
       "  <tbody>\n",
       "    <tr>\n",
       "      <th>1</th>\n",
       "      <td>St. Valentine's Day Giveaway</td>\n",
       "      <td>EU, CIS, APAC, N.America</td>\n",
       "      <td>2020-02-14</td>\n",
       "      <td>2020-02-16</td>\n",
       "    </tr>\n",
       "    <tr>\n",
       "      <th>10</th>\n",
       "      <td>CIS New Year Gift Lottery</td>\n",
       "      <td>CIS</td>\n",
       "      <td>2020-12-30</td>\n",
       "      <td>2021-01-07</td>\n",
       "    </tr>\n",
       "    <tr>\n",
       "      <th>6</th>\n",
       "      <td>Chinese New Year Promo</td>\n",
       "      <td>APAC</td>\n",
       "      <td>2020-01-25</td>\n",
       "      <td>2020-02-07</td>\n",
       "    </tr>\n",
       "    <tr>\n",
       "      <th>8</th>\n",
       "      <td>International Women's Day Promo</td>\n",
       "      <td>EU, CIS, APAC</td>\n",
       "      <td>2020-03-08</td>\n",
       "      <td>2020-03-10</td>\n",
       "    </tr>\n",
       "    <tr>\n",
       "      <th>9</th>\n",
       "      <td>Victory Day CIS (May 9th) Event</td>\n",
       "      <td>CIS</td>\n",
       "      <td>2020-05-09</td>\n",
       "      <td>2020-05-11</td>\n",
       "    </tr>\n",
       "  </tbody>\n",
       "</table>\n",
       "</div>"
      ],
      "text/plain": [
       "                               name                   regions    start_dt  \\\n",
       "1      St. Valentine's Day Giveaway  EU, CIS, APAC, N.America  2020-02-14   \n",
       "10        CIS New Year Gift Lottery                       CIS  2020-12-30   \n",
       "6            Chinese New Year Promo                      APAC  2020-01-25   \n",
       "8   International Women's Day Promo             EU, CIS, APAC  2020-03-08   \n",
       "9   Victory Day CIS (May 9th) Event                       CIS  2020-05-09   \n",
       "\n",
       "     finish_dt  \n",
       "1   2020-02-16  \n",
       "10  2021-01-07  \n",
       "6   2020-02-07  \n",
       "8   2020-03-10  \n",
       "9   2020-05-11  "
      ]
     },
     "metadata": {},
     "output_type": "display_data"
    }
   ],
   "source": [
    "# загружаем данные датасета ab_project_marketing_events.csv,\n",
    "# выводим информацию о датасете,\n",
    "# выводим случайные 5 строк таблицы\n",
    "\n",
    "data_marketing_events = pd.read_csv('/datasets/ab_project_marketing_events.csv')\n",
    "data_marketing_events.info()\n",
    "display(data_marketing_events.sample(5))"
   ]
  },
  {
   "cell_type": "code",
   "execution_count": 3,
   "metadata": {},
   "outputs": [
    {
     "name": "stdout",
     "output_type": "stream",
     "text": [
      "<class 'pandas.core.frame.DataFrame'>\n",
      "RangeIndex: 61733 entries, 0 to 61732\n",
      "Data columns (total 4 columns):\n",
      " #   Column      Non-Null Count  Dtype \n",
      "---  ------      --------------  ----- \n",
      " 0   user_id     61733 non-null  object\n",
      " 1   first_date  61733 non-null  object\n",
      " 2   region      61733 non-null  object\n",
      " 3   device      61733 non-null  object\n",
      "dtypes: object(4)\n",
      "memory usage: 1.9+ MB\n"
     ]
    },
    {
     "data": {
      "text/html": [
       "<div>\n",
       "<style scoped>\n",
       "    .dataframe tbody tr th:only-of-type {\n",
       "        vertical-align: middle;\n",
       "    }\n",
       "\n",
       "    .dataframe tbody tr th {\n",
       "        vertical-align: top;\n",
       "    }\n",
       "\n",
       "    .dataframe thead th {\n",
       "        text-align: right;\n",
       "    }\n",
       "</style>\n",
       "<table border=\"1\" class=\"dataframe\">\n",
       "  <thead>\n",
       "    <tr style=\"text-align: right;\">\n",
       "      <th></th>\n",
       "      <th>user_id</th>\n",
       "      <th>first_date</th>\n",
       "      <th>region</th>\n",
       "      <th>device</th>\n",
       "    </tr>\n",
       "  </thead>\n",
       "  <tbody>\n",
       "    <tr>\n",
       "      <th>24631</th>\n",
       "      <td>5416B27667290330</td>\n",
       "      <td>2020-12-22</td>\n",
       "      <td>N.America</td>\n",
       "      <td>Android</td>\n",
       "    </tr>\n",
       "    <tr>\n",
       "      <th>5914</th>\n",
       "      <td>73D9C981F58F142C</td>\n",
       "      <td>2020-12-14</td>\n",
       "      <td>EU</td>\n",
       "      <td>Mac</td>\n",
       "    </tr>\n",
       "    <tr>\n",
       "      <th>20963</th>\n",
       "      <td>F353A2103A841CC9</td>\n",
       "      <td>2020-12-15</td>\n",
       "      <td>N.America</td>\n",
       "      <td>Android</td>\n",
       "    </tr>\n",
       "    <tr>\n",
       "      <th>12406</th>\n",
       "      <td>445D0721DD9E5383</td>\n",
       "      <td>2020-12-21</td>\n",
       "      <td>EU</td>\n",
       "      <td>PC</td>\n",
       "    </tr>\n",
       "    <tr>\n",
       "      <th>5806</th>\n",
       "      <td>737E455A75A554D9</td>\n",
       "      <td>2020-12-14</td>\n",
       "      <td>EU</td>\n",
       "      <td>iPhone</td>\n",
       "    </tr>\n",
       "  </tbody>\n",
       "</table>\n",
       "</div>"
      ],
      "text/plain": [
       "                user_id  first_date     region   device\n",
       "24631  5416B27667290330  2020-12-22  N.America  Android\n",
       "5914   73D9C981F58F142C  2020-12-14         EU      Mac\n",
       "20963  F353A2103A841CC9  2020-12-15  N.America  Android\n",
       "12406  445D0721DD9E5383  2020-12-21         EU       PC\n",
       "5806   737E455A75A554D9  2020-12-14         EU   iPhone"
      ]
     },
     "metadata": {},
     "output_type": "display_data"
    }
   ],
   "source": [
    "# загружаем данные датасета final_ab_new_users.csv,\n",
    "# выводим информацию о датасете,\n",
    "# выводим случайные 5 строк таблицы\n",
    "\n",
    "data_new_users = pd.read_csv('/datasets/final_ab_new_users.csv')\n",
    "data_new_users.info()\n",
    "display(data_new_users.sample(5))"
   ]
  },
  {
   "cell_type": "code",
   "execution_count": 4,
   "metadata": {},
   "outputs": [
    {
     "name": "stdout",
     "output_type": "stream",
     "text": [
      "<class 'pandas.core.frame.DataFrame'>\n",
      "RangeIndex: 440317 entries, 0 to 440316\n",
      "Data columns (total 4 columns):\n",
      " #   Column      Non-Null Count   Dtype  \n",
      "---  ------      --------------   -----  \n",
      " 0   user_id     440317 non-null  object \n",
      " 1   event_dt    440317 non-null  object \n",
      " 2   event_name  440317 non-null  object \n",
      " 3   details     62740 non-null   float64\n",
      "dtypes: float64(1), object(3)\n",
      "memory usage: 13.4+ MB\n"
     ]
    },
    {
     "data": {
      "text/html": [
       "<div>\n",
       "<style scoped>\n",
       "    .dataframe tbody tr th:only-of-type {\n",
       "        vertical-align: middle;\n",
       "    }\n",
       "\n",
       "    .dataframe tbody tr th {\n",
       "        vertical-align: top;\n",
       "    }\n",
       "\n",
       "    .dataframe thead th {\n",
       "        text-align: right;\n",
       "    }\n",
       "</style>\n",
       "<table border=\"1\" class=\"dataframe\">\n",
       "  <thead>\n",
       "    <tr style=\"text-align: right;\">\n",
       "      <th></th>\n",
       "      <th>user_id</th>\n",
       "      <th>event_dt</th>\n",
       "      <th>event_name</th>\n",
       "      <th>details</th>\n",
       "    </tr>\n",
       "  </thead>\n",
       "  <tbody>\n",
       "    <tr>\n",
       "      <th>147210</th>\n",
       "      <td>CFC391588F9B5725</td>\n",
       "      <td>2020-12-12 03:39:55</td>\n",
       "      <td>product_page</td>\n",
       "      <td>NaN</td>\n",
       "    </tr>\n",
       "    <tr>\n",
       "      <th>396349</th>\n",
       "      <td>04169EDF8C3E29D5</td>\n",
       "      <td>2020-12-23 04:59:16</td>\n",
       "      <td>login</td>\n",
       "      <td>NaN</td>\n",
       "    </tr>\n",
       "    <tr>\n",
       "      <th>175537</th>\n",
       "      <td>D6A064E1EE0A32DA</td>\n",
       "      <td>2020-12-17 04:14:10</td>\n",
       "      <td>product_page</td>\n",
       "      <td>NaN</td>\n",
       "    </tr>\n",
       "    <tr>\n",
       "      <th>404463</th>\n",
       "      <td>F97E92F5603B56CD</td>\n",
       "      <td>2020-12-24 20:29:07</td>\n",
       "      <td>login</td>\n",
       "      <td>NaN</td>\n",
       "    </tr>\n",
       "    <tr>\n",
       "      <th>19889</th>\n",
       "      <td>D60249423BFF4B95</td>\n",
       "      <td>2020-12-15 11:04:57</td>\n",
       "      <td>purchase</td>\n",
       "      <td>4.99</td>\n",
       "    </tr>\n",
       "  </tbody>\n",
       "</table>\n",
       "</div>"
      ],
      "text/plain": [
       "                 user_id             event_dt    event_name  details\n",
       "147210  CFC391588F9B5725  2020-12-12 03:39:55  product_page      NaN\n",
       "396349  04169EDF8C3E29D5  2020-12-23 04:59:16         login      NaN\n",
       "175537  D6A064E1EE0A32DA  2020-12-17 04:14:10  product_page      NaN\n",
       "404463  F97E92F5603B56CD  2020-12-24 20:29:07         login      NaN\n",
       "19889   D60249423BFF4B95  2020-12-15 11:04:57      purchase     4.99"
      ]
     },
     "metadata": {},
     "output_type": "display_data"
    }
   ],
   "source": [
    "# загружаем данные датасета final_ab_events.csv,\n",
    "# выводим информацию о датасете,\n",
    "# выводим случайные 5 строк таблицы\n",
    "\n",
    "data_events = pd.read_csv('/datasets/final_ab_events.csv')\n",
    "data_events.info()\n",
    "display(data_events.sample(5))"
   ]
  },
  {
   "cell_type": "code",
   "execution_count": 5,
   "metadata": {},
   "outputs": [
    {
     "name": "stdout",
     "output_type": "stream",
     "text": [
      "<class 'pandas.core.frame.DataFrame'>\n",
      "RangeIndex: 18268 entries, 0 to 18267\n",
      "Data columns (total 3 columns):\n",
      " #   Column   Non-Null Count  Dtype \n",
      "---  ------   --------------  ----- \n",
      " 0   user_id  18268 non-null  object\n",
      " 1   group    18268 non-null  object\n",
      " 2   ab_test  18268 non-null  object\n",
      "dtypes: object(3)\n",
      "memory usage: 428.3+ KB\n"
     ]
    },
    {
     "data": {
      "text/html": [
       "<div>\n",
       "<style scoped>\n",
       "    .dataframe tbody tr th:only-of-type {\n",
       "        vertical-align: middle;\n",
       "    }\n",
       "\n",
       "    .dataframe tbody tr th {\n",
       "        vertical-align: top;\n",
       "    }\n",
       "\n",
       "    .dataframe thead th {\n",
       "        text-align: right;\n",
       "    }\n",
       "</style>\n",
       "<table border=\"1\" class=\"dataframe\">\n",
       "  <thead>\n",
       "    <tr style=\"text-align: right;\">\n",
       "      <th></th>\n",
       "      <th>user_id</th>\n",
       "      <th>group</th>\n",
       "      <th>ab_test</th>\n",
       "    </tr>\n",
       "  </thead>\n",
       "  <tbody>\n",
       "    <tr>\n",
       "      <th>6977</th>\n",
       "      <td>D673BA7586699E6B</td>\n",
       "      <td>A</td>\n",
       "      <td>interface_eu_test</td>\n",
       "    </tr>\n",
       "    <tr>\n",
       "      <th>16914</th>\n",
       "      <td>E38564BBA19337BE</td>\n",
       "      <td>A</td>\n",
       "      <td>interface_eu_test</td>\n",
       "    </tr>\n",
       "    <tr>\n",
       "      <th>501</th>\n",
       "      <td>179F49110E880D42</td>\n",
       "      <td>A</td>\n",
       "      <td>recommender_system_test</td>\n",
       "    </tr>\n",
       "    <tr>\n",
       "      <th>15769</th>\n",
       "      <td>88D1DFF676F76332</td>\n",
       "      <td>B</td>\n",
       "      <td>interface_eu_test</td>\n",
       "    </tr>\n",
       "    <tr>\n",
       "      <th>7821</th>\n",
       "      <td>5D689ED21CBB26CC</td>\n",
       "      <td>B</td>\n",
       "      <td>interface_eu_test</td>\n",
       "    </tr>\n",
       "  </tbody>\n",
       "</table>\n",
       "</div>"
      ],
      "text/plain": [
       "                user_id group                  ab_test\n",
       "6977   D673BA7586699E6B     A        interface_eu_test\n",
       "16914  E38564BBA19337BE     A        interface_eu_test\n",
       "501    179F49110E880D42     A  recommender_system_test\n",
       "15769  88D1DFF676F76332     B        interface_eu_test\n",
       "7821   5D689ED21CBB26CC     B        interface_eu_test"
      ]
     },
     "metadata": {},
     "output_type": "display_data"
    }
   ],
   "source": [
    "# загружаем данные датасета final_ab_participants.csv,\n",
    "# выводим информацию о датасете,\n",
    "# выводим случайные 5 строк таблицы\n",
    "\n",
    "data_participants = pd.read_csv('/datasets/final_ab_participants.csv')\n",
    "data_participants.info()\n",
    "display(data_participants.sample(5))"
   ]
  },
  {
   "cell_type": "code",
   "execution_count": 6,
   "metadata": {},
   "outputs": [
    {
     "data": {
      "text/html": [
       "<div>\n",
       "<style scoped>\n",
       "    .dataframe tbody tr th:only-of-type {\n",
       "        vertical-align: middle;\n",
       "    }\n",
       "\n",
       "    .dataframe tbody tr th {\n",
       "        vertical-align: top;\n",
       "    }\n",
       "\n",
       "    .dataframe thead th {\n",
       "        text-align: right;\n",
       "    }\n",
       "</style>\n",
       "<table border=\"1\" class=\"dataframe\">\n",
       "  <thead>\n",
       "    <tr style=\"text-align: right;\">\n",
       "      <th></th>\n",
       "      <th>name</th>\n",
       "      <th>regions</th>\n",
       "      <th>start_dt</th>\n",
       "      <th>finish_dt</th>\n",
       "    </tr>\n",
       "  </thead>\n",
       "  <tbody>\n",
       "    <tr>\n",
       "      <th>0</th>\n",
       "      <td>christmas&amp;new year promo</td>\n",
       "      <td>eu, n.america</td>\n",
       "      <td>2020-12-25</td>\n",
       "      <td>2021-01-03</td>\n",
       "    </tr>\n",
       "    <tr>\n",
       "      <th>1</th>\n",
       "      <td>st. valentine's day giveaway</td>\n",
       "      <td>eu, cis, apac, n.america</td>\n",
       "      <td>2020-02-14</td>\n",
       "      <td>2020-02-16</td>\n",
       "    </tr>\n",
       "  </tbody>\n",
       "</table>\n",
       "</div>"
      ],
      "text/plain": [
       "                           name                   regions    start_dt  \\\n",
       "0      christmas&new year promo             eu, n.america  2020-12-25   \n",
       "1  st. valentine's day giveaway  eu, cis, apac, n.america  2020-02-14   \n",
       "\n",
       "    finish_dt  \n",
       "0  2021-01-03  \n",
       "1  2020-02-16  "
      ]
     },
     "metadata": {},
     "output_type": "display_data"
    },
    {
     "data": {
      "text/html": [
       "<div>\n",
       "<style scoped>\n",
       "    .dataframe tbody tr th:only-of-type {\n",
       "        vertical-align: middle;\n",
       "    }\n",
       "\n",
       "    .dataframe tbody tr th {\n",
       "        vertical-align: top;\n",
       "    }\n",
       "\n",
       "    .dataframe thead th {\n",
       "        text-align: right;\n",
       "    }\n",
       "</style>\n",
       "<table border=\"1\" class=\"dataframe\">\n",
       "  <thead>\n",
       "    <tr style=\"text-align: right;\">\n",
       "      <th></th>\n",
       "      <th>user_id</th>\n",
       "      <th>first_date</th>\n",
       "      <th>region</th>\n",
       "      <th>device</th>\n",
       "    </tr>\n",
       "  </thead>\n",
       "  <tbody>\n",
       "    <tr>\n",
       "      <th>0</th>\n",
       "      <td>d72a72121175d8be</td>\n",
       "      <td>2020-12-07</td>\n",
       "      <td>eu</td>\n",
       "      <td>pc</td>\n",
       "    </tr>\n",
       "    <tr>\n",
       "      <th>1</th>\n",
       "      <td>f1c668619dfe6e65</td>\n",
       "      <td>2020-12-07</td>\n",
       "      <td>n.america</td>\n",
       "      <td>android</td>\n",
       "    </tr>\n",
       "  </tbody>\n",
       "</table>\n",
       "</div>"
      ],
      "text/plain": [
       "            user_id  first_date     region   device\n",
       "0  d72a72121175d8be  2020-12-07         eu       pc\n",
       "1  f1c668619dfe6e65  2020-12-07  n.america  android"
      ]
     },
     "metadata": {},
     "output_type": "display_data"
    },
    {
     "data": {
      "text/html": [
       "<div>\n",
       "<style scoped>\n",
       "    .dataframe tbody tr th:only-of-type {\n",
       "        vertical-align: middle;\n",
       "    }\n",
       "\n",
       "    .dataframe tbody tr th {\n",
       "        vertical-align: top;\n",
       "    }\n",
       "\n",
       "    .dataframe thead th {\n",
       "        text-align: right;\n",
       "    }\n",
       "</style>\n",
       "<table border=\"1\" class=\"dataframe\">\n",
       "  <thead>\n",
       "    <tr style=\"text-align: right;\">\n",
       "      <th></th>\n",
       "      <th>user_id</th>\n",
       "      <th>group</th>\n",
       "      <th>ab_test</th>\n",
       "    </tr>\n",
       "  </thead>\n",
       "  <tbody>\n",
       "    <tr>\n",
       "      <th>0</th>\n",
       "      <td>d1aba3e2887b6a73</td>\n",
       "      <td>a</td>\n",
       "      <td>recommender_system_test</td>\n",
       "    </tr>\n",
       "    <tr>\n",
       "      <th>1</th>\n",
       "      <td>a7a3664bd6242119</td>\n",
       "      <td>a</td>\n",
       "      <td>recommender_system_test</td>\n",
       "    </tr>\n",
       "  </tbody>\n",
       "</table>\n",
       "</div>"
      ],
      "text/plain": [
       "            user_id group                  ab_test\n",
       "0  d1aba3e2887b6a73     a  recommender_system_test\n",
       "1  a7a3664bd6242119     a  recommender_system_test"
      ]
     },
     "metadata": {},
     "output_type": "display_data"
    },
    {
     "data": {
      "text/html": [
       "<div>\n",
       "<style scoped>\n",
       "    .dataframe tbody tr th:only-of-type {\n",
       "        vertical-align: middle;\n",
       "    }\n",
       "\n",
       "    .dataframe tbody tr th {\n",
       "        vertical-align: top;\n",
       "    }\n",
       "\n",
       "    .dataframe thead th {\n",
       "        text-align: right;\n",
       "    }\n",
       "</style>\n",
       "<table border=\"1\" class=\"dataframe\">\n",
       "  <thead>\n",
       "    <tr style=\"text-align: right;\">\n",
       "      <th></th>\n",
       "      <th>user_id</th>\n",
       "      <th>event_dt</th>\n",
       "      <th>event_name</th>\n",
       "      <th>details</th>\n",
       "    </tr>\n",
       "  </thead>\n",
       "  <tbody>\n",
       "    <tr>\n",
       "      <th>0</th>\n",
       "      <td>e1bddce0dafa2679</td>\n",
       "      <td>2020-12-07 20:22:03</td>\n",
       "      <td>purchase</td>\n",
       "      <td>99.99</td>\n",
       "    </tr>\n",
       "    <tr>\n",
       "      <th>1</th>\n",
       "      <td>7b6452f081f49504</td>\n",
       "      <td>2020-12-07 09:22:53</td>\n",
       "      <td>purchase</td>\n",
       "      <td>9.99</td>\n",
       "    </tr>\n",
       "  </tbody>\n",
       "</table>\n",
       "</div>"
      ],
      "text/plain": [
       "            user_id             event_dt event_name  details\n",
       "0  e1bddce0dafa2679  2020-12-07 20:22:03   purchase    99.99\n",
       "1  7b6452f081f49504  2020-12-07 09:22:53   purchase     9.99"
      ]
     },
     "metadata": {},
     "output_type": "display_data"
    }
   ],
   "source": [
    "# создаем циклы,\n",
    "# приводим данные в таблицах data_marketing_events, data_new_users, data_events, data_participants к нижнему регистру,\n",
    "# таблицу data_events обрабатываем отдельно, т.к. она имеет в своем составе тип данных float64\n",
    "\n",
    "for df in [data_marketing_events, data_new_users, data_participants]:\n",
    "    for column in df:\n",
    "        df[column] = df[column].str.lower()\n",
    "    display(df.head(2))\n",
    "\n",
    "for column in ['user_id', 'event_dt', 'event_name']:\n",
    "    data_events[column] = data_events[column].str.lower()\n",
    "display(data_events.head(2))  "
   ]
  },
  {
   "cell_type": "code",
   "execution_count": 7,
   "metadata": {},
   "outputs": [
    {
     "data": {
      "text/plain": [
       "name                 object\n",
       "regions              object\n",
       "start_dt     datetime64[ns]\n",
       "finish_dt    datetime64[ns]\n",
       "dtype: object"
      ]
     },
     "metadata": {},
     "output_type": "display_data"
    },
    {
     "data": {
      "text/plain": [
       "user_id               object\n",
       "event_dt      datetime64[ns]\n",
       "event_name            object\n",
       "details              float64\n",
       "dtype: object"
      ]
     },
     "metadata": {},
     "output_type": "display_data"
    },
    {
     "data": {
      "text/plain": [
       "user_id               object\n",
       "first_date    datetime64[ns]\n",
       "region                object\n",
       "device                object\n",
       "dtype: object"
      ]
     },
     "metadata": {},
     "output_type": "display_data"
    }
   ],
   "source": [
    "# приводим данные о датах в таблицах data_marketing_events, data_new_users, data_events к типу 'datetime64'\n",
    "\n",
    "data_marketing_events['start_dt'] = pd.to_datetime(data_marketing_events['start_dt'], yearfirst=True)\n",
    "data_marketing_events['finish_dt'] = pd.to_datetime(data_marketing_events['finish_dt'], yearfirst=True)\n",
    "display(data_marketing_events.dtypes)\n",
    "\n",
    "data_events['event_dt'] = pd.to_datetime(data_events['event_dt'], yearfirst=True)\n",
    "display(data_events.dtypes)\n",
    "\n",
    "data_new_users['first_date'] = pd.to_datetime(data_new_users['first_date'], yearfirst=True)\n",
    "display(data_new_users.dtypes)"
   ]
  },
  {
   "cell_type": "code",
   "execution_count": 8,
   "metadata": {},
   "outputs": [
    {
     "name": "stdout",
     "output_type": "stream",
     "text": [
      "Количество пропущенных значений в таблице:\n",
      " name         0\n",
      "regions      0\n",
      "start_dt     0\n",
      "finish_dt    0\n",
      "dtype: int64\n",
      "Количество пропущенных значений в таблице:\n",
      " user_id       0\n",
      "first_date    0\n",
      "region        0\n",
      "device        0\n",
      "dtype: int64\n",
      "Количество пропущенных значений в таблице:\n",
      " user_id    0\n",
      "group      0\n",
      "ab_test    0\n",
      "dtype: int64\n",
      "Количество пропущенных значений в таблице:\n",
      " user_id            0\n",
      "event_dt           0\n",
      "event_name         0\n",
      "details       377577\n",
      "dtype: int64\n"
     ]
    }
   ],
   "source": [
    "# создаем цикл,\n",
    "# проверяем наличие пропусков в таблицах data_marketing_events, data_new_users, data_events, data_participants\n",
    "\n",
    "for df in [data_marketing_events, data_new_users, data_participants, data_events]:\n",
    "    print('Количество пропущенных значений в таблице:\\n',df.isna().sum())\n"
   ]
  },
  {
   "cell_type": "code",
   "execution_count": 9,
   "metadata": {},
   "outputs": [
    {
     "name": "stdout",
     "output_type": "stream",
     "text": [
      "Количество дубликатов в таблице:\n",
      " 0\n",
      "Количество дубликатов в таблице:\n",
      " 0\n",
      "Количество дубликатов в таблице:\n",
      " 0\n",
      "Количество дубликатов в таблице:\n",
      " 0\n"
     ]
    }
   ],
   "source": [
    "# создаем цикл,\n",
    "# проверяем наличие дубликатов в таблицах data_marketing_events, data_new_users, data_events, data_participants\n",
    "\n",
    "for df in [data_marketing_events, data_new_users, data_participants, data_events]:\n",
    "    print('Количество дубликатов в таблице:\\n', df.duplicated().sum())\n"
   ]
  },
  {
   "cell_type": "markdown",
   "metadata": {},
   "source": [
    "### Выводы\n",
    "\n",
    "* информация представлена в 4-х датасетах:\n",
    ">\n",
    "> **календарь маркетинговых событий на 2020 год** - data_marketing_events = 14 записей в 4 колонках\n",
    ">\n",
    "> **пользователи, зарегистрировавшиеся с 7 по 21 декабря 2020 года** - data_new_users = 61 733 записи в 4 колонках\n",
    ">\n",
    "> **действия новых пользователей в период с 7 декабря 2020 по 4 января 2021 года** - data_events = 440 317 записей в 4 колонках\n",
    ">\n",
    "> **таблица участников тестов** - data_participants = 18 268 записей в 3 колонках\n",
    ">\n",
    "* датасеты *data_new_users, data_events и data_participants* содержат уникальные номера пользователей *user_id* на основе которых возможно объединение информации\n",
    "* назчания колонок во всех датасетах прописаны в ожидаемом формате\n",
    "* в качестве преобразования все записи в датасетах приведены к нижнему регистру\n",
    "* информация о датах в таблицах *data_marketing_events, data_new_users, data_events* приведена к типу *datetime64*\n",
    "* пропуски присутствует только в талице *data_events* в колонке *details* = 377 577 пропусков\n",
    "* дубликаты в таблицах не выявлены"
   ]
  },
  {
   "cell_type": "markdown",
   "metadata": {},
   "source": [
    "## Исследовательский анализ данных EDA"
   ]
  },
  {
   "cell_type": "markdown",
   "metadata": {},
   "source": [
    "**Задача:**\n",
    "* проверить пересечение тестовой аудитории с конкурирующим тестом\n",
    "* проверить принадлежность пользователей к региону EU\n",
    "* проверить совпадение теста и меркетинговых событий\n",
    "* определить наличие проблем временных границ теста\n",
    "* проверить корректность распределения внутри теста между граппами А и В\n",
    "* проанализировать изменение конверсии в воронке на разных этапах\n",
    "* проверить эдентичность распределения кол-ва событий на пользователя в выборках\n",
    "* проверить распределение числа событий по дням"
   ]
  },
  {
   "cell_type": "markdown",
   "metadata": {},
   "source": [
    "### Проверка пересечения тестовой аудитории с конкурирующим тестом"
   ]
  },
  {
   "cell_type": "code",
   "execution_count": 10,
   "metadata": {},
   "outputs": [
    {
     "data": {
      "text/html": [
       "<div>\n",
       "<style scoped>\n",
       "    .dataframe tbody tr th:only-of-type {\n",
       "        vertical-align: middle;\n",
       "    }\n",
       "\n",
       "    .dataframe tbody tr th {\n",
       "        vertical-align: top;\n",
       "    }\n",
       "\n",
       "    .dataframe thead th {\n",
       "        text-align: right;\n",
       "    }\n",
       "</style>\n",
       "<table border=\"1\" class=\"dataframe\">\n",
       "  <thead>\n",
       "    <tr style=\"text-align: right;\">\n",
       "      <th>ab_test</th>\n",
       "      <th>interface_eu_test</th>\n",
       "      <th>recommender_system_test</th>\n",
       "    </tr>\n",
       "    <tr>\n",
       "      <th>user_id</th>\n",
       "      <th></th>\n",
       "      <th></th>\n",
       "    </tr>\n",
       "  </thead>\n",
       "  <tbody>\n",
       "    <tr>\n",
       "      <th>bdd4ac0ca848f33a</th>\n",
       "      <td>1.0</td>\n",
       "      <td>NaN</td>\n",
       "    </tr>\n",
       "    <tr>\n",
       "      <th>4e24530ab40d2101</th>\n",
       "      <td>NaN</td>\n",
       "      <td>1.0</td>\n",
       "    </tr>\n",
       "  </tbody>\n",
       "</table>\n",
       "</div>"
      ],
      "text/plain": [
       "ab_test           interface_eu_test  recommender_system_test\n",
       "user_id                                                     \n",
       "bdd4ac0ca848f33a                1.0                      NaN\n",
       "4e24530ab40d2101                NaN                      1.0"
      ]
     },
     "metadata": {},
     "output_type": "display_data"
    },
    {
     "data": {
      "text/html": [
       "<div>\n",
       "<style scoped>\n",
       "    .dataframe tbody tr th:only-of-type {\n",
       "        vertical-align: middle;\n",
       "    }\n",
       "\n",
       "    .dataframe tbody tr th {\n",
       "        vertical-align: top;\n",
       "    }\n",
       "\n",
       "    .dataframe thead th {\n",
       "        text-align: right;\n",
       "    }\n",
       "</style>\n",
       "<table border=\"1\" class=\"dataframe\">\n",
       "  <thead>\n",
       "    <tr style=\"text-align: right;\">\n",
       "      <th></th>\n",
       "      <th>interface_eu_test</th>\n",
       "      <th>recommender_system_test</th>\n",
       "    </tr>\n",
       "    <tr>\n",
       "      <th>group_id</th>\n",
       "      <th></th>\n",
       "      <th></th>\n",
       "    </tr>\n",
       "  </thead>\n",
       "  <tbody>\n",
       "    <tr>\n",
       "      <th>1.0</th>\n",
       "      <td>9965.0</td>\n",
       "      <td>5099.0</td>\n",
       "    </tr>\n",
       "    <tr>\n",
       "      <th>2.0</th>\n",
       "      <td>1602.0</td>\n",
       "      <td>1602.0</td>\n",
       "    </tr>\n",
       "  </tbody>\n",
       "</table>\n",
       "</div>"
      ],
      "text/plain": [
       "          interface_eu_test  recommender_system_test\n",
       "group_id                                            \n",
       "1.0                  9965.0                   5099.0\n",
       "2.0                  1602.0                   1602.0"
      ]
     },
     "metadata": {},
     "output_type": "display_data"
    }
   ],
   "source": [
    "# создаем таблицу на проверку пересечений уникального пользователя в разных тестах\n",
    "\n",
    "data_test_split = data_participants.pivot_table(index = 'user_id', columns = 'ab_test', values = 'group', aggfunc = 'count')\n",
    "display(data_test_split.sample(2))\n",
    "\n",
    "# добавляем колонку group_id:\n",
    "# если сумма = 1, пользователь встречается только в 1 группе, если 2 - в обеих группах,\n",
    "# выводим кол-во участников в каждой группе тестов\n",
    "\n",
    "data_test_split['group_id'] = data_test_split.sum(axis=1)\n",
    "display(data_test_split.groupby('group_id').agg({'interface_eu_test':'sum', 'recommender_system_test':'sum'}))"
   ]
  },
  {
   "cell_type": "markdown",
   "metadata": {},
   "source": [
    "**Выводы по расчетам:**\n",
    "* всего информация о распределении по группам и по тестам представлена о **16 666** пользоватеях\n",
    "* **interface_eu_test** получил список из 9 965 уникальных пользователей\n",
    "* **recommender_system_test** (интересуемый нас тест) получил список из 5 099 уникальных пользователей, что не совпадает с техническим задаем, согласно которому *ожидаемое количество участников теста: 6 000*\n",
    "* 1 602 пользователя оказались распределенными в оба теста\n",
    "* если даты тестов совпадают или пересекаются, это может стать критической ошибкой, т.к. невозможно определить что именно: изменение интерфейса или изменения в рекмендательной системе повлияли на изменение конверсии по ключевым метрикам"
   ]
  },
  {
   "cell_type": "markdown",
   "metadata": {},
   "source": [
    "### Проверка пользователей на принадлежность к региону EU"
   ]
  },
  {
   "cell_type": "code",
   "execution_count": 11,
   "metadata": {},
   "outputs": [
    {
     "data": {
      "text/plain": [
       "(5099, 3)"
      ]
     },
     "metadata": {},
     "output_type": "display_data"
    }
   ],
   "source": [
    "# создаем список уникальных пользователей, распределенных в recommender_system_test\n",
    "\n",
    "test_user_id_pure = data_test_split[(data_test_split['recommender_system_test'] == 1)\\\n",
    "                               & (data_test_split['interface_eu_test'] != 1)]\n",
    "display(test_user_id_pure.shape)"
   ]
  },
  {
   "cell_type": "code",
   "execution_count": 12,
   "metadata": {},
   "outputs": [
    {
     "data": {
      "text/html": [
       "<div>\n",
       "<style scoped>\n",
       "    .dataframe tbody tr th:only-of-type {\n",
       "        vertical-align: middle;\n",
       "    }\n",
       "\n",
       "    .dataframe tbody tr th {\n",
       "        vertical-align: top;\n",
       "    }\n",
       "\n",
       "    .dataframe thead th {\n",
       "        text-align: right;\n",
       "    }\n",
       "</style>\n",
       "<table border=\"1\" class=\"dataframe\">\n",
       "  <thead>\n",
       "    <tr style=\"text-align: right;\">\n",
       "      <th></th>\n",
       "      <th>user_id</th>\n",
       "    </tr>\n",
       "    <tr>\n",
       "      <th>region</th>\n",
       "      <th></th>\n",
       "    </tr>\n",
       "  </thead>\n",
       "  <tbody>\n",
       "    <tr>\n",
       "      <th>apac</th>\n",
       "      <td>72</td>\n",
       "    </tr>\n",
       "    <tr>\n",
       "      <th>cis</th>\n",
       "      <td>55</td>\n",
       "    </tr>\n",
       "    <tr>\n",
       "      <th>eu</th>\n",
       "      <td>4749</td>\n",
       "    </tr>\n",
       "    <tr>\n",
       "      <th>n.america</th>\n",
       "      <td>223</td>\n",
       "    </tr>\n",
       "  </tbody>\n",
       "</table>\n",
       "</div>"
      ],
      "text/plain": [
       "           user_id\n",
       "region            \n",
       "apac            72\n",
       "cis             55\n",
       "eu            4749\n",
       "n.america      223"
      ]
     },
     "metadata": {},
     "output_type": "display_data"
    }
   ],
   "source": [
    "# объединяем таблицы test_user_id_pure и data_new_users,\n",
    "# проверяем рспределение пользователей по регионам\n",
    "\n",
    "test_user_id_pure_reg = test_user_id_pure.merge(data_new_users, on = 'user_id', how = 'left')\n",
    "display(test_user_id_pure_reg.groupby('region').agg({'user_id':'nunique'}))"
   ]
  },
  {
   "cell_type": "code",
   "execution_count": 13,
   "metadata": {},
   "outputs": [
    {
     "data": {
      "text/plain": [
       "(4749, 7)"
      ]
     },
     "metadata": {},
     "output_type": "display_data"
    },
    {
     "data": {
      "text/html": [
       "<div>\n",
       "<style scoped>\n",
       "    .dataframe tbody tr th:only-of-type {\n",
       "        vertical-align: middle;\n",
       "    }\n",
       "\n",
       "    .dataframe tbody tr th {\n",
       "        vertical-align: top;\n",
       "    }\n",
       "\n",
       "    .dataframe thead th {\n",
       "        text-align: right;\n",
       "    }\n",
       "</style>\n",
       "<table border=\"1\" class=\"dataframe\">\n",
       "  <thead>\n",
       "    <tr style=\"text-align: right;\">\n",
       "      <th></th>\n",
       "      <th>user_id</th>\n",
       "      <th>interface_eu_test</th>\n",
       "      <th>recommender_system_test</th>\n",
       "      <th>group_id</th>\n",
       "      <th>first_date</th>\n",
       "      <th>region</th>\n",
       "      <th>device</th>\n",
       "    </tr>\n",
       "  </thead>\n",
       "  <tbody>\n",
       "    <tr>\n",
       "      <th>3873</th>\n",
       "      <td>c13e8869b81d02ff</td>\n",
       "      <td>NaN</td>\n",
       "      <td>1.0</td>\n",
       "      <td>1.0</td>\n",
       "      <td>2020-12-20</td>\n",
       "      <td>eu</td>\n",
       "      <td>mac</td>\n",
       "    </tr>\n",
       "    <tr>\n",
       "      <th>1362</th>\n",
       "      <td>4532216377f3aaf1</td>\n",
       "      <td>NaN</td>\n",
       "      <td>1.0</td>\n",
       "      <td>1.0</td>\n",
       "      <td>2020-12-15</td>\n",
       "      <td>eu</td>\n",
       "      <td>android</td>\n",
       "    </tr>\n",
       "  </tbody>\n",
       "</table>\n",
       "</div>"
      ],
      "text/plain": [
       "               user_id  interface_eu_test  recommender_system_test  group_id  \\\n",
       "3873  c13e8869b81d02ff                NaN                      1.0       1.0   \n",
       "1362  4532216377f3aaf1                NaN                      1.0       1.0   \n",
       "\n",
       "     first_date region   device  \n",
       "3873 2020-12-20     eu      mac  \n",
       "1362 2020-12-15     eu  android  "
      ]
     },
     "metadata": {},
     "output_type": "display_data"
    }
   ],
   "source": [
    "# согласно Техническому Заданию отфильтровываем пользователей не из региона EU\n",
    "\n",
    "test_user_id_pure_reg_eu = test_user_id_pure_reg[test_user_id_pure_reg['region'] == 'eu']\n",
    "display(test_user_id_pure_reg_eu.shape)\n",
    "display(test_user_id_pure_reg_eu.sample(2))"
   ]
  },
  {
   "cell_type": "code",
   "execution_count": 14,
   "metadata": {},
   "outputs": [
    {
     "data": {
      "text/plain": [
       "(1602, 3)"
      ]
     },
     "metadata": {},
     "output_type": "display_data"
    },
    {
     "data": {
      "text/html": [
       "<div>\n",
       "<style scoped>\n",
       "    .dataframe tbody tr th:only-of-type {\n",
       "        vertical-align: middle;\n",
       "    }\n",
       "\n",
       "    .dataframe tbody tr th {\n",
       "        vertical-align: top;\n",
       "    }\n",
       "\n",
       "    .dataframe thead th {\n",
       "        text-align: right;\n",
       "    }\n",
       "</style>\n",
       "<table border=\"1\" class=\"dataframe\">\n",
       "  <thead>\n",
       "    <tr style=\"text-align: right;\">\n",
       "      <th>ab_test</th>\n",
       "      <th>interface_eu_test</th>\n",
       "      <th>recommender_system_test</th>\n",
       "      <th>group_id</th>\n",
       "    </tr>\n",
       "    <tr>\n",
       "      <th>user_id</th>\n",
       "      <th></th>\n",
       "      <th></th>\n",
       "      <th></th>\n",
       "    </tr>\n",
       "  </thead>\n",
       "  <tbody>\n",
       "    <tr>\n",
       "      <th>958426148afa05c5</th>\n",
       "      <td>1.0</td>\n",
       "      <td>1.0</td>\n",
       "      <td>2.0</td>\n",
       "    </tr>\n",
       "    <tr>\n",
       "      <th>c4876a46378bf2e7</th>\n",
       "      <td>1.0</td>\n",
       "      <td>1.0</td>\n",
       "      <td>2.0</td>\n",
       "    </tr>\n",
       "  </tbody>\n",
       "</table>\n",
       "</div>"
      ],
      "text/plain": [
       "ab_test           interface_eu_test  recommender_system_test  group_id\n",
       "user_id                                                               \n",
       "958426148afa05c5                1.0                      1.0       2.0\n",
       "c4876a46378bf2e7                1.0                      1.0       2.0"
      ]
     },
     "metadata": {},
     "output_type": "display_data"
    }
   ],
   "source": [
    "# создаем список перекрестных пользователей, распределенных в оба теста\n",
    "\n",
    "test_user_id_mix = data_test_split[(data_test_split['recommender_system_test'] == 1)\\\n",
    "                               & (data_test_split['interface_eu_test'] == 1)]\n",
    "display(test_user_id_mix.shape)\n",
    "display(test_user_id_mix.sample(2))"
   ]
  },
  {
   "cell_type": "code",
   "execution_count": 15,
   "metadata": {},
   "outputs": [
    {
     "data": {
      "text/html": [
       "<div>\n",
       "<style scoped>\n",
       "    .dataframe tbody tr th:only-of-type {\n",
       "        vertical-align: middle;\n",
       "    }\n",
       "\n",
       "    .dataframe tbody tr th {\n",
       "        vertical-align: top;\n",
       "    }\n",
       "\n",
       "    .dataframe thead th {\n",
       "        text-align: right;\n",
       "    }\n",
       "</style>\n",
       "<table border=\"1\" class=\"dataframe\">\n",
       "  <thead>\n",
       "    <tr style=\"text-align: right;\">\n",
       "      <th></th>\n",
       "      <th>user_id</th>\n",
       "    </tr>\n",
       "    <tr>\n",
       "      <th>region</th>\n",
       "      <th></th>\n",
       "    </tr>\n",
       "  </thead>\n",
       "  <tbody>\n",
       "    <tr>\n",
       "      <th>eu</th>\n",
       "      <td>1602</td>\n",
       "    </tr>\n",
       "  </tbody>\n",
       "</table>\n",
       "</div>"
      ],
      "text/plain": [
       "        user_id\n",
       "region         \n",
       "eu         1602"
      ]
     },
     "metadata": {},
     "output_type": "display_data"
    }
   ],
   "source": [
    "# объединяем таблицы test_user_id и data_new_users,\n",
    "# проверяем рспределение пользователей по регионам\n",
    "\n",
    "test_user_id_mix_reg = test_user_id_mix.merge(data_new_users, on = 'user_id', how = 'left')\n",
    "display(test_user_id_mix_reg.groupby('region').agg({'user_id':'nunique'}))"
   ]
  },
  {
   "cell_type": "markdown",
   "metadata": {},
   "source": [
    "**Выводы по расчетам:**\n",
    "* выборка уникальных пользователей, отобранных для теста recommender_system_test показала, что в список попали 350 пользователей не из региона EU, что противоречит Техническому Заданию\n",
    "* уникальные пользователи не из региона EU были отфильтрованы и список участников теста сократился до 4 749 уникальных пользователей\n",
    "* проверка пользователей, распределенных в оба теста, показала, что они все из региона EU"
   ]
  },
  {
   "cell_type": "markdown",
   "metadata": {},
   "source": [
    "### Проверка дат регистрации пользователей - участников теста "
   ]
  },
  {
   "cell_type": "code",
   "execution_count": 16,
   "metadata": {},
   "outputs": [
    {
     "data": {
      "text/plain": [
       "(4749, 4)"
      ]
     },
     "metadata": {},
     "output_type": "display_data"
    }
   ],
   "source": [
    "# проверяем даты регистрации уникальных пользователей\n",
    "# делаем выборку уникальных пользователей нашего теста из общего списка зарегистрированных пользователей,\n",
    "# фильтруем выборку согласно технического Задания (дата запуска: 2020-12-07,\n",
    "# дата остановки набора новых пользователей: 2020-12-21)\n",
    "\n",
    "df_pure = data_new_users[(data_new_users['user_id'].isin(test_user_id_pure_reg_eu['user_id']))]\n",
    "\n",
    "df_pure = df_pure[df_pure['first_date'].between('2020-12-07', '2020-12-21')]\n",
    "display(df_pure.shape)"
   ]
  },
  {
   "cell_type": "code",
   "execution_count": 17,
   "metadata": {},
   "outputs": [
    {
     "data": {
      "text/plain": [
       "(1602, 4)"
      ]
     },
     "metadata": {},
     "output_type": "display_data"
    }
   ],
   "source": [
    "# проверяем даты регистрации пользователей, распределенных в оба теста\n",
    "# делаем выборку пересекшихся пользователей из общего списка зарегистрированных пользователей,\n",
    "# фильтруем выборку согласно технического Задания (дата запуска: 2020-12-07,\n",
    "# дата остановки набора новых пользователей: 2020-12-21)\n",
    "\n",
    "df_mix = data_new_users[(data_new_users['user_id'].isin(test_user_id_mix.index))]\n",
    "\n",
    "df_mix = df_mix[df_mix['first_date'].between('2020-12-07', '2020-12-21')]\n",
    "display(df_mix.shape)"
   ]
  },
  {
   "cell_type": "markdown",
   "metadata": {},
   "source": [
    "**выводы по расчетам:**\n",
    "* проверка дат регистрации не выявила в списке теста пользователей, которые зарегистрировались вне периода эксперимента"
   ]
  },
  {
   "cell_type": "markdown",
   "metadata": {},
   "source": [
    "### Проверка пересечения с маркетинговыми событиями"
   ]
  },
  {
   "cell_type": "code",
   "execution_count": 18,
   "metadata": {},
   "outputs": [
    {
     "data": {
      "text/html": [
       "<div>\n",
       "<style scoped>\n",
       "    .dataframe tbody tr th:only-of-type {\n",
       "        vertical-align: middle;\n",
       "    }\n",
       "\n",
       "    .dataframe tbody tr th {\n",
       "        vertical-align: top;\n",
       "    }\n",
       "\n",
       "    .dataframe thead th {\n",
       "        text-align: right;\n",
       "    }\n",
       "</style>\n",
       "<table border=\"1\" class=\"dataframe\">\n",
       "  <thead>\n",
       "    <tr style=\"text-align: right;\">\n",
       "      <th></th>\n",
       "      <th>name</th>\n",
       "      <th>regions</th>\n",
       "      <th>start_dt</th>\n",
       "      <th>finish_dt</th>\n",
       "    </tr>\n",
       "  </thead>\n",
       "  <tbody>\n",
       "    <tr>\n",
       "      <th>0</th>\n",
       "      <td>christmas&amp;new year promo</td>\n",
       "      <td>eu, n.america</td>\n",
       "      <td>2020-12-25</td>\n",
       "      <td>2021-01-03</td>\n",
       "    </tr>\n",
       "    <tr>\n",
       "      <th>10</th>\n",
       "      <td>cis new year gift lottery</td>\n",
       "      <td>cis</td>\n",
       "      <td>2020-12-30</td>\n",
       "      <td>2021-01-07</td>\n",
       "    </tr>\n",
       "  </tbody>\n",
       "</table>\n",
       "</div>"
      ],
      "text/plain": [
       "                         name        regions   start_dt  finish_dt\n",
       "0    christmas&new year promo  eu, n.america 2020-12-25 2021-01-03\n",
       "10  cis new year gift lottery            cis 2020-12-30 2021-01-07"
      ]
     },
     "metadata": {},
     "output_type": "display_data"
    }
   ],
   "source": [
    "# выводим события, которые накладываются на даты проведения теста\n",
    "\n",
    "data_marketing_events_focus = data_marketing_events[data_marketing_events['finish_dt'] > '2020-12-07']\n",
    "display(data_marketing_events_focus)"
   ]
  },
  {
   "cell_type": "markdown",
   "metadata": {},
   "source": [
    "**Выводы по вычислениям:**\n",
    "* по датам и по региону проведения тест совпадает с новогодним промо, что может исказить результаты теста"
   ]
  },
  {
   "cell_type": "markdown",
   "metadata": {},
   "source": [
    "### Проверка наличия событий у уникальных пользователей во время эксперимента"
   ]
  },
  {
   "cell_type": "code",
   "execution_count": 19,
   "metadata": {},
   "outputs": [
    {
     "data": {
      "text/html": [
       "<div>\n",
       "<style scoped>\n",
       "    .dataframe tbody tr th:only-of-type {\n",
       "        vertical-align: middle;\n",
       "    }\n",
       "\n",
       "    .dataframe tbody tr th {\n",
       "        vertical-align: top;\n",
       "    }\n",
       "\n",
       "    .dataframe thead th {\n",
       "        text-align: right;\n",
       "    }\n",
       "</style>\n",
       "<table border=\"1\" class=\"dataframe\">\n",
       "  <thead>\n",
       "    <tr style=\"text-align: right;\">\n",
       "      <th></th>\n",
       "      <th>event_name</th>\n",
       "      <th>user_id</th>\n",
       "    </tr>\n",
       "  </thead>\n",
       "  <tbody>\n",
       "    <tr>\n",
       "      <th>0</th>\n",
       "      <td>login</td>\n",
       "      <td>2594</td>\n",
       "    </tr>\n",
       "    <tr>\n",
       "      <th>1</th>\n",
       "      <td>product_cart</td>\n",
       "      <td>773</td>\n",
       "    </tr>\n",
       "    <tr>\n",
       "      <th>2</th>\n",
       "      <td>product_page</td>\n",
       "      <td>1632</td>\n",
       "    </tr>\n",
       "    <tr>\n",
       "      <th>3</th>\n",
       "      <td>purchase</td>\n",
       "      <td>804</td>\n",
       "    </tr>\n",
       "  </tbody>\n",
       "</table>\n",
       "</div>"
      ],
      "text/plain": [
       "     event_name  user_id\n",
       "0         login     2594\n",
       "1  product_cart      773\n",
       "2  product_page     1632\n",
       "3      purchase      804"
      ]
     },
     "metadata": {},
     "output_type": "display_data"
    }
   ],
   "source": [
    "# проверяем кол-во уникальных пользователей, закрепленных за тестом,\n",
    "# которые осуществили действия во время эксперимента\n",
    "\n",
    "data_events_test_pure = data_events[data_events['user_id'].isin(test_user_id_pure_reg_eu['user_id'])]\n",
    "\n",
    "display(data_events_test_pure.groupby('event_name')['user_id'].nunique().reset_index())"
   ]
  },
  {
   "cell_type": "code",
   "execution_count": 20,
   "metadata": {},
   "outputs": [
    {
     "data": {
      "text/html": [
       "<div>\n",
       "<style scoped>\n",
       "    .dataframe tbody tr th:only-of-type {\n",
       "        vertical-align: middle;\n",
       "    }\n",
       "\n",
       "    .dataframe tbody tr th {\n",
       "        vertical-align: top;\n",
       "    }\n",
       "\n",
       "    .dataframe thead th {\n",
       "        text-align: right;\n",
       "    }\n",
       "</style>\n",
       "<table border=\"1\" class=\"dataframe\">\n",
       "  <thead>\n",
       "    <tr style=\"text-align: right;\">\n",
       "      <th></th>\n",
       "      <th>event_name</th>\n",
       "      <th>user_id</th>\n",
       "    </tr>\n",
       "  </thead>\n",
       "  <tbody>\n",
       "    <tr>\n",
       "      <th>0</th>\n",
       "      <td>login</td>\n",
       "      <td>887</td>\n",
       "    </tr>\n",
       "    <tr>\n",
       "      <th>1</th>\n",
       "      <td>product_cart</td>\n",
       "      <td>253</td>\n",
       "    </tr>\n",
       "    <tr>\n",
       "      <th>2</th>\n",
       "      <td>product_page</td>\n",
       "      <td>546</td>\n",
       "    </tr>\n",
       "    <tr>\n",
       "      <th>3</th>\n",
       "      <td>purchase</td>\n",
       "      <td>278</td>\n",
       "    </tr>\n",
       "  </tbody>\n",
       "</table>\n",
       "</div>"
      ],
      "text/plain": [
       "     event_name  user_id\n",
       "0         login      887\n",
       "1  product_cart      253\n",
       "2  product_page      546\n",
       "3      purchase      278"
      ]
     },
     "metadata": {},
     "output_type": "display_data"
    }
   ],
   "source": [
    "# проверяем кол-во миксованных пользователей, закрепленных за тестом,\n",
    "# которые осуществили действия во время эксперимента\n",
    "\n",
    "data_events_test_mix = data_events[data_events['user_id'].isin(test_user_id_mix.index)]\n",
    "\n",
    "display(data_events_test_mix.groupby('event_name')['user_id'].nunique().reset_index())"
   ]
  },
  {
   "cell_type": "markdown",
   "metadata": {},
   "source": [
    "**Выводы по расчетам:**\n",
    "* из 4 749 уникальных пользователей, распределенных в recommender_system_test, только 2 594 пользователя совершили хотя бы 1 действие\n",
    "* 2 155 пользователей не совершили действий, соответственно не могут принять учестие в оценке результатов\n",
    "* из 1 602 миксованных пользователей, распределенных в оба теста, 887 пользователя совершили хотя бы 1 действие\n",
    "* 715 пользователей не совершили действий, соответственно не могут принять учестие в оценке результатов"
   ]
  },
  {
   "cell_type": "markdown",
   "metadata": {},
   "source": [
    "### Формирование пула событий, совершенных в рамках эксперимента"
   ]
  },
  {
   "cell_type": "code",
   "execution_count": 21,
   "metadata": {},
   "outputs": [
    {
     "data": {
      "text/html": [
       "<div>\n",
       "<style scoped>\n",
       "    .dataframe tbody tr th:only-of-type {\n",
       "        vertical-align: middle;\n",
       "    }\n",
       "\n",
       "    .dataframe tbody tr th {\n",
       "        vertical-align: top;\n",
       "    }\n",
       "\n",
       "    .dataframe thead th {\n",
       "        text-align: right;\n",
       "    }\n",
       "</style>\n",
       "<table border=\"1\" class=\"dataframe\">\n",
       "  <thead>\n",
       "    <tr style=\"text-align: right;\">\n",
       "      <th></th>\n",
       "      <th>date</th>\n",
       "      <th>user_id</th>\n",
       "    </tr>\n",
       "  </thead>\n",
       "  <tbody>\n",
       "    <tr>\n",
       "      <th>0</th>\n",
       "      <td>2020-12-07</td>\n",
       "      <td>222</td>\n",
       "    </tr>\n",
       "    <tr>\n",
       "      <th>1</th>\n",
       "      <td>2020-12-08</td>\n",
       "      <td>190</td>\n",
       "    </tr>\n",
       "    <tr>\n",
       "      <th>2</th>\n",
       "      <td>2020-12-09</td>\n",
       "      <td>245</td>\n",
       "    </tr>\n",
       "    <tr>\n",
       "      <th>3</th>\n",
       "      <td>2020-12-10</td>\n",
       "      <td>202</td>\n",
       "    </tr>\n",
       "    <tr>\n",
       "      <th>4</th>\n",
       "      <td>2020-12-11</td>\n",
       "      <td>187</td>\n",
       "    </tr>\n",
       "    <tr>\n",
       "      <th>5</th>\n",
       "      <td>2020-12-12</td>\n",
       "      <td>203</td>\n",
       "    </tr>\n",
       "    <tr>\n",
       "      <th>6</th>\n",
       "      <td>2020-12-13</td>\n",
       "      <td>170</td>\n",
       "    </tr>\n",
       "    <tr>\n",
       "      <th>7</th>\n",
       "      <td>2020-12-14</td>\n",
       "      <td>434</td>\n",
       "    </tr>\n",
       "    <tr>\n",
       "      <th>8</th>\n",
       "      <td>2020-12-15</td>\n",
       "      <td>422</td>\n",
       "    </tr>\n",
       "    <tr>\n",
       "      <th>9</th>\n",
       "      <td>2020-12-16</td>\n",
       "      <td>450</td>\n",
       "    </tr>\n",
       "    <tr>\n",
       "      <th>10</th>\n",
       "      <td>2020-12-17</td>\n",
       "      <td>467</td>\n",
       "    </tr>\n",
       "    <tr>\n",
       "      <th>11</th>\n",
       "      <td>2020-12-18</td>\n",
       "      <td>497</td>\n",
       "    </tr>\n",
       "    <tr>\n",
       "      <th>12</th>\n",
       "      <td>2020-12-19</td>\n",
       "      <td>576</td>\n",
       "    </tr>\n",
       "    <tr>\n",
       "      <th>13</th>\n",
       "      <td>2020-12-20</td>\n",
       "      <td>598</td>\n",
       "    </tr>\n",
       "    <tr>\n",
       "      <th>14</th>\n",
       "      <td>2020-12-21</td>\n",
       "      <td>778</td>\n",
       "    </tr>\n",
       "    <tr>\n",
       "      <th>15</th>\n",
       "      <td>2020-12-22</td>\n",
       "      <td>495</td>\n",
       "    </tr>\n",
       "    <tr>\n",
       "      <th>16</th>\n",
       "      <td>2020-12-23</td>\n",
       "      <td>400</td>\n",
       "    </tr>\n",
       "    <tr>\n",
       "      <th>17</th>\n",
       "      <td>2020-12-24</td>\n",
       "      <td>325</td>\n",
       "    </tr>\n",
       "    <tr>\n",
       "      <th>18</th>\n",
       "      <td>2020-12-25</td>\n",
       "      <td>249</td>\n",
       "    </tr>\n",
       "    <tr>\n",
       "      <th>19</th>\n",
       "      <td>2020-12-26</td>\n",
       "      <td>221</td>\n",
       "    </tr>\n",
       "    <tr>\n",
       "      <th>20</th>\n",
       "      <td>2020-12-27</td>\n",
       "      <td>228</td>\n",
       "    </tr>\n",
       "    <tr>\n",
       "      <th>21</th>\n",
       "      <td>2020-12-28</td>\n",
       "      <td>180</td>\n",
       "    </tr>\n",
       "    <tr>\n",
       "      <th>22</th>\n",
       "      <td>2020-12-29</td>\n",
       "      <td>172</td>\n",
       "    </tr>\n",
       "    <tr>\n",
       "      <th>23</th>\n",
       "      <td>2020-12-30</td>\n",
       "      <td>1</td>\n",
       "    </tr>\n",
       "  </tbody>\n",
       "</table>\n",
       "</div>"
      ],
      "text/plain": [
       "         date  user_id\n",
       "0  2020-12-07      222\n",
       "1  2020-12-08      190\n",
       "2  2020-12-09      245\n",
       "3  2020-12-10      202\n",
       "4  2020-12-11      187\n",
       "5  2020-12-12      203\n",
       "6  2020-12-13      170\n",
       "7  2020-12-14      434\n",
       "8  2020-12-15      422\n",
       "9  2020-12-16      450\n",
       "10 2020-12-17      467\n",
       "11 2020-12-18      497\n",
       "12 2020-12-19      576\n",
       "13 2020-12-20      598\n",
       "14 2020-12-21      778\n",
       "15 2020-12-22      495\n",
       "16 2020-12-23      400\n",
       "17 2020-12-24      325\n",
       "18 2020-12-25      249\n",
       "19 2020-12-26      221\n",
       "20 2020-12-27      228\n",
       "21 2020-12-28      180\n",
       "22 2020-12-29      172\n",
       "23 2020-12-30        1"
      ]
     },
     "metadata": {},
     "output_type": "display_data"
    }
   ],
   "source": [
    "# делаем выборку событий по уникальным пользователям, закрепленным за тестом, и по датам эксперимента,\n",
    "# добавляем колонку с датой\n",
    "\n",
    "data_events_test_dt_pure = data_events_test_pure[data_events_test_pure['event_dt'].between('2020-12-07', '2021-04-01')]\n",
    "data_events_test_dt_pure['date'] = pd.DatetimeIndex(data_events_test_pure['event_dt']).date.astype('datetime64[ns]')\n",
    "\n",
    "# выводим информацию о кол-ве уникальных пользователей,\n",
    "# осуществивших действия в дату эксперимента\n",
    "\n",
    "display(data_events_test_dt_pure.groupby('date')['user_id'].nunique().reset_index())"
   ]
  },
  {
   "cell_type": "code",
   "execution_count": 22,
   "metadata": {},
   "outputs": [
    {
     "data": {
      "text/html": [
       "<div>\n",
       "<style scoped>\n",
       "    .dataframe tbody tr th:only-of-type {\n",
       "        vertical-align: middle;\n",
       "    }\n",
       "\n",
       "    .dataframe tbody tr th {\n",
       "        vertical-align: top;\n",
       "    }\n",
       "\n",
       "    .dataframe thead th {\n",
       "        text-align: right;\n",
       "    }\n",
       "</style>\n",
       "<table border=\"1\" class=\"dataframe\">\n",
       "  <thead>\n",
       "    <tr style=\"text-align: right;\">\n",
       "      <th></th>\n",
       "      <th>date</th>\n",
       "      <th>user_id</th>\n",
       "    </tr>\n",
       "  </thead>\n",
       "  <tbody>\n",
       "    <tr>\n",
       "      <th>0</th>\n",
       "      <td>2020-12-07</td>\n",
       "      <td>89</td>\n",
       "    </tr>\n",
       "    <tr>\n",
       "      <th>1</th>\n",
       "      <td>2020-12-08</td>\n",
       "      <td>71</td>\n",
       "    </tr>\n",
       "    <tr>\n",
       "      <th>2</th>\n",
       "      <td>2020-12-09</td>\n",
       "      <td>87</td>\n",
       "    </tr>\n",
       "    <tr>\n",
       "      <th>3</th>\n",
       "      <td>2020-12-10</td>\n",
       "      <td>78</td>\n",
       "    </tr>\n",
       "    <tr>\n",
       "      <th>4</th>\n",
       "      <td>2020-12-11</td>\n",
       "      <td>73</td>\n",
       "    </tr>\n",
       "    <tr>\n",
       "      <th>5</th>\n",
       "      <td>2020-12-12</td>\n",
       "      <td>67</td>\n",
       "    </tr>\n",
       "    <tr>\n",
       "      <th>6</th>\n",
       "      <td>2020-12-13</td>\n",
       "      <td>65</td>\n",
       "    </tr>\n",
       "    <tr>\n",
       "      <th>7</th>\n",
       "      <td>2020-12-14</td>\n",
       "      <td>147</td>\n",
       "    </tr>\n",
       "    <tr>\n",
       "      <th>8</th>\n",
       "      <td>2020-12-15</td>\n",
       "      <td>139</td>\n",
       "    </tr>\n",
       "    <tr>\n",
       "      <th>9</th>\n",
       "      <td>2020-12-16</td>\n",
       "      <td>157</td>\n",
       "    </tr>\n",
       "    <tr>\n",
       "      <th>10</th>\n",
       "      <td>2020-12-17</td>\n",
       "      <td>178</td>\n",
       "    </tr>\n",
       "    <tr>\n",
       "      <th>11</th>\n",
       "      <td>2020-12-18</td>\n",
       "      <td>173</td>\n",
       "    </tr>\n",
       "    <tr>\n",
       "      <th>12</th>\n",
       "      <td>2020-12-19</td>\n",
       "      <td>180</td>\n",
       "    </tr>\n",
       "    <tr>\n",
       "      <th>13</th>\n",
       "      <td>2020-12-20</td>\n",
       "      <td>184</td>\n",
       "    </tr>\n",
       "    <tr>\n",
       "      <th>14</th>\n",
       "      <td>2020-12-21</td>\n",
       "      <td>249</td>\n",
       "    </tr>\n",
       "    <tr>\n",
       "      <th>15</th>\n",
       "      <td>2020-12-22</td>\n",
       "      <td>155</td>\n",
       "    </tr>\n",
       "    <tr>\n",
       "      <th>16</th>\n",
       "      <td>2020-12-23</td>\n",
       "      <td>121</td>\n",
       "    </tr>\n",
       "    <tr>\n",
       "      <th>17</th>\n",
       "      <td>2020-12-24</td>\n",
       "      <td>109</td>\n",
       "    </tr>\n",
       "    <tr>\n",
       "      <th>18</th>\n",
       "      <td>2020-12-25</td>\n",
       "      <td>85</td>\n",
       "    </tr>\n",
       "    <tr>\n",
       "      <th>19</th>\n",
       "      <td>2020-12-26</td>\n",
       "      <td>83</td>\n",
       "    </tr>\n",
       "    <tr>\n",
       "      <th>20</th>\n",
       "      <td>2020-12-27</td>\n",
       "      <td>66</td>\n",
       "    </tr>\n",
       "    <tr>\n",
       "      <th>21</th>\n",
       "      <td>2020-12-28</td>\n",
       "      <td>79</td>\n",
       "    </tr>\n",
       "    <tr>\n",
       "      <th>22</th>\n",
       "      <td>2020-12-29</td>\n",
       "      <td>57</td>\n",
       "    </tr>\n",
       "    <tr>\n",
       "      <th>23</th>\n",
       "      <td>2020-12-30</td>\n",
       "      <td>1</td>\n",
       "    </tr>\n",
       "  </tbody>\n",
       "</table>\n",
       "</div>"
      ],
      "text/plain": [
       "         date  user_id\n",
       "0  2020-12-07       89\n",
       "1  2020-12-08       71\n",
       "2  2020-12-09       87\n",
       "3  2020-12-10       78\n",
       "4  2020-12-11       73\n",
       "5  2020-12-12       67\n",
       "6  2020-12-13       65\n",
       "7  2020-12-14      147\n",
       "8  2020-12-15      139\n",
       "9  2020-12-16      157\n",
       "10 2020-12-17      178\n",
       "11 2020-12-18      173\n",
       "12 2020-12-19      180\n",
       "13 2020-12-20      184\n",
       "14 2020-12-21      249\n",
       "15 2020-12-22      155\n",
       "16 2020-12-23      121\n",
       "17 2020-12-24      109\n",
       "18 2020-12-25       85\n",
       "19 2020-12-26       83\n",
       "20 2020-12-27       66\n",
       "21 2020-12-28       79\n",
       "22 2020-12-29       57\n",
       "23 2020-12-30        1"
      ]
     },
     "metadata": {},
     "output_type": "display_data"
    }
   ],
   "source": [
    "# делаем выборку событий по миксованным пользователям, закрепленным за тестом, и по датам эксперимента,\n",
    "# добавляем колонку с датой\n",
    "\n",
    "data_events_test_dt_mix = data_events_test_mix[data_events_test_mix['event_dt'].between('2020-12-07', '2021-04-01')]\n",
    "data_events_test_dt_mix['date'] = pd.DatetimeIndex(data_events_test_mix['event_dt']).date.astype('datetime64[ns]')\n",
    "\n",
    "# выводим информацию о кол-ве уникальных пользователей,\n",
    "# осуществивших действия в дату эксперимента\n",
    "\n",
    "display(data_events_test_dt_mix.groupby('date')['user_id'].nunique().reset_index())"
   ]
  },
  {
   "cell_type": "code",
   "execution_count": 23,
   "metadata": {},
   "outputs": [
    {
     "data": {
      "text/html": [
       "<div>\n",
       "<style scoped>\n",
       "    .dataframe tbody tr th:only-of-type {\n",
       "        vertical-align: middle;\n",
       "    }\n",
       "\n",
       "    .dataframe tbody tr th {\n",
       "        vertical-align: top;\n",
       "    }\n",
       "\n",
       "    .dataframe thead th {\n",
       "        text-align: right;\n",
       "    }\n",
       "</style>\n",
       "<table border=\"1\" class=\"dataframe\">\n",
       "  <thead>\n",
       "    <tr style=\"text-align: right;\">\n",
       "      <th></th>\n",
       "      <th>user_id</th>\n",
       "      <th>event_dt</th>\n",
       "      <th>event_name</th>\n",
       "      <th>details</th>\n",
       "      <th>date</th>\n",
       "    </tr>\n",
       "  </thead>\n",
       "  <tbody>\n",
       "    <tr>\n",
       "      <th>125187</th>\n",
       "      <td>75845c83258fbf73</td>\n",
       "      <td>2020-12-30 06:42:52</td>\n",
       "      <td>product_cart</td>\n",
       "      <td>NaN</td>\n",
       "      <td>2020-12-30</td>\n",
       "    </tr>\n",
       "    <tr>\n",
       "      <th>440289</th>\n",
       "      <td>75845c83258fbf73</td>\n",
       "      <td>2020-12-30 06:42:52</td>\n",
       "      <td>login</td>\n",
       "      <td>NaN</td>\n",
       "      <td>2020-12-30</td>\n",
       "    </tr>\n",
       "  </tbody>\n",
       "</table>\n",
       "</div>"
      ],
      "text/plain": [
       "                 user_id            event_dt    event_name  details       date\n",
       "125187  75845c83258fbf73 2020-12-30 06:42:52  product_cart      NaN 2020-12-30\n",
       "440289  75845c83258fbf73 2020-12-30 06:42:52         login      NaN 2020-12-30"
      ]
     },
     "metadata": {},
     "output_type": "display_data"
    },
    {
     "data": {
      "text/html": [
       "<div>\n",
       "<style scoped>\n",
       "    .dataframe tbody tr th:only-of-type {\n",
       "        vertical-align: middle;\n",
       "    }\n",
       "\n",
       "    .dataframe tbody tr th {\n",
       "        vertical-align: top;\n",
       "    }\n",
       "\n",
       "    .dataframe thead th {\n",
       "        text-align: right;\n",
       "    }\n",
       "</style>\n",
       "<table border=\"1\" class=\"dataframe\">\n",
       "  <thead>\n",
       "    <tr style=\"text-align: right;\">\n",
       "      <th></th>\n",
       "      <th>user_id</th>\n",
       "      <th>event_dt</th>\n",
       "      <th>event_name</th>\n",
       "      <th>details</th>\n",
       "      <th>date</th>\n",
       "    </tr>\n",
       "  </thead>\n",
       "  <tbody>\n",
       "    <tr>\n",
       "      <th>250743</th>\n",
       "      <td>dd4352cdcf8c3d57</td>\n",
       "      <td>2020-12-30 12:42:57</td>\n",
       "      <td>product_page</td>\n",
       "      <td>NaN</td>\n",
       "      <td>2020-12-30</td>\n",
       "    </tr>\n",
       "    <tr>\n",
       "      <th>440281</th>\n",
       "      <td>dd4352cdcf8c3d57</td>\n",
       "      <td>2020-12-30 12:42:56</td>\n",
       "      <td>login</td>\n",
       "      <td>NaN</td>\n",
       "      <td>2020-12-30</td>\n",
       "    </tr>\n",
       "  </tbody>\n",
       "</table>\n",
       "</div>"
      ],
      "text/plain": [
       "                 user_id            event_dt    event_name  details       date\n",
       "250743  dd4352cdcf8c3d57 2020-12-30 12:42:57  product_page      NaN 2020-12-30\n",
       "440281  dd4352cdcf8c3d57 2020-12-30 12:42:56         login      NaN 2020-12-30"
      ]
     },
     "metadata": {},
     "output_type": "display_data"
    }
   ],
   "source": [
    "# проверяем действия, осуществленные 2020-12-30 как уникальными, так и миксованными пользователями\n",
    "\n",
    "display(data_events_test_dt_pure[data_events_test_dt_pure['date'] == '2020-12-30'])\n",
    "display(data_events_test_dt_mix[data_events_test_dt_mix['date'] == '2020-12-30'])"
   ]
  },
  {
   "cell_type": "markdown",
   "metadata": {},
   "source": [
    "**Выводы по расчетам:**\n",
    "* предоставленная информация содерджит данные о действиях уникальных и миксованных пользователей, закрепленных за тестом, за период с 2020-12-07 по 2020-12-30\n",
    "* согласно Технического Задания ожидаемый эффект должен рассчитываться за 14 дней с момента регистрации пользователей\n",
    "* выявленное обстоятельство влияет на качество теста, сокращая реальное кол-во пользователей, принявших участие в эксперименте"
   ]
  },
  {
   "cell_type": "markdown",
   "metadata": {},
   "source": [
    "### Проверка распределения миксованных пользователей по А/В группам в конкурирующем тесте"
   ]
  },
  {
   "cell_type": "code",
   "execution_count": 24,
   "metadata": {},
   "outputs": [
    {
     "data": {
      "text/html": [
       "<div>\n",
       "<style scoped>\n",
       "    .dataframe tbody tr th:only-of-type {\n",
       "        vertical-align: middle;\n",
       "    }\n",
       "\n",
       "    .dataframe tbody tr th {\n",
       "        vertical-align: top;\n",
       "    }\n",
       "\n",
       "    .dataframe thead th {\n",
       "        text-align: right;\n",
       "    }\n",
       "</style>\n",
       "<table border=\"1\" class=\"dataframe\">\n",
       "  <thead>\n",
       "    <tr style=\"text-align: right;\">\n",
       "      <th>group</th>\n",
       "      <th>ab_test</th>\n",
       "      <th>a</th>\n",
       "      <th>b</th>\n",
       "    </tr>\n",
       "  </thead>\n",
       "  <tbody>\n",
       "    <tr>\n",
       "      <th>0</th>\n",
       "      <td>interface_eu_test</td>\n",
       "      <td>819</td>\n",
       "      <td>783</td>\n",
       "    </tr>\n",
       "    <tr>\n",
       "      <th>1</th>\n",
       "      <td>recommender_system_test</td>\n",
       "      <td>921</td>\n",
       "      <td>681</td>\n",
       "    </tr>\n",
       "  </tbody>\n",
       "</table>\n",
       "</div>"
      ],
      "text/plain": [
       "group                  ab_test    a    b\n",
       "0            interface_eu_test  819  783\n",
       "1      recommender_system_test  921  681"
      ]
     },
     "metadata": {},
     "output_type": "display_data"
    }
   ],
   "source": [
    "# делаем выборку по миксованным клиентам\n",
    "\n",
    "data_participants_mix = data_participants[data_participants['user_id'].isin(test_user_id_mix.index)]\n",
    "\n",
    "# проверяем распределени по А/В группам в тесте interface_eu_test\n",
    "\n",
    "display(data_participants_mix.pivot_table(index='ab_test', columns='group', values='user_id', aggfunc=('nunique'))\\\n",
    "        .reset_index())"
   ]
  },
  {
   "cell_type": "markdown",
   "metadata": {},
   "source": [
    "**Выводы по рачетам:**\n",
    "* миксованные пользователи оказались практически равномерно распределены мжду А/В группами в конкурирующем тесте\n",
    "* 783 пользователя, попавшие в тестовую группу В эксперимента по изменению интерфейса, очевидно оказались по влиянием этого эксперимента"
   ]
  },
  {
   "cell_type": "markdown",
   "metadata": {},
   "source": [
    "### Промежуточные выводы\n",
    "\n",
    "По выявленным фактам аномалий в данных приняты следующие решения:\n",
    "* **1 602** пользователя, которые оказались одновременно закрепленными за 2-мя параллельно проводимыми тестами - **оставить в выборке** для дальнейшего исследования; проверить равномерность распределения этих пользователей по А/В группам внутри интересующего нас теста\n",
    "* **350** пользователей, не принадлежащих к региону EU - **исключить из выборки**, т.к. это противоречит Техническому Заданию\n",
    "* "
   ]
  },
  {
   "cell_type": "markdown",
   "metadata": {},
   "source": [
    "### Формирование финальной выборки пользователей и оценка распределений по А/В группам"
   ]
  },
  {
   "cell_type": "code",
   "execution_count": 25,
   "metadata": {},
   "outputs": [
    {
     "name": "stdout",
     "output_type": "stream",
     "text": [
      "Кол-во уникальных клиентов в выборке для исследования: 6351\n"
     ]
    },
    {
     "data": {
      "text/html": [
       "<div>\n",
       "<style scoped>\n",
       "    .dataframe tbody tr th:only-of-type {\n",
       "        vertical-align: middle;\n",
       "    }\n",
       "\n",
       "    .dataframe tbody tr th {\n",
       "        vertical-align: top;\n",
       "    }\n",
       "\n",
       "    .dataframe thead th {\n",
       "        text-align: right;\n",
       "    }\n",
       "</style>\n",
       "<table border=\"1\" class=\"dataframe\">\n",
       "  <thead>\n",
       "    <tr style=\"text-align: right;\">\n",
       "      <th></th>\n",
       "      <th>user_id</th>\n",
       "      <th>group</th>\n",
       "      <th>ab_test</th>\n",
       "      <th>first_date</th>\n",
       "      <th>region</th>\n",
       "      <th>device</th>\n",
       "    </tr>\n",
       "  </thead>\n",
       "  <tbody>\n",
       "    <tr>\n",
       "      <th>3170</th>\n",
       "      <td>36b2004f6a1c76df</td>\n",
       "      <td>a</td>\n",
       "      <td>recommender_system_test</td>\n",
       "      <td>2020-12-20</td>\n",
       "      <td>eu</td>\n",
       "      <td>iphone</td>\n",
       "    </tr>\n",
       "    <tr>\n",
       "      <th>4131</th>\n",
       "      <td>c3eebf6dbc3384fa</td>\n",
       "      <td>b</td>\n",
       "      <td>recommender_system_test</td>\n",
       "      <td>2020-12-18</td>\n",
       "      <td>eu</td>\n",
       "      <td>android</td>\n",
       "    </tr>\n",
       "  </tbody>\n",
       "</table>\n",
       "</div>"
      ],
      "text/plain": [
       "               user_id group                  ab_test first_date region  \\\n",
       "3170  36b2004f6a1c76df     a  recommender_system_test 2020-12-20     eu   \n",
       "4131  c3eebf6dbc3384fa     b  recommender_system_test 2020-12-18     eu   \n",
       "\n",
       "       device  \n",
       "3170   iphone  \n",
       "4131  android  "
      ]
     },
     "metadata": {},
     "output_type": "display_data"
    }
   ],
   "source": [
    "# объединяем таблицы data_participants и data_new-users\n",
    "\n",
    "data_test_users = data_participants.merge(data_new_users, on = 'user_id', how = 'left')\n",
    "\n",
    "# делаем выборку по наименованию теста recommender_system_tes и региону eu\n",
    "\n",
    "test_users = data_test_users[(data_test_users['ab_test'] == 'recommender_system_test') & (data_test_users['region'] == 'eu')]\n",
    "\n",
    "print('Кол-во уникальных клиентов в выборке для исследования:', test_users['user_id'].nunique())\n",
    "display(test_users.sample(2))"
   ]
  },
  {
   "cell_type": "code",
   "execution_count": 26,
   "metadata": {},
   "outputs": [
    {
     "data": {
      "text/html": [
       "<div>\n",
       "<style scoped>\n",
       "    .dataframe tbody tr th:only-of-type {\n",
       "        vertical-align: middle;\n",
       "    }\n",
       "\n",
       "    .dataframe tbody tr th {\n",
       "        vertical-align: top;\n",
       "    }\n",
       "\n",
       "    .dataframe thead th {\n",
       "        text-align: right;\n",
       "    }\n",
       "</style>\n",
       "<table border=\"1\" class=\"dataframe\">\n",
       "  <thead>\n",
       "    <tr style=\"text-align: right;\">\n",
       "      <th></th>\n",
       "      <th>group</th>\n",
       "      <th>user_id</th>\n",
       "    </tr>\n",
       "  </thead>\n",
       "  <tbody>\n",
       "    <tr>\n",
       "      <th>0</th>\n",
       "      <td>a</td>\n",
       "      <td>3634</td>\n",
       "    </tr>\n",
       "    <tr>\n",
       "      <th>1</th>\n",
       "      <td>b</td>\n",
       "      <td>2717</td>\n",
       "    </tr>\n",
       "  </tbody>\n",
       "</table>\n",
       "</div>"
      ],
      "text/plain": [
       "  group  user_id\n",
       "0     a     3634\n",
       "1     b     2717"
      ]
     },
     "metadata": {},
     "output_type": "display_data"
    }
   ],
   "source": [
    "# проверяем выборку в общем на распределение между А/В группами\n",
    "\n",
    "display(test_users.groupby('group').agg({'user_id':'nunique'}).reset_index())"
   ]
  },
  {
   "cell_type": "code",
   "execution_count": 27,
   "metadata": {},
   "outputs": [
    {
     "data": {
      "text/html": [
       "<div>\n",
       "<style scoped>\n",
       "    .dataframe tbody tr th:only-of-type {\n",
       "        vertical-align: middle;\n",
       "    }\n",
       "\n",
       "    .dataframe tbody tr th {\n",
       "        vertical-align: top;\n",
       "    }\n",
       "\n",
       "    .dataframe thead th {\n",
       "        text-align: right;\n",
       "    }\n",
       "</style>\n",
       "<table border=\"1\" class=\"dataframe\">\n",
       "  <thead>\n",
       "    <tr style=\"text-align: right;\">\n",
       "      <th></th>\n",
       "      <th>group</th>\n",
       "      <th>user_id</th>\n",
       "    </tr>\n",
       "  </thead>\n",
       "  <tbody>\n",
       "    <tr>\n",
       "      <th>0</th>\n",
       "      <td>a</td>\n",
       "      <td>921</td>\n",
       "    </tr>\n",
       "    <tr>\n",
       "      <th>1</th>\n",
       "      <td>b</td>\n",
       "      <td>681</td>\n",
       "    </tr>\n",
       "  </tbody>\n",
       "</table>\n",
       "</div>"
      ],
      "text/plain": [
       "  group  user_id\n",
       "0     a      921\n",
       "1     b      681"
      ]
     },
     "metadata": {},
     "output_type": "display_data"
    }
   ],
   "source": [
    "# проверяем вошедших в выборку миксованных пользователей на распределение по А/В группам\n",
    "\n",
    "display(test_users[test_users['user_id'].isin(df_mix['user_id'])].groupby('group').agg({'user_id':'nunique'}).reset_index())"
   ]
  },
  {
   "cell_type": "markdown",
   "metadata": {},
   "source": [
    "**Выводы по расчетам:**\n",
    "* распределение всех пользователей на группы прошло в соотношении: **группа А - контрольная** = 57% / **группа В - тестовая** = 43%\n",
    "* **миксованые клиенты в группе А** составили 25%\n",
    "* **миксованные клиенты в группе В** составили 25%\n"
   ]
  },
  {
   "cell_type": "code",
   "execution_count": 28,
   "metadata": {},
   "outputs": [
    {
     "name": "stdout",
     "output_type": "stream",
     "text": [
      "Доля тестовой выборки в общем кол-ве пользователей из EU 13.725956343202938 %:\n"
     ]
    }
   ],
   "source": [
    "# проверяем долю попавших в тест пользователей из региона eu от общего кол-ва пользователей региона eu\n",
    "\n",
    "eu_test_share = test_users['user_id'].nunique() / data_new_users[data_new_users['region'] == 'eu']['user_id'].nunique()\n",
    "print('Доля тестовой выборки в общем кол-ве пользователей из EU {} %:'.format(eu_test_share*100))"
   ]
  },
  {
   "cell_type": "markdown",
   "metadata": {},
   "source": [
    "**Выводы по расчетам:**\n",
    "* доля пользователей, попавших в выборку, составила 14% от общего кол-ва пользователей из EU, что близко к значению Технического Задания"
   ]
  },
  {
   "cell_type": "markdown",
   "metadata": {},
   "source": [
    "### Анализ изменения конверсии в воронке на разных этапах"
   ]
  },
  {
   "cell_type": "code",
   "execution_count": 29,
   "metadata": {},
   "outputs": [
    {
     "data": {
      "text/html": [
       "<div>\n",
       "<style scoped>\n",
       "    .dataframe tbody tr th:only-of-type {\n",
       "        vertical-align: middle;\n",
       "    }\n",
       "\n",
       "    .dataframe tbody tr th {\n",
       "        vertical-align: top;\n",
       "    }\n",
       "\n",
       "    .dataframe thead th {\n",
       "        text-align: right;\n",
       "    }\n",
       "</style>\n",
       "<table border=\"1\" class=\"dataframe\">\n",
       "  <thead>\n",
       "    <tr style=\"text-align: right;\">\n",
       "      <th></th>\n",
       "      <th>user_id</th>\n",
       "      <th>event_dt</th>\n",
       "      <th>event_name</th>\n",
       "      <th>group</th>\n",
       "      <th>first_date</th>\n",
       "      <th>device</th>\n",
       "      <th>event_date</th>\n",
       "    </tr>\n",
       "  </thead>\n",
       "  <tbody>\n",
       "    <tr>\n",
       "      <th>1914</th>\n",
       "      <td>27802765d2458b2b</td>\n",
       "      <td>2020-12-21 23:07:31</td>\n",
       "      <td>purchase</td>\n",
       "      <td>a</td>\n",
       "      <td>2020-12-07</td>\n",
       "      <td>iphone</td>\n",
       "      <td>2020-12-21</td>\n",
       "    </tr>\n",
       "    <tr>\n",
       "      <th>1915</th>\n",
       "      <td>4efb5e89ac11ac6d</td>\n",
       "      <td>2020-12-21 04:40:03</td>\n",
       "      <td>purchase</td>\n",
       "      <td>b</td>\n",
       "      <td>2020-12-07</td>\n",
       "      <td>iphone</td>\n",
       "      <td>2020-12-21</td>\n",
       "    </tr>\n",
       "    <tr>\n",
       "      <th>1916</th>\n",
       "      <td>c48127e2fa8d4f18</td>\n",
       "      <td>2020-12-21 19:25:30</td>\n",
       "      <td>purchase</td>\n",
       "      <td>b</td>\n",
       "      <td>2020-12-07</td>\n",
       "      <td>iphone</td>\n",
       "      <td>2020-12-21</td>\n",
       "    </tr>\n",
       "    <tr>\n",
       "      <th>1917</th>\n",
       "      <td>89143f0aefe3b11d</td>\n",
       "      <td>2020-12-21 19:44:22</td>\n",
       "      <td>purchase</td>\n",
       "      <td>b</td>\n",
       "      <td>2020-12-07</td>\n",
       "      <td>iphone</td>\n",
       "      <td>2020-12-21</td>\n",
       "    </tr>\n",
       "    <tr>\n",
       "      <th>1918</th>\n",
       "      <td>0dd2e54d87cfd4a4</td>\n",
       "      <td>2020-12-21 16:52:35</td>\n",
       "      <td>purchase</td>\n",
       "      <td>a</td>\n",
       "      <td>2020-12-14</td>\n",
       "      <td>iphone</td>\n",
       "      <td>2020-12-21</td>\n",
       "    </tr>\n",
       "    <tr>\n",
       "      <th>...</th>\n",
       "      <td>...</td>\n",
       "      <td>...</td>\n",
       "      <td>...</td>\n",
       "      <td>...</td>\n",
       "      <td>...</td>\n",
       "      <td>...</td>\n",
       "      <td>...</td>\n",
       "    </tr>\n",
       "    <tr>\n",
       "      <th>23415</th>\n",
       "      <td>d21f0d4fdcd82db2</td>\n",
       "      <td>2020-12-29 02:17:00</td>\n",
       "      <td>login</td>\n",
       "      <td>a</td>\n",
       "      <td>2020-12-20</td>\n",
       "      <td>iphone</td>\n",
       "      <td>2020-12-29</td>\n",
       "    </tr>\n",
       "    <tr>\n",
       "      <th>23416</th>\n",
       "      <td>96bdd55846d1f7f6</td>\n",
       "      <td>2020-12-29 16:53:42</td>\n",
       "      <td>login</td>\n",
       "      <td>a</td>\n",
       "      <td>2020-12-20</td>\n",
       "      <td>iphone</td>\n",
       "      <td>2020-12-29</td>\n",
       "    </tr>\n",
       "    <tr>\n",
       "      <th>23417</th>\n",
       "      <td>553bae96c6eb6240</td>\n",
       "      <td>2020-12-29 14:09:14</td>\n",
       "      <td>login</td>\n",
       "      <td>a</td>\n",
       "      <td>2020-12-20</td>\n",
       "      <td>android</td>\n",
       "      <td>2020-12-29</td>\n",
       "    </tr>\n",
       "    <tr>\n",
       "      <th>23418</th>\n",
       "      <td>dd4352cdcf8c3d57</td>\n",
       "      <td>2020-12-30 12:42:56</td>\n",
       "      <td>login</td>\n",
       "      <td>b</td>\n",
       "      <td>2020-12-07</td>\n",
       "      <td>android</td>\n",
       "      <td>2020-12-30</td>\n",
       "    </tr>\n",
       "    <tr>\n",
       "      <th>23419</th>\n",
       "      <td>75845c83258fbf73</td>\n",
       "      <td>2020-12-30 06:42:52</td>\n",
       "      <td>login</td>\n",
       "      <td>b</td>\n",
       "      <td>2020-12-07</td>\n",
       "      <td>android</td>\n",
       "      <td>2020-12-30</td>\n",
       "    </tr>\n",
       "  </tbody>\n",
       "</table>\n",
       "<p>9036 rows × 7 columns</p>\n",
       "</div>"
      ],
      "text/plain": [
       "                user_id            event_dt event_name group first_date  \\\n",
       "1914   27802765d2458b2b 2020-12-21 23:07:31   purchase     a 2020-12-07   \n",
       "1915   4efb5e89ac11ac6d 2020-12-21 04:40:03   purchase     b 2020-12-07   \n",
       "1916   c48127e2fa8d4f18 2020-12-21 19:25:30   purchase     b 2020-12-07   \n",
       "1917   89143f0aefe3b11d 2020-12-21 19:44:22   purchase     b 2020-12-07   \n",
       "1918   0dd2e54d87cfd4a4 2020-12-21 16:52:35   purchase     a 2020-12-14   \n",
       "...                 ...                 ...        ...   ...        ...   \n",
       "23415  d21f0d4fdcd82db2 2020-12-29 02:17:00      login     a 2020-12-20   \n",
       "23416  96bdd55846d1f7f6 2020-12-29 16:53:42      login     a 2020-12-20   \n",
       "23417  553bae96c6eb6240 2020-12-29 14:09:14      login     a 2020-12-20   \n",
       "23418  dd4352cdcf8c3d57 2020-12-30 12:42:56      login     b 2020-12-07   \n",
       "23419  75845c83258fbf73 2020-12-30 06:42:52      login     b 2020-12-07   \n",
       "\n",
       "        device event_date  \n",
       "1914    iphone 2020-12-21  \n",
       "1915    iphone 2020-12-21  \n",
       "1916    iphone 2020-12-21  \n",
       "1917    iphone 2020-12-21  \n",
       "1918    iphone 2020-12-21  \n",
       "...        ...        ...  \n",
       "23415   iphone 2020-12-29  \n",
       "23416   iphone 2020-12-29  \n",
       "23417  android 2020-12-29  \n",
       "23418  android 2020-12-30  \n",
       "23419  android 2020-12-30  \n",
       "\n",
       "[9036 rows x 7 columns]"
      ]
     },
     "metadata": {},
     "output_type": "display_data"
    }
   ],
   "source": [
    "# делаем полную выборку всех событий по тестовым пользователям\n",
    "\n",
    "test_events = data_events[data_events['user_id'].isin(test_users['user_id'])]\n",
    "\n",
    "# объединяем таблицы test_events и test_users,\n",
    "# убираем не значимые для текущего анализа колонки,\n",
    "# добавляем колонку event_date\n",
    "\n",
    "test_data = test_events.merge(test_users, on = 'user_id', how = 'left')\n",
    "test_data = test_data.drop(['details', 'region', 'ab_test'], axis=1)\n",
    "test_data['event_date'] = pd.DatetimeIndex(test_data['event_dt']).date.astype('datetime64[ns]')\n",
    "\n",
    "display(test_data[test_data['event_date'] >= '2020-12-21'])"
   ]
  },
  {
   "cell_type": "code",
   "execution_count": 30,
   "metadata": {},
   "outputs": [
    {
     "name": "stderr",
     "output_type": "stream",
     "text": [
      "/tmp/ipykernel_55/133082967.py:17: UserWarning: Boolean Series key will be reindexed to match DataFrame index.\n",
      "  eventsAggregated_product_page = datesGroups.apply(lambda x: test_data[test_data['event_name'] == 'product_page']\\\n",
      "/tmp/ipykernel_55/133082967.py:26: UserWarning: Boolean Series key will be reindexed to match DataFrame index.\n",
      "  eventsAggregated_product_cart = datesGroups.apply(lambda x: test_data[test_data['event_name'] == 'product_cart']\\\n",
      "/tmp/ipykernel_55/133082967.py:35: UserWarning: Boolean Series key will be reindexed to match DataFrame index.\n",
      "  eventsAggregated_purchase = datesGroups.apply(lambda x: test_data[test_data['event_name'] == 'purchase']\\\n"
     ]
    }
   ],
   "source": [
    "# создаем массив уникальных пар значений дат и групп теста\n",
    "\n",
    "datesGroups = test_data[['event_date', 'group']].drop_duplicates()\n",
    "\n",
    "# получаем аггрегированные кумулятивные данные о кол-ве уникальных пользователей,\n",
    "# совершивших действие login\n",
    "\n",
    "test_data_login = test_data[test_data['event_name'] == 'login']\n",
    "eventsAggregated_login = datesGroups.apply(lambda x: test_data_login[np.logical_and(test_data_login['event_date'] <= x['event_date']\\\n",
    "                                                                                    , test_data_login['group'] == x['group'])]\\\n",
    "                                           .agg({'event_date':'max', 'group':'max', 'user_id':'count'}), axis = 1)\\\n",
    ".sort_values(by = ['event_date', 'group'])\n",
    "\n",
    "# получаем аггрегированные кумулятивные данные о кол-ве уникальных пользователей,\n",
    "# совершивших действие productc_page\n",
    "\n",
    "eventsAggregated_product_page = datesGroups.apply(lambda x: test_data[test_data['event_name'] == 'product_page']\\\n",
    "                                                  [np.logical_and(test_data['event_date'] <= x['event_date']\\\n",
    "                                                                       , test_data['group'] == x['group'])]\\\n",
    "                                    .agg({'event_date':'max', 'group':'max', 'user_id':'count'}), axis = 1)\\\n",
    ".sort_values(by = ['event_date', 'group'])\n",
    "\n",
    "# получаем аггрегированные кумулятивные данные о кол-ве уникальных пользователей,\n",
    "# совершивших действие productc_cart\n",
    "\n",
    "eventsAggregated_product_cart = datesGroups.apply(lambda x: test_data[test_data['event_name'] == 'product_cart']\\\n",
    "                                                  [np.logical_and(test_data['event_date'] <= x['event_date']\\\n",
    "                                                                       , test_data['group'] == x['group'])]\\\n",
    "                                    .agg({'event_date':'max', 'group':'max', 'user_id':'count'}), axis = 1)\\\n",
    ".sort_values(by = ['event_date', 'group'])\n",
    "\n",
    "# получаем аггрегированные кумулятивные данные о кол-ве уникальных пользователей,\n",
    "# совершивших действие purchase\n",
    "\n",
    "eventsAggregated_purchase = datesGroups.apply(lambda x: test_data[test_data['event_name'] == 'purchase']\\\n",
    "                                                  [np.logical_and(test_data['event_date'] <= x['event_date']\\\n",
    "                                                                       , test_data['group'] == x['group'])]\\\n",
    "                                    .agg({'event_date':'max', 'group':'max', 'user_id':'count'}), axis = 1)\\\n",
    ".sort_values(by = ['event_date', 'group'])\n",
    "\n",
    "# объединяем аггрегированные данные,\n",
    "# переименовываем колонки\n",
    "\n",
    "eventsAggregated1 = eventsAggregated_login.merge(eventsAggregated_product_page, on = ['event_date', 'group'], how = 'left')\n",
    "eventsAggregated2 = eventsAggregated1.merge(eventsAggregated_product_cart, on = ['event_date', 'group'], how = 'left')\n",
    "eventsAggregated2 = eventsAggregated2.rename(columns=({'user_id_x':'login', 'user_id_y':'product_page'}))\n",
    "\n",
    "eventsAggregated = eventsAggregated2.merge(eventsAggregated_purchase, on = ['event_date', 'group'], how = 'left')\n",
    "eventsAggregated = eventsAggregated.rename(columns = {\"user_id_x\":'product_cart', 'user_id_y':'purchase'})"
   ]
  },
  {
   "cell_type": "code",
   "execution_count": 31,
   "metadata": {},
   "outputs": [],
   "source": [
    "# считаем кумулятивную конверсию по метрикам\n",
    "\n",
    "eventsAggregated['product_page_cumconv'] = (eventsAggregated['product_page'] / eventsAggregated['login']).round(2)\n",
    "eventsAggregated['product_cart_cumconv'] = (eventsAggregated['product_cart'] / eventsAggregated['login']).round(2)\n",
    "eventsAggregated['purchase_cumconv'] = (eventsAggregated['purchase'] / eventsAggregated['login']).round(2)\n",
    "\n",
    "# отделяем данные по группам А и В\n",
    "eventsAggregated_A = eventsAggregated[eventsAggregated['group'] == 'a']\n",
    "eventsAggregated_B = eventsAggregated[eventsAggregated['group'] == 'b']"
   ]
  },
  {
   "cell_type": "code",
   "execution_count": 32,
   "metadata": {},
   "outputs": [
    {
     "data": {
      "text/html": [
       "<div>\n",
       "<style scoped>\n",
       "    .dataframe tbody tr th:only-of-type {\n",
       "        vertical-align: middle;\n",
       "    }\n",
       "\n",
       "    .dataframe tbody tr th {\n",
       "        vertical-align: top;\n",
       "    }\n",
       "\n",
       "    .dataframe thead th {\n",
       "        text-align: right;\n",
       "    }\n",
       "</style>\n",
       "<table border=\"1\" class=\"dataframe\">\n",
       "  <thead>\n",
       "    <tr style=\"text-align: right;\">\n",
       "      <th></th>\n",
       "      <th>event_date</th>\n",
       "      <th>group</th>\n",
       "      <th>login</th>\n",
       "      <th>product_page</th>\n",
       "      <th>product_cart</th>\n",
       "      <th>purchase</th>\n",
       "      <th>product_page_cumconv</th>\n",
       "      <th>product_cart_cumconv</th>\n",
       "      <th>purchase_cumconv</th>\n",
       "    </tr>\n",
       "  </thead>\n",
       "  <tbody>\n",
       "    <tr>\n",
       "      <th>0</th>\n",
       "      <td>2020-12-07</td>\n",
       "      <td>a</td>\n",
       "      <td>148</td>\n",
       "      <td>92</td>\n",
       "      <td>35</td>\n",
       "      <td>43.0</td>\n",
       "      <td>0.62</td>\n",
       "      <td>0.24</td>\n",
       "      <td>0.29</td>\n",
       "    </tr>\n",
       "    <tr>\n",
       "      <th>1</th>\n",
       "      <td>2020-12-07</td>\n",
       "      <td>b</td>\n",
       "      <td>155</td>\n",
       "      <td>101</td>\n",
       "      <td>41</td>\n",
       "      <td>59.0</td>\n",
       "      <td>0.65</td>\n",
       "      <td>0.26</td>\n",
       "      <td>0.38</td>\n",
       "    </tr>\n",
       "    <tr>\n",
       "      <th>2</th>\n",
       "      <td>2020-12-08</td>\n",
       "      <td>a</td>\n",
       "      <td>294</td>\n",
       "      <td>190</td>\n",
       "      <td>71</td>\n",
       "      <td>76.0</td>\n",
       "      <td>0.65</td>\n",
       "      <td>0.24</td>\n",
       "      <td>0.26</td>\n",
       "    </tr>\n",
       "    <tr>\n",
       "      <th>3</th>\n",
       "      <td>2020-12-08</td>\n",
       "      <td>b</td>\n",
       "      <td>268</td>\n",
       "      <td>162</td>\n",
       "      <td>72</td>\n",
       "      <td>92.0</td>\n",
       "      <td>0.60</td>\n",
       "      <td>0.27</td>\n",
       "      <td>0.34</td>\n",
       "    </tr>\n",
       "    <tr>\n",
       "      <th>4</th>\n",
       "      <td>2020-12-09</td>\n",
       "      <td>a</td>\n",
       "      <td>465</td>\n",
       "      <td>293</td>\n",
       "      <td>121</td>\n",
       "      <td>123.0</td>\n",
       "      <td>0.63</td>\n",
       "      <td>0.26</td>\n",
       "      <td>0.26</td>\n",
       "    </tr>\n",
       "    <tr>\n",
       "      <th>5</th>\n",
       "      <td>2020-12-09</td>\n",
       "      <td>b</td>\n",
       "      <td>429</td>\n",
       "      <td>261</td>\n",
       "      <td>111</td>\n",
       "      <td>131.0</td>\n",
       "      <td>0.61</td>\n",
       "      <td>0.26</td>\n",
       "      <td>0.31</td>\n",
       "    </tr>\n",
       "    <tr>\n",
       "      <th>6</th>\n",
       "      <td>2020-12-10</td>\n",
       "      <td>a</td>\n",
       "      <td>621</td>\n",
       "      <td>381</td>\n",
       "      <td>166</td>\n",
       "      <td>165.0</td>\n",
       "      <td>0.61</td>\n",
       "      <td>0.27</td>\n",
       "      <td>0.27</td>\n",
       "    </tr>\n",
       "    <tr>\n",
       "      <th>7</th>\n",
       "      <td>2020-12-10</td>\n",
       "      <td>b</td>\n",
       "      <td>553</td>\n",
       "      <td>328</td>\n",
       "      <td>143</td>\n",
       "      <td>157.0</td>\n",
       "      <td>0.59</td>\n",
       "      <td>0.26</td>\n",
       "      <td>0.28</td>\n",
       "    </tr>\n",
       "    <tr>\n",
       "      <th>8</th>\n",
       "      <td>2020-12-11</td>\n",
       "      <td>a</td>\n",
       "      <td>797</td>\n",
       "      <td>477</td>\n",
       "      <td>210</td>\n",
       "      <td>205.0</td>\n",
       "      <td>0.60</td>\n",
       "      <td>0.26</td>\n",
       "      <td>0.26</td>\n",
       "    </tr>\n",
       "    <tr>\n",
       "      <th>9</th>\n",
       "      <td>2020-12-11</td>\n",
       "      <td>b</td>\n",
       "      <td>637</td>\n",
       "      <td>373</td>\n",
       "      <td>159</td>\n",
       "      <td>173.0</td>\n",
       "      <td>0.59</td>\n",
       "      <td>0.25</td>\n",
       "      <td>0.27</td>\n",
       "    </tr>\n",
       "    <tr>\n",
       "      <th>10</th>\n",
       "      <td>2020-12-12</td>\n",
       "      <td>a</td>\n",
       "      <td>965</td>\n",
       "      <td>570</td>\n",
       "      <td>257</td>\n",
       "      <td>243.0</td>\n",
       "      <td>0.59</td>\n",
       "      <td>0.27</td>\n",
       "      <td>0.25</td>\n",
       "    </tr>\n",
       "    <tr>\n",
       "      <th>11</th>\n",
       "      <td>2020-12-12</td>\n",
       "      <td>b</td>\n",
       "      <td>739</td>\n",
       "      <td>424</td>\n",
       "      <td>180</td>\n",
       "      <td>198.0</td>\n",
       "      <td>0.57</td>\n",
       "      <td>0.24</td>\n",
       "      <td>0.27</td>\n",
       "    </tr>\n",
       "    <tr>\n",
       "      <th>12</th>\n",
       "      <td>2020-12-13</td>\n",
       "      <td>a</td>\n",
       "      <td>1119</td>\n",
       "      <td>658</td>\n",
       "      <td>291</td>\n",
       "      <td>275.0</td>\n",
       "      <td>0.59</td>\n",
       "      <td>0.26</td>\n",
       "      <td>0.25</td>\n",
       "    </tr>\n",
       "    <tr>\n",
       "      <th>13</th>\n",
       "      <td>2020-12-13</td>\n",
       "      <td>b</td>\n",
       "      <td>820</td>\n",
       "      <td>465</td>\n",
       "      <td>196</td>\n",
       "      <td>224.0</td>\n",
       "      <td>0.57</td>\n",
       "      <td>0.24</td>\n",
       "      <td>0.27</td>\n",
       "    </tr>\n",
       "    <tr>\n",
       "      <th>14</th>\n",
       "      <td>2020-12-14</td>\n",
       "      <td>a</td>\n",
       "      <td>1580</td>\n",
       "      <td>943</td>\n",
       "      <td>427</td>\n",
       "      <td>408.0</td>\n",
       "      <td>0.60</td>\n",
       "      <td>0.27</td>\n",
       "      <td>0.26</td>\n",
       "    </tr>\n",
       "    <tr>\n",
       "      <th>15</th>\n",
       "      <td>2020-12-14</td>\n",
       "      <td>b</td>\n",
       "      <td>940</td>\n",
       "      <td>524</td>\n",
       "      <td>233</td>\n",
       "      <td>256.0</td>\n",
       "      <td>0.56</td>\n",
       "      <td>0.25</td>\n",
       "      <td>0.27</td>\n",
       "    </tr>\n",
       "    <tr>\n",
       "      <th>16</th>\n",
       "      <td>2020-12-15</td>\n",
       "      <td>a</td>\n",
       "      <td>2032</td>\n",
       "      <td>1229</td>\n",
       "      <td>582</td>\n",
       "      <td>545.0</td>\n",
       "      <td>0.60</td>\n",
       "      <td>0.29</td>\n",
       "      <td>0.27</td>\n",
       "    </tr>\n",
       "    <tr>\n",
       "      <th>17</th>\n",
       "      <td>2020-12-15</td>\n",
       "      <td>b</td>\n",
       "      <td>1049</td>\n",
       "      <td>576</td>\n",
       "      <td>262</td>\n",
       "      <td>288.0</td>\n",
       "      <td>0.55</td>\n",
       "      <td>0.25</td>\n",
       "      <td>0.27</td>\n",
       "    </tr>\n",
       "    <tr>\n",
       "      <th>18</th>\n",
       "      <td>2020-12-16</td>\n",
       "      <td>a</td>\n",
       "      <td>2474</td>\n",
       "      <td>1514</td>\n",
       "      <td>720</td>\n",
       "      <td>687.0</td>\n",
       "      <td>0.61</td>\n",
       "      <td>0.29</td>\n",
       "      <td>0.28</td>\n",
       "    </tr>\n",
       "    <tr>\n",
       "      <th>19</th>\n",
       "      <td>2020-12-16</td>\n",
       "      <td>b</td>\n",
       "      <td>1214</td>\n",
       "      <td>672</td>\n",
       "      <td>320</td>\n",
       "      <td>338.0</td>\n",
       "      <td>0.55</td>\n",
       "      <td>0.26</td>\n",
       "      <td>0.28</td>\n",
       "    </tr>\n",
       "    <tr>\n",
       "      <th>20</th>\n",
       "      <td>2020-12-17</td>\n",
       "      <td>a</td>\n",
       "      <td>2994</td>\n",
       "      <td>1848</td>\n",
       "      <td>897</td>\n",
       "      <td>856.0</td>\n",
       "      <td>0.62</td>\n",
       "      <td>0.30</td>\n",
       "      <td>0.29</td>\n",
       "    </tr>\n",
       "    <tr>\n",
       "      <th>21</th>\n",
       "      <td>2020-12-17</td>\n",
       "      <td>b</td>\n",
       "      <td>1339</td>\n",
       "      <td>744</td>\n",
       "      <td>368</td>\n",
       "      <td>374.0</td>\n",
       "      <td>0.56</td>\n",
       "      <td>0.27</td>\n",
       "      <td>0.28</td>\n",
       "    </tr>\n",
       "    <tr>\n",
       "      <th>22</th>\n",
       "      <td>2020-12-18</td>\n",
       "      <td>a</td>\n",
       "      <td>3537</td>\n",
       "      <td>2218</td>\n",
       "      <td>1063</td>\n",
       "      <td>1021.0</td>\n",
       "      <td>0.63</td>\n",
       "      <td>0.30</td>\n",
       "      <td>0.29</td>\n",
       "    </tr>\n",
       "    <tr>\n",
       "      <th>23</th>\n",
       "      <td>2020-12-18</td>\n",
       "      <td>b</td>\n",
       "      <td>1466</td>\n",
       "      <td>807</td>\n",
       "      <td>408</td>\n",
       "      <td>403.0</td>\n",
       "      <td>0.55</td>\n",
       "      <td>0.28</td>\n",
       "      <td>0.27</td>\n",
       "    </tr>\n",
       "    <tr>\n",
       "      <th>24</th>\n",
       "      <td>2020-12-19</td>\n",
       "      <td>a</td>\n",
       "      <td>4154</td>\n",
       "      <td>2623</td>\n",
       "      <td>1263</td>\n",
       "      <td>1229.0</td>\n",
       "      <td>0.63</td>\n",
       "      <td>0.30</td>\n",
       "      <td>0.30</td>\n",
       "    </tr>\n",
       "    <tr>\n",
       "      <th>25</th>\n",
       "      <td>2020-12-19</td>\n",
       "      <td>b</td>\n",
       "      <td>1605</td>\n",
       "      <td>881</td>\n",
       "      <td>449</td>\n",
       "      <td>437.0</td>\n",
       "      <td>0.55</td>\n",
       "      <td>0.28</td>\n",
       "      <td>0.27</td>\n",
       "    </tr>\n",
       "    <tr>\n",
       "      <th>26</th>\n",
       "      <td>2020-12-20</td>\n",
       "      <td>a</td>\n",
       "      <td>4781</td>\n",
       "      <td>3025</td>\n",
       "      <td>1457</td>\n",
       "      <td>1440.0</td>\n",
       "      <td>0.63</td>\n",
       "      <td>0.30</td>\n",
       "      <td>0.30</td>\n",
       "    </tr>\n",
       "    <tr>\n",
       "      <th>27</th>\n",
       "      <td>2020-12-20</td>\n",
       "      <td>b</td>\n",
       "      <td>1760</td>\n",
       "      <td>964</td>\n",
       "      <td>483</td>\n",
       "      <td>474.0</td>\n",
       "      <td>0.55</td>\n",
       "      <td>0.27</td>\n",
       "      <td>0.27</td>\n",
       "    </tr>\n",
       "    <tr>\n",
       "      <th>28</th>\n",
       "      <td>2020-12-21</td>\n",
       "      <td>a</td>\n",
       "      <td>5618</td>\n",
       "      <td>3574</td>\n",
       "      <td>1692</td>\n",
       "      <td>1722.0</td>\n",
       "      <td>0.64</td>\n",
       "      <td>0.30</td>\n",
       "      <td>0.31</td>\n",
       "    </tr>\n",
       "    <tr>\n",
       "      <th>29</th>\n",
       "      <td>2020-12-21</td>\n",
       "      <td>b</td>\n",
       "      <td>1950</td>\n",
       "      <td>1066</td>\n",
       "      <td>540</td>\n",
       "      <td>526.0</td>\n",
       "      <td>0.55</td>\n",
       "      <td>0.28</td>\n",
       "      <td>0.27</td>\n",
       "    </tr>\n",
       "    <tr>\n",
       "      <th>30</th>\n",
       "      <td>2020-12-22</td>\n",
       "      <td>a</td>\n",
       "      <td>6172</td>\n",
       "      <td>3936</td>\n",
       "      <td>1848</td>\n",
       "      <td>1886.0</td>\n",
       "      <td>0.64</td>\n",
       "      <td>0.30</td>\n",
       "      <td>0.31</td>\n",
       "    </tr>\n",
       "    <tr>\n",
       "      <th>31</th>\n",
       "      <td>2020-12-22</td>\n",
       "      <td>b</td>\n",
       "      <td>2046</td>\n",
       "      <td>1110</td>\n",
       "      <td>558</td>\n",
       "      <td>553.0</td>\n",
       "      <td>0.54</td>\n",
       "      <td>0.27</td>\n",
       "      <td>0.27</td>\n",
       "    </tr>\n",
       "    <tr>\n",
       "      <th>32</th>\n",
       "      <td>2020-12-23</td>\n",
       "      <td>a</td>\n",
       "      <td>6598</td>\n",
       "      <td>4210</td>\n",
       "      <td>1971</td>\n",
       "      <td>2022.0</td>\n",
       "      <td>0.64</td>\n",
       "      <td>0.30</td>\n",
       "      <td>0.31</td>\n",
       "    </tr>\n",
       "    <tr>\n",
       "      <th>33</th>\n",
       "      <td>2020-12-23</td>\n",
       "      <td>b</td>\n",
       "      <td>2141</td>\n",
       "      <td>1158</td>\n",
       "      <td>581</td>\n",
       "      <td>576.0</td>\n",
       "      <td>0.54</td>\n",
       "      <td>0.27</td>\n",
       "      <td>0.27</td>\n",
       "    </tr>\n",
       "    <tr>\n",
       "      <th>34</th>\n",
       "      <td>2020-12-24</td>\n",
       "      <td>a</td>\n",
       "      <td>6960</td>\n",
       "      <td>4460</td>\n",
       "      <td>2087</td>\n",
       "      <td>2144.0</td>\n",
       "      <td>0.64</td>\n",
       "      <td>0.30</td>\n",
       "      <td>0.31</td>\n",
       "    </tr>\n",
       "    <tr>\n",
       "      <th>35</th>\n",
       "      <td>2020-12-24</td>\n",
       "      <td>b</td>\n",
       "      <td>2213</td>\n",
       "      <td>1193</td>\n",
       "      <td>604</td>\n",
       "      <td>595.0</td>\n",
       "      <td>0.54</td>\n",
       "      <td>0.27</td>\n",
       "      <td>0.27</td>\n",
       "    </tr>\n",
       "    <tr>\n",
       "      <th>36</th>\n",
       "      <td>2020-12-25</td>\n",
       "      <td>a</td>\n",
       "      <td>7238</td>\n",
       "      <td>4644</td>\n",
       "      <td>2158</td>\n",
       "      <td>2250.0</td>\n",
       "      <td>0.64</td>\n",
       "      <td>0.30</td>\n",
       "      <td>0.31</td>\n",
       "    </tr>\n",
       "    <tr>\n",
       "      <th>37</th>\n",
       "      <td>2020-12-25</td>\n",
       "      <td>b</td>\n",
       "      <td>2269</td>\n",
       "      <td>1223</td>\n",
       "      <td>614</td>\n",
       "      <td>606.0</td>\n",
       "      <td>0.54</td>\n",
       "      <td>0.27</td>\n",
       "      <td>0.27</td>\n",
       "    </tr>\n",
       "    <tr>\n",
       "      <th>38</th>\n",
       "      <td>2020-12-26</td>\n",
       "      <td>a</td>\n",
       "      <td>7487</td>\n",
       "      <td>4811</td>\n",
       "      <td>2230</td>\n",
       "      <td>2342.0</td>\n",
       "      <td>0.64</td>\n",
       "      <td>0.30</td>\n",
       "      <td>0.31</td>\n",
       "    </tr>\n",
       "    <tr>\n",
       "      <th>39</th>\n",
       "      <td>2020-12-26</td>\n",
       "      <td>b</td>\n",
       "      <td>2324</td>\n",
       "      <td>1257</td>\n",
       "      <td>625</td>\n",
       "      <td>619.0</td>\n",
       "      <td>0.54</td>\n",
       "      <td>0.27</td>\n",
       "      <td>0.27</td>\n",
       "    </tr>\n",
       "    <tr>\n",
       "      <th>40</th>\n",
       "      <td>2020-12-27</td>\n",
       "      <td>a</td>\n",
       "      <td>7725</td>\n",
       "      <td>4968</td>\n",
       "      <td>2300</td>\n",
       "      <td>2424.0</td>\n",
       "      <td>0.64</td>\n",
       "      <td>0.30</td>\n",
       "      <td>0.31</td>\n",
       "    </tr>\n",
       "    <tr>\n",
       "      <th>41</th>\n",
       "      <td>2020-12-27</td>\n",
       "      <td>b</td>\n",
       "      <td>2380</td>\n",
       "      <td>1281</td>\n",
       "      <td>640</td>\n",
       "      <td>638.0</td>\n",
       "      <td>0.54</td>\n",
       "      <td>0.27</td>\n",
       "      <td>0.27</td>\n",
       "    </tr>\n",
       "    <tr>\n",
       "      <th>42</th>\n",
       "      <td>2020-12-28</td>\n",
       "      <td>a</td>\n",
       "      <td>7931</td>\n",
       "      <td>5102</td>\n",
       "      <td>2370</td>\n",
       "      <td>2493.0</td>\n",
       "      <td>0.64</td>\n",
       "      <td>0.30</td>\n",
       "      <td>0.31</td>\n",
       "    </tr>\n",
       "    <tr>\n",
       "      <th>43</th>\n",
       "      <td>2020-12-28</td>\n",
       "      <td>b</td>\n",
       "      <td>2433</td>\n",
       "      <td>1307</td>\n",
       "      <td>646</td>\n",
       "      <td>648.0</td>\n",
       "      <td>0.54</td>\n",
       "      <td>0.27</td>\n",
       "      <td>0.27</td>\n",
       "    </tr>\n",
       "    <tr>\n",
       "      <th>44</th>\n",
       "      <td>2020-12-29</td>\n",
       "      <td>a</td>\n",
       "      <td>8124</td>\n",
       "      <td>5227</td>\n",
       "      <td>2422</td>\n",
       "      <td>2536.0</td>\n",
       "      <td>0.64</td>\n",
       "      <td>0.30</td>\n",
       "      <td>0.31</td>\n",
       "    </tr>\n",
       "    <tr>\n",
       "      <th>45</th>\n",
       "      <td>2020-12-29</td>\n",
       "      <td>b</td>\n",
       "      <td>2469</td>\n",
       "      <td>1326</td>\n",
       "      <td>652</td>\n",
       "      <td>660.0</td>\n",
       "      <td>0.54</td>\n",
       "      <td>0.26</td>\n",
       "      <td>0.27</td>\n",
       "    </tr>\n",
       "    <tr>\n",
       "      <th>46</th>\n",
       "      <td>2020-12-29</td>\n",
       "      <td>b</td>\n",
       "      <td>2469</td>\n",
       "      <td>1326</td>\n",
       "      <td>652</td>\n",
       "      <td>660.0</td>\n",
       "      <td>0.54</td>\n",
       "      <td>0.26</td>\n",
       "      <td>0.27</td>\n",
       "    </tr>\n",
       "    <tr>\n",
       "      <th>47</th>\n",
       "      <td>2020-12-30</td>\n",
       "      <td>b</td>\n",
       "      <td>2471</td>\n",
       "      <td>1327</td>\n",
       "      <td>653</td>\n",
       "      <td>NaN</td>\n",
       "      <td>0.54</td>\n",
       "      <td>0.26</td>\n",
       "      <td>NaN</td>\n",
       "    </tr>\n",
       "  </tbody>\n",
       "</table>\n",
       "</div>"
      ],
      "text/plain": [
       "   event_date group  login  product_page  product_cart  purchase  \\\n",
       "0  2020-12-07     a    148            92            35      43.0   \n",
       "1  2020-12-07     b    155           101            41      59.0   \n",
       "2  2020-12-08     a    294           190            71      76.0   \n",
       "3  2020-12-08     b    268           162            72      92.0   \n",
       "4  2020-12-09     a    465           293           121     123.0   \n",
       "5  2020-12-09     b    429           261           111     131.0   \n",
       "6  2020-12-10     a    621           381           166     165.0   \n",
       "7  2020-12-10     b    553           328           143     157.0   \n",
       "8  2020-12-11     a    797           477           210     205.0   \n",
       "9  2020-12-11     b    637           373           159     173.0   \n",
       "10 2020-12-12     a    965           570           257     243.0   \n",
       "11 2020-12-12     b    739           424           180     198.0   \n",
       "12 2020-12-13     a   1119           658           291     275.0   \n",
       "13 2020-12-13     b    820           465           196     224.0   \n",
       "14 2020-12-14     a   1580           943           427     408.0   \n",
       "15 2020-12-14     b    940           524           233     256.0   \n",
       "16 2020-12-15     a   2032          1229           582     545.0   \n",
       "17 2020-12-15     b   1049           576           262     288.0   \n",
       "18 2020-12-16     a   2474          1514           720     687.0   \n",
       "19 2020-12-16     b   1214           672           320     338.0   \n",
       "20 2020-12-17     a   2994          1848           897     856.0   \n",
       "21 2020-12-17     b   1339           744           368     374.0   \n",
       "22 2020-12-18     a   3537          2218          1063    1021.0   \n",
       "23 2020-12-18     b   1466           807           408     403.0   \n",
       "24 2020-12-19     a   4154          2623          1263    1229.0   \n",
       "25 2020-12-19     b   1605           881           449     437.0   \n",
       "26 2020-12-20     a   4781          3025          1457    1440.0   \n",
       "27 2020-12-20     b   1760           964           483     474.0   \n",
       "28 2020-12-21     a   5618          3574          1692    1722.0   \n",
       "29 2020-12-21     b   1950          1066           540     526.0   \n",
       "30 2020-12-22     a   6172          3936          1848    1886.0   \n",
       "31 2020-12-22     b   2046          1110           558     553.0   \n",
       "32 2020-12-23     a   6598          4210          1971    2022.0   \n",
       "33 2020-12-23     b   2141          1158           581     576.0   \n",
       "34 2020-12-24     a   6960          4460          2087    2144.0   \n",
       "35 2020-12-24     b   2213          1193           604     595.0   \n",
       "36 2020-12-25     a   7238          4644          2158    2250.0   \n",
       "37 2020-12-25     b   2269          1223           614     606.0   \n",
       "38 2020-12-26     a   7487          4811          2230    2342.0   \n",
       "39 2020-12-26     b   2324          1257           625     619.0   \n",
       "40 2020-12-27     a   7725          4968          2300    2424.0   \n",
       "41 2020-12-27     b   2380          1281           640     638.0   \n",
       "42 2020-12-28     a   7931          5102          2370    2493.0   \n",
       "43 2020-12-28     b   2433          1307           646     648.0   \n",
       "44 2020-12-29     a   8124          5227          2422    2536.0   \n",
       "45 2020-12-29     b   2469          1326           652     660.0   \n",
       "46 2020-12-29     b   2469          1326           652     660.0   \n",
       "47 2020-12-30     b   2471          1327           653       NaN   \n",
       "\n",
       "    product_page_cumconv  product_cart_cumconv  purchase_cumconv  \n",
       "0                   0.62                  0.24              0.29  \n",
       "1                   0.65                  0.26              0.38  \n",
       "2                   0.65                  0.24              0.26  \n",
       "3                   0.60                  0.27              0.34  \n",
       "4                   0.63                  0.26              0.26  \n",
       "5                   0.61                  0.26              0.31  \n",
       "6                   0.61                  0.27              0.27  \n",
       "7                   0.59                  0.26              0.28  \n",
       "8                   0.60                  0.26              0.26  \n",
       "9                   0.59                  0.25              0.27  \n",
       "10                  0.59                  0.27              0.25  \n",
       "11                  0.57                  0.24              0.27  \n",
       "12                  0.59                  0.26              0.25  \n",
       "13                  0.57                  0.24              0.27  \n",
       "14                  0.60                  0.27              0.26  \n",
       "15                  0.56                  0.25              0.27  \n",
       "16                  0.60                  0.29              0.27  \n",
       "17                  0.55                  0.25              0.27  \n",
       "18                  0.61                  0.29              0.28  \n",
       "19                  0.55                  0.26              0.28  \n",
       "20                  0.62                  0.30              0.29  \n",
       "21                  0.56                  0.27              0.28  \n",
       "22                  0.63                  0.30              0.29  \n",
       "23                  0.55                  0.28              0.27  \n",
       "24                  0.63                  0.30              0.30  \n",
       "25                  0.55                  0.28              0.27  \n",
       "26                  0.63                  0.30              0.30  \n",
       "27                  0.55                  0.27              0.27  \n",
       "28                  0.64                  0.30              0.31  \n",
       "29                  0.55                  0.28              0.27  \n",
       "30                  0.64                  0.30              0.31  \n",
       "31                  0.54                  0.27              0.27  \n",
       "32                  0.64                  0.30              0.31  \n",
       "33                  0.54                  0.27              0.27  \n",
       "34                  0.64                  0.30              0.31  \n",
       "35                  0.54                  0.27              0.27  \n",
       "36                  0.64                  0.30              0.31  \n",
       "37                  0.54                  0.27              0.27  \n",
       "38                  0.64                  0.30              0.31  \n",
       "39                  0.54                  0.27              0.27  \n",
       "40                  0.64                  0.30              0.31  \n",
       "41                  0.54                  0.27              0.27  \n",
       "42                  0.64                  0.30              0.31  \n",
       "43                  0.54                  0.27              0.27  \n",
       "44                  0.64                  0.30              0.31  \n",
       "45                  0.54                  0.26              0.27  \n",
       "46                  0.54                  0.26              0.27  \n",
       "47                  0.54                  0.26               NaN  "
      ]
     },
     "metadata": {},
     "output_type": "display_data"
    }
   ],
   "source": [
    "# выводим данные кумулятивной конверсии\n",
    "\n",
    "display(eventsAggregated)"
   ]
  },
  {
   "cell_type": "code",
   "execution_count": 33,
   "metadata": {},
   "outputs": [
    {
     "data": {
      "image/png": "[encoded data removed]",
      "text/plain": [
       "<Figure size 1080x432 with 1 Axes>"
      ]
     },
     "metadata": {
      "needs_background": "light"
     },
     "output_type": "display_data"
    }
   ],
   "source": [
    "# строим график кумулятивной конверсии по целевым действиям\n",
    "\n",
    "plt.figure(figsize=(15, 6))\n",
    "plt.plot(eventsAggregated_A['event_date'], eventsAggregated_A['product_page_cumconv'], label = \"A_product_page\")\n",
    "plt.plot(eventsAggregated_B['event_date'], eventsAggregated_B['product_page_cumconv'], label = \"B_product_page\")\n",
    "\n",
    "plt.plot(eventsAggregated_A['event_date'], eventsAggregated_A['product_cart_cumconv'], label = \"A_product_cart\")\n",
    "plt.plot(eventsAggregated_B['event_date'], eventsAggregated_B['product_cart_cumconv'], label = \"B_product_cart\")\n",
    "\n",
    "plt.plot(eventsAggregated_A['event_date'], eventsAggregated_A['purchase_cumconv'], label = \"A_purchase\")\n",
    "plt.plot(eventsAggregated_B['event_date'], eventsAggregated_B['purchase_cumconv'], label = \"B_purchase\")\n",
    "\n",
    "plt.title('Кумулятивная конверсия целевых метрик')\n",
    "plt.legend()\n",
    "plt.grid(True)\n",
    "plt.xticks(rotation = 45)\n",
    "\n",
    "plt.show()"
   ]
  },
  {
   "cell_type": "markdown",
   "metadata": {},
   "source": [
    "**Выводы по графику:**\n",
    "* по всем целевым метрикам кумулятивная конверсия группы А (контрольной) показала лучший результат, чем конверсия группы В (тестовой)\n",
    "* **метрика product_page**: на старте, в первый день эксперимента, показания группы В оказались выше, на второй день тренды пересеклись, до 12 декабря были параллельные колебания на сближение и удаление, далее группы стали удаляться друг от друга, группа В зафиксировалась 18 декабря, группа А зафиксировалась 21 декабря, последующие 8 дней группы шли параллельно - группа А с существенно лучшим результатом\n",
    "* **метрика product_cart** - на старте, в первый день эксперимента, показания группы В оказались выше, на второй день тренды пересеклись, до 17 декабря были параллельные колебания на сближение и удаление, далее группы зафиксировались и последующие 12 дней шли параллельно - группа А с лучшим результатом\n",
    "* **метрика purchase** - на старте конверсия группы В ведет себя существенно лучше, чем конверсия группы А, до 13 декабря происходят колебания на сближение и удаление, 13 декабря у группы А начинается стремительный рост, 15 декабря тренды пересекаются и группа А начинает доминировать, 18 декабря фиксируется группа В, 19 декабря фиксируется группа А, далее группы идут параллельно - группа А с лучшим результатом"
   ]
  },
  {
   "cell_type": "markdown",
   "metadata": {},
   "source": [
    "### Оценка ожидаемого эффекта"
   ]
  },
  {
   "cell_type": "markdown",
   "metadata": {},
   "source": [
    "* **ожидаемый эффект:** за 14 дней с момента регистрации пользователи покажут улучшение каждой метрики не менее, чем на 10%"
   ]
  },
  {
   "cell_type": "code",
   "execution_count": 34,
   "metadata": {},
   "outputs": [
    {
     "data": {
      "text/plain": [
       "Timestamp('2020-12-21 00:00:00')"
      ]
     },
     "metadata": {},
     "output_type": "display_data"
    },
    {
     "data": {
      "text/plain": [
       "Timestamp('2021-01-04 00:00:00')"
      ]
     },
     "metadata": {},
     "output_type": "display_data"
    }
   ],
   "source": [
    "# добавляем к таблице test_data колонку last_test_date,\n",
    "# определяем горизонт для ресчета эффекта по каждому пользователю\n",
    "\n",
    "test_data['last_test_date'] = (test_data['first_date'] + timedelta(days=14))\n",
    "\n",
    "display(test_data['last_test_date'].min(), test_data['last_test_date'].max())"
   ]
  },
  {
   "cell_type": "code",
   "execution_count": 35,
   "metadata": {},
   "outputs": [
    {
     "data": {
      "text/html": [
       "<div>\n",
       "<style scoped>\n",
       "    .dataframe tbody tr th:only-of-type {\n",
       "        vertical-align: middle;\n",
       "    }\n",
       "\n",
       "    .dataframe tbody tr th {\n",
       "        vertical-align: top;\n",
       "    }\n",
       "\n",
       "    .dataframe thead th {\n",
       "        text-align: right;\n",
       "    }\n",
       "</style>\n",
       "<table border=\"1\" class=\"dataframe\">\n",
       "  <thead>\n",
       "    <tr style=\"text-align: right;\">\n",
       "      <th></th>\n",
       "      <th>user_id</th>\n",
       "      <th>event_dt</th>\n",
       "      <th>event_name</th>\n",
       "      <th>group</th>\n",
       "      <th>first_date</th>\n",
       "      <th>device</th>\n",
       "      <th>event_date</th>\n",
       "      <th>last_test_date</th>\n",
       "      <th>last_reg_date</th>\n",
       "    </tr>\n",
       "  </thead>\n",
       "  <tbody>\n",
       "    <tr>\n",
       "      <th>0</th>\n",
       "      <td>831887fe7f2d6cba</td>\n",
       "      <td>2020-12-07 06:50:29</td>\n",
       "      <td>purchase</td>\n",
       "      <td>a</td>\n",
       "      <td>2020-12-07</td>\n",
       "      <td>android</td>\n",
       "      <td>2020-12-07</td>\n",
       "      <td>2020-12-21</td>\n",
       "      <td>2020-12-17</td>\n",
       "    </tr>\n",
       "    <tr>\n",
       "      <th>1</th>\n",
       "      <td>3c5dd0288ac4fe23</td>\n",
       "      <td>2020-12-07 19:42:40</td>\n",
       "      <td>purchase</td>\n",
       "      <td>a</td>\n",
       "      <td>2020-12-07</td>\n",
       "      <td>pc</td>\n",
       "      <td>2020-12-07</td>\n",
       "      <td>2020-12-21</td>\n",
       "      <td>2020-12-17</td>\n",
       "    </tr>\n",
       "  </tbody>\n",
       "</table>\n",
       "</div>"
      ],
      "text/plain": [
       "            user_id            event_dt event_name group first_date   device  \\\n",
       "0  831887fe7f2d6cba 2020-12-07 06:50:29   purchase     a 2020-12-07  android   \n",
       "1  3c5dd0288ac4fe23 2020-12-07 19:42:40   purchase     a 2020-12-07       pc   \n",
       "\n",
       "  event_date last_test_date last_reg_date  \n",
       "0 2020-12-07     2020-12-21    2020-12-17  \n",
       "1 2020-12-07     2020-12-21    2020-12-17  "
      ]
     },
     "metadata": {},
     "output_type": "display_data"
    }
   ],
   "source": [
    "# в связи с отсутствием данных о событиях после 2020-12-30,\n",
    "# определяем дату последней регистрации, приемлемую для расчета эффективности\n",
    "\n",
    "test_data['last_reg_date'] = (test_data['event_date'].max() - timedelta(days=13))\n",
    "display(test_data.head(2))"
   ]
  },
  {
   "cell_type": "code",
   "execution_count": 36,
   "metadata": {},
   "outputs": [
    {
     "name": "stdout",
     "output_type": "stream",
     "text": [
      "Диапазон дат регистрции:\n",
      " 2020-12-07 00:00:00 2020-12-17 00:00:00\n",
      "\n",
      "Диапазон дат событий:\n",
      " 2020-12-07 00:00:00 2020-12-29 00:00:00\n"
     ]
    }
   ],
   "source": [
    "# делаем выборку по пользователям и событиям,\n",
    "# подходящим под критерий расчета эффективности за 14 дней\n",
    "\n",
    "test_data_impact_check1 = test_data[(test_data['first_date'] <= test_data['last_reg_date'])\\\n",
    "                                   & (test_data['event_date'] <= test_data['last_test_date'])]\n",
    "\n",
    "print('Диапазон дат регистрции:\\n', test_data_impact_check1['first_date'].min(), test_data_impact_check1['first_date'].max())\n",
    "print()\n",
    "print('Диапазон дат событий:\\n', test_data_impact_check1['event_date'].min(), test_data_impact_check1['event_date'].max())"
   ]
  },
  {
   "cell_type": "code",
   "execution_count": 37,
   "metadata": {},
   "outputs": [
    {
     "data": {
      "text/html": [
       "<div>\n",
       "<style scoped>\n",
       "    .dataframe tbody tr th:only-of-type {\n",
       "        vertical-align: middle;\n",
       "    }\n",
       "\n",
       "    .dataframe tbody tr th {\n",
       "        vertical-align: top;\n",
       "    }\n",
       "\n",
       "    .dataframe thead th {\n",
       "        text-align: right;\n",
       "    }\n",
       "</style>\n",
       "<table border=\"1\" class=\"dataframe\">\n",
       "  <thead>\n",
       "    <tr style=\"text-align: right;\">\n",
       "      <th>event_name</th>\n",
       "      <th>login</th>\n",
       "      <th>product_cart</th>\n",
       "      <th>product_page</th>\n",
       "      <th>purchase</th>\n",
       "    </tr>\n",
       "    <tr>\n",
       "      <th>group</th>\n",
       "      <th></th>\n",
       "      <th></th>\n",
       "      <th></th>\n",
       "      <th></th>\n",
       "    </tr>\n",
       "  </thead>\n",
       "  <tbody>\n",
       "    <tr>\n",
       "      <th>a</th>\n",
       "      <td>1515</td>\n",
       "      <td>458</td>\n",
       "      <td>962</td>\n",
       "      <td>462</td>\n",
       "    </tr>\n",
       "    <tr>\n",
       "      <th>b</th>\n",
       "      <td>639</td>\n",
       "      <td>187</td>\n",
       "      <td>365</td>\n",
       "      <td>183</td>\n",
       "    </tr>\n",
       "  </tbody>\n",
       "</table>\n",
       "</div>"
      ],
      "text/plain": [
       "event_name  login  product_cart  product_page  purchase\n",
       "group                                                  \n",
       "a            1515           458           962       462\n",
       "b             639           187           365       183"
      ]
     },
     "metadata": {},
     "output_type": "display_data"
    }
   ],
   "source": [
    "# аггрегируем данные по кол-ву уникальных пользователей в каждой группе,\n",
    "# совершивших целевые действия за установленный период расчета эффективности\n",
    "\n",
    "test_data_impact_check = test_data_impact_check1.pivot_table(index='group'\\\n",
    "                                                             , columns='event_name', values = 'user_id', aggfunc = 'nunique')\n",
    "\n",
    "display(test_data_impact_check)"
   ]
  },
  {
   "cell_type": "code",
   "execution_count": 38,
   "metadata": {},
   "outputs": [
    {
     "data": {
      "text/html": [
       "<div>\n",
       "<style scoped>\n",
       "    .dataframe tbody tr th:only-of-type {\n",
       "        vertical-align: middle;\n",
       "    }\n",
       "\n",
       "    .dataframe tbody tr th {\n",
       "        vertical-align: top;\n",
       "    }\n",
       "\n",
       "    .dataframe thead th {\n",
       "        text-align: right;\n",
       "    }\n",
       "</style>\n",
       "<table border=\"1\" class=\"dataframe\">\n",
       "  <thead>\n",
       "    <tr style=\"text-align: right;\">\n",
       "      <th>group</th>\n",
       "      <th>a</th>\n",
       "      <th>b</th>\n",
       "    </tr>\n",
       "    <tr>\n",
       "      <th>event_name</th>\n",
       "      <th></th>\n",
       "      <th></th>\n",
       "    </tr>\n",
       "  </thead>\n",
       "  <tbody>\n",
       "    <tr>\n",
       "      <th>login</th>\n",
       "      <td>1515.000000</td>\n",
       "      <td>639.000000</td>\n",
       "    </tr>\n",
       "    <tr>\n",
       "      <th>product_cart</th>\n",
       "      <td>458.000000</td>\n",
       "      <td>187.000000</td>\n",
       "    </tr>\n",
       "    <tr>\n",
       "      <th>product_page</th>\n",
       "      <td>962.000000</td>\n",
       "      <td>365.000000</td>\n",
       "    </tr>\n",
       "    <tr>\n",
       "      <th>purchase</th>\n",
       "      <td>462.000000</td>\n",
       "      <td>183.000000</td>\n",
       "    </tr>\n",
       "    <tr>\n",
       "      <th>product_cart_impactconv</th>\n",
       "      <td>0.302310</td>\n",
       "      <td>0.292645</td>\n",
       "    </tr>\n",
       "    <tr>\n",
       "      <th>product_page_impactconv</th>\n",
       "      <td>0.634983</td>\n",
       "      <td>0.571205</td>\n",
       "    </tr>\n",
       "    <tr>\n",
       "      <th>purchase_impactconv</th>\n",
       "      <td>0.304950</td>\n",
       "      <td>0.286385</td>\n",
       "    </tr>\n",
       "  </tbody>\n",
       "</table>\n",
       "</div>"
      ],
      "text/plain": [
       "group                              a           b\n",
       "event_name                                      \n",
       "login                    1515.000000  639.000000\n",
       "product_cart              458.000000  187.000000\n",
       "product_page              962.000000  365.000000\n",
       "purchase                  462.000000  183.000000\n",
       "product_cart_impactconv     0.302310    0.292645\n",
       "product_page_impactconv     0.634983    0.571205\n",
       "purchase_impactconv         0.304950    0.286385"
      ]
     },
     "metadata": {},
     "output_type": "display_data"
    }
   ],
   "source": [
    "# добавляем колонки с расчетом конверсии в целевые действия\n",
    "\n",
    "test_data_impact_check['product_cart_impactconv'] = test_data_impact_check['product_cart'] / test_data_impact_check['login']\n",
    "test_data_impact_check['product_page_impactconv'] = test_data_impact_check['product_page'] / test_data_impact_check['login']\n",
    "test_data_impact_check['purchase_impactconv'] = test_data_impact_check['purchase'] / test_data_impact_check['login']\n",
    "\n",
    "display(test_data_impact_check.T)"
   ]
  },
  {
   "cell_type": "code",
   "execution_count": 39,
   "metadata": {},
   "outputs": [
    {
     "data": {
      "image/png": "[encoded data removed]",
      "text/plain": [
       "<Figure size 504x360 with 1 Axes>"
      ]
     },
     "metadata": {
      "needs_background": "light"
     },
     "output_type": "display_data"
    }
   ],
   "source": [
    "# строим столбчатую диаграмму для визуализации конверсии по целевым метрикам\n",
    "\n",
    "test_data_impact_check[['product_cart_impactconv', 'product_page_impactconv', 'purchase_impactconv']].T\\\n",
    ".plot(kind='bar', grid=True, title = ('Конверсия за 14 дней с момента регистрации пользователей'), figsize = (7, 5)\\\n",
    "     , xlabel = ('целевое действие'), ylabel = 'конверсия')\n",
    "\n",
    "plt.xticks(rotation = 45)\n",
    "plt.show()"
   ]
  },
  {
   "cell_type": "markdown",
   "metadata": {},
   "source": [
    "**Выводы по графику и расчетам:**\n",
    "* исследование данных показало, что **эффект**, ожидавшийся от эксперимента, **не достигнут**\n",
    "* согласно Технического Задания **ожидалось**, что за 14 дней с момента регистрации пользователи покажут **улучшение** каждой метрики не менее, чем **на 10%**\n",
    "* **по факту** тестовая группа показала  **ухудшение** конверсии относительно контрольной"
   ]
  },
  {
   "cell_type": "markdown",
   "metadata": {},
   "source": [
    "### Проверка распределения количества событий на пользователя в группах"
   ]
  },
  {
   "cell_type": "code",
   "execution_count": 40,
   "metadata": {},
   "outputs": [
    {
     "name": "stdout",
     "output_type": "stream",
     "text": [
      "Кол-во уникальных пользователей, совершивших действия в группе А: 2604\n",
      "\n",
      "Кол-во уникальных пользователей, совершивших действия в группе B: 877\n"
     ]
    },
    {
     "data": {
      "text/html": [
       "<div>\n",
       "<style scoped>\n",
       "    .dataframe tbody tr th:only-of-type {\n",
       "        vertical-align: middle;\n",
       "    }\n",
       "\n",
       "    .dataframe tbody tr th {\n",
       "        vertical-align: top;\n",
       "    }\n",
       "\n",
       "    .dataframe thead th {\n",
       "        text-align: right;\n",
       "    }\n",
       "</style>\n",
       "<table border=\"1\" class=\"dataframe\">\n",
       "  <thead>\n",
       "    <tr style=\"text-align: right;\">\n",
       "      <th></th>\n",
       "      <th>event_name</th>\n",
       "      <th>count</th>\n",
       "      <th>mean</th>\n",
       "      <th>std</th>\n",
       "      <th>min</th>\n",
       "      <th>25%</th>\n",
       "      <th>50%</th>\n",
       "      <th>75%</th>\n",
       "      <th>max</th>\n",
       "    </tr>\n",
       "  </thead>\n",
       "  <tbody>\n",
       "    <tr>\n",
       "      <th>0</th>\n",
       "      <td>login</td>\n",
       "      <td>2604.0</td>\n",
       "      <td>3.119816</td>\n",
       "      <td>1.225390</td>\n",
       "      <td>1.0</td>\n",
       "      <td>2.0</td>\n",
       "      <td>3.0</td>\n",
       "      <td>4.0</td>\n",
       "      <td>7.0</td>\n",
       "    </tr>\n",
       "    <tr>\n",
       "      <th>4</th>\n",
       "      <td>login</td>\n",
       "      <td>877.0</td>\n",
       "      <td>2.817560</td>\n",
       "      <td>1.300162</td>\n",
       "      <td>1.0</td>\n",
       "      <td>2.0</td>\n",
       "      <td>3.0</td>\n",
       "      <td>4.0</td>\n",
       "      <td>9.0</td>\n",
       "    </tr>\n",
       "    <tr>\n",
       "      <th>1</th>\n",
       "      <td>product_cart</td>\n",
       "      <td>782.0</td>\n",
       "      <td>3.097187</td>\n",
       "      <td>1.194639</td>\n",
       "      <td>1.0</td>\n",
       "      <td>2.0</td>\n",
       "      <td>3.0</td>\n",
       "      <td>4.0</td>\n",
       "      <td>7.0</td>\n",
       "    </tr>\n",
       "    <tr>\n",
       "      <th>5</th>\n",
       "      <td>product_cart</td>\n",
       "      <td>244.0</td>\n",
       "      <td>2.676230</td>\n",
       "      <td>1.272408</td>\n",
       "      <td>1.0</td>\n",
       "      <td>2.0</td>\n",
       "      <td>3.0</td>\n",
       "      <td>3.0</td>\n",
       "      <td>9.0</td>\n",
       "    </tr>\n",
       "    <tr>\n",
       "      <th>2</th>\n",
       "      <td>product_page</td>\n",
       "      <td>1685.0</td>\n",
       "      <td>3.102077</td>\n",
       "      <td>1.230174</td>\n",
       "      <td>1.0</td>\n",
       "      <td>2.0</td>\n",
       "      <td>3.0</td>\n",
       "      <td>4.0</td>\n",
       "      <td>7.0</td>\n",
       "    </tr>\n",
       "    <tr>\n",
       "      <th>6</th>\n",
       "      <td>product_page</td>\n",
       "      <td>493.0</td>\n",
       "      <td>2.691684</td>\n",
       "      <td>1.285580</td>\n",
       "      <td>1.0</td>\n",
       "      <td>2.0</td>\n",
       "      <td>3.0</td>\n",
       "      <td>3.0</td>\n",
       "      <td>9.0</td>\n",
       "    </tr>\n",
       "    <tr>\n",
       "      <th>3</th>\n",
       "      <td>purchase</td>\n",
       "      <td>833.0</td>\n",
       "      <td>3.044418</td>\n",
       "      <td>1.212592</td>\n",
       "      <td>1.0</td>\n",
       "      <td>2.0</td>\n",
       "      <td>3.0</td>\n",
       "      <td>4.0</td>\n",
       "      <td>7.0</td>\n",
       "    </tr>\n",
       "    <tr>\n",
       "      <th>7</th>\n",
       "      <td>purchase</td>\n",
       "      <td>249.0</td>\n",
       "      <td>2.650602</td>\n",
       "      <td>1.258203</td>\n",
       "      <td>1.0</td>\n",
       "      <td>2.0</td>\n",
       "      <td>3.0</td>\n",
       "      <td>3.0</td>\n",
       "      <td>7.0</td>\n",
       "    </tr>\n",
       "  </tbody>\n",
       "</table>\n",
       "</div>"
      ],
      "text/plain": [
       "     event_name   count      mean       std  min  25%  50%  75%  max\n",
       "0         login  2604.0  3.119816  1.225390  1.0  2.0  3.0  4.0  7.0\n",
       "4         login   877.0  2.817560  1.300162  1.0  2.0  3.0  4.0  9.0\n",
       "1  product_cart   782.0  3.097187  1.194639  1.0  2.0  3.0  4.0  7.0\n",
       "5  product_cart   244.0  2.676230  1.272408  1.0  2.0  3.0  3.0  9.0\n",
       "2  product_page  1685.0  3.102077  1.230174  1.0  2.0  3.0  4.0  7.0\n",
       "6  product_page   493.0  2.691684  1.285580  1.0  2.0  3.0  3.0  9.0\n",
       "3      purchase   833.0  3.044418  1.212592  1.0  2.0  3.0  4.0  7.0\n",
       "7      purchase   249.0  2.650602  1.258203  1.0  2.0  3.0  3.0  7.0"
      ]
     },
     "metadata": {},
     "output_type": "display_data"
    }
   ],
   "source": [
    "# проверяем распределение кол-ва событий на пользователя по целевым метрикам в группе А\n",
    "\n",
    "test_A = test_data[test_data['group'] == 'a'].pivot_table(index='user_id', columns='event_name'\\\n",
    "                                                          , values = 'event_dt', aggfunc = 'count')\\\n",
    ".reset_index()\n",
    "test_A_descr = test_A.describe().T\n",
    "\n",
    "test_B = test_data[test_data['group'] == 'b'].pivot_table(index='user_id', columns='event_name'\\\n",
    "                                                          , values = 'event_dt', aggfunc = 'count')\\\n",
    ".reset_index()\n",
    "test_B_descr = test_B.describe().T\n",
    "\n",
    "# объединяем таблицы\n",
    "\n",
    "test_A_B_descr = test_A_descr.append(test_B_descr)\n",
    "\n",
    "# выводим информацию об уникальных пользователях, совершивших действия, в группах\n",
    "# и о распределении кол-ва действий по метрикам на пользователя\n",
    "\n",
    "print('Кол-во уникальных пользователей, совершивших действия в группе А:', test_A['user_id'].nunique())\n",
    "print()\n",
    "print('Кол-во уникальных пользователей, совершивших действия в группе B:', test_B['user_id'].nunique())\n",
    "\n",
    "display(test_A_B_descr.reset_index().sort_values(by = 'event_name'))"
   ]
  },
  {
   "cell_type": "markdown",
   "metadata": {},
   "source": [
    "**Выводы по расчетам:**\n",
    "\n",
    "* только **55%** пользователей из изначального распределення (6 351 пользователь => А = 57%, В = 43%) конвертировались за время эксперимента в пользователей, совершивших действия\n",
    "* распределение совершивших действия по группам произошло **не равномерно**\n",
    "* группа **А потеряла 28%** пользователей\n",
    "* группа **В потеряла 68%** пользователей\n",
    "* **распределение** между группами стало: **А = 75% / В = 25%**\n",
    "* при этом распределение кол-ва событий на пользователей между группами носит достаточно ровный характер\n",
    "* **минимальные** значения все равны 1\n",
    "* **максимальные** значения в группе В выше, чем в группе А: В = 9 на пользователя, А = 7 на пользователя\n",
    "* **средние** значения в группе А колеблятся в диапазоне от 3,04 (purchase) до 3,12 (login)\n",
    "* **средние** значения в группе B колеблятся в диапазоне от 2,65 (purchase) до 2,82 (login)"
   ]
  },
  {
   "cell_type": "markdown",
   "metadata": {},
   "source": [
    "### Проверка распределения количества событий по дням"
   ]
  },
  {
   "cell_type": "code",
   "execution_count": 41,
   "metadata": {},
   "outputs": [
    {
     "name": "stderr",
     "output_type": "stream",
     "text": [
      "/tmp/ipykernel_55/1620232579.py:4: UserWarning: Boolean Series key will be reindexed to match DataFrame index.\n",
      "  events_login = datesGroups.apply(lambda x: test_data[test_data['event_name'] == 'login']\\\n",
      "/tmp/ipykernel_55/1620232579.py:13: UserWarning: Boolean Series key will be reindexed to match DataFrame index.\n",
      "  events_product_page = datesGroups.apply(lambda x: test_data[test_data['event_name'] == 'product_page']\\\n",
      "/tmp/ipykernel_55/1620232579.py:23: UserWarning: Boolean Series key will be reindexed to match DataFrame index.\n",
      "  events_product_cart = datesGroups.apply(lambda x: test_data[test_data['event_name'] == 'product_cart']\\\n",
      "/tmp/ipykernel_55/1620232579.py:32: UserWarning: Boolean Series key will be reindexed to match DataFrame index.\n",
      "  events_purchase = datesGroups.apply(lambda x: test_data[test_data['event_name'] == 'purchase']\\\n"
     ]
    }
   ],
   "source": [
    "# получаем данные по дням и группам о кол-ве уникальных пользователей,\n",
    "# совершивших действие login\n",
    "\n",
    "events_login = datesGroups.apply(lambda x: test_data[test_data['event_name'] == 'login']\\\n",
    "                                           [np.logical_and(test_data['event_date'] == x['event_date']\\\n",
    "                                                           , test_data['group'] == x['group'])]\\\n",
    "                                           .agg({'event_date':'max', 'group':'max', 'user_id':'nunique'}), axis = 1)\\\n",
    ".sort_values(by = ['event_date', 'group'])\n",
    "\n",
    "# получаем данные по дням и группам о кол-ве уникальных пользователей,\n",
    "# совершивших действие product_page\n",
    "\n",
    "events_product_page = datesGroups.apply(lambda x: test_data[test_data['event_name'] == 'product_page']\\\n",
    "                                           [np.logical_and(test_data['event_date'] == x['event_date']\\\n",
    "                                                           , test_data['group'] == x['group'])]\\\n",
    "                                           .agg({'event_date':'max', 'group':'max', 'user_id':'nunique'}), axis = 1)\\\n",
    ".sort_values(by = ['event_date', 'group'])\n",
    "\n",
    "\n",
    "# получаем данные по дням и группам о кол-ве уникальных пользователей,\n",
    "# совершивших действие product_cart\n",
    "\n",
    "events_product_cart = datesGroups.apply(lambda x: test_data[test_data['event_name'] == 'product_cart']\\\n",
    "                                           [np.logical_and(test_data['event_date'] == x['event_date']\\\n",
    "                                                           , test_data['group'] == x['group'])]\\\n",
    "                                           .agg({'event_date':'max', 'group':'max', 'user_id':'nunique'}), axis = 1)\\\n",
    ".sort_values(by = ['event_date', 'group'])\n",
    "\n",
    "# получаем данные по дням и группам о кол-ве уникальных пользователей,\n",
    "# совершивших действие purchase\n",
    "\n",
    "events_purchase = datesGroups.apply(lambda x: test_data[test_data['event_name'] == 'purchase']\\\n",
    "                                           [np.logical_and(test_data['event_date'] == x['event_date']\\\n",
    "                                                           , test_data['group'] == x['group'])]\\\n",
    "                                           .agg({'event_date':'max', 'group':'max', 'user_id':'nunique'}), axis = 1)\\\n",
    ".sort_values(by = ['event_date', 'group'])"
   ]
  },
  {
   "cell_type": "code",
   "execution_count": 42,
   "metadata": {},
   "outputs": [],
   "source": [
    "# объединяем данные,\n",
    "# переименовываем колонки\n",
    "\n",
    "events1 = events_login.merge(events_product_page, on = ['event_date', 'group'], how = 'left')\n",
    "events2 = events1.merge(events_product_cart, on = ['event_date', 'group'], how = 'left')\n",
    "events2 = events2.rename(columns=({'user_id_x':'login', 'user_id_y':'product_page'}))\n",
    "\n",
    "events = events2.merge(events_purchase, on = ['event_date', 'group'], how = 'left')\n",
    "events = events.rename(columns = {\"user_id_x\":'product_cart', 'user_id_y':'purchase'})"
   ]
  },
  {
   "cell_type": "code",
   "execution_count": 43,
   "metadata": {},
   "outputs": [],
   "source": [
    "# отделяем данные по группам А и В\n",
    "events_A = events[events['group'] == 'a']\n",
    "events_B = events[events['group'] == 'b']"
   ]
  },
  {
   "cell_type": "code",
   "execution_count": 44,
   "metadata": {},
   "outputs": [
    {
     "data": {
      "image/png": "[encoded data removed]",
      "text/plain": [
       "<Figure size 1080x504 with 4 Axes>"
      ]
     },
     "metadata": {
      "needs_background": "light"
     },
     "output_type": "display_data"
    }
   ],
   "source": [
    "# строим график распределения событий по группам и по дням\n",
    "\n",
    "fig, axs = plt.subplots(2,2)\n",
    "fig.set_figheight(7)\n",
    "fig.set_figwidth(15)\n",
    "fig.suptitle('Распределение событий по дням')\n",
    "\n",
    "plt.subplot(221)\n",
    "plt.plot(events_A['event_date'], events_A['login'], label = \"A_login\")\n",
    "plt.plot(events_B['event_date'], events_B['login'], label = \"B_login\")\n",
    "plt.legend()\n",
    "plt.grid(True)\n",
    "plt.xticks(rotation = 45)\n",
    "plt.title('Событие login')\n",
    "plt.ylabel('кол-во событий в день')\n",
    "\n",
    "plt.subplot(222)\n",
    "plt.plot(events_A['event_date'], events_A['product_page'], label = \"A_product_page\")\n",
    "plt.plot(events_B['event_date'], events_B['product_page'], label = \"B_product_page\")\n",
    "plt.legend()\n",
    "plt.grid(True)\n",
    "plt.xticks(rotation = 45)\n",
    "plt.title('Событие product_page')\n",
    "plt.ylabel('кол-во событий в день')\n",
    "\n",
    "plt.subplot(223)\n",
    "plt.plot(events_A['event_date'], events_A['product_cart'], label = \"A_product_cart\")\n",
    "plt.plot(events_B['event_date'], events_B['product_cart'], label = \"B_product_cart\")\n",
    "plt.legend()\n",
    "plt.grid(True)\n",
    "plt.xticks(rotation = 45)\n",
    "plt.title('Событие product_cart')\n",
    "plt.ylabel('кол-во событий в день')\n",
    "\n",
    "plt.subplot(224)\n",
    "plt.plot(events_A['event_date'], events_A['purchase'], label = \"A_purchase\")\n",
    "plt.plot(events_B['event_date'], events_B['purchase'], label = \"B_purchase\")\n",
    "plt.legend()\n",
    "plt.grid(True)\n",
    "plt.xticks(rotation = 45)\n",
    "plt.title('Событие purchase')\n",
    "plt.ylabel('кол-во событий в день')\n",
    "\n",
    "plt.tight_layout()\n",
    "plt.show()"
   ]
  },
  {
   "cell_type": "markdown",
   "metadata": {},
   "source": [
    "**Выводы по графикам:**\n",
    "* тренды распределения кол-ва событий по дням и по группам имеют схожие паттерны\n",
    "* с начала эксперимента до 13 декабря значения между группами в метркиах близки и имеют схожие колебания друг относительно друга\n",
    "* 13 декабря в группе А начинается взрывной рост\n",
    "* 13 декабря в группе В начинается умеренный рост\n",
    "* 21 декабря происходит пик для всех метрик в обеих группах\n",
    "* темпы спада после пика в группе А такие же интенсивные как и на этапе роста\n",
    "* группа В после 21 декабря также демонстрирует спад, но с более умеренным темпом\n",
    "* к концу эксперимента группы опять сближаются, но так и не пересекаются"
   ]
  },
  {
   "cell_type": "markdown",
   "metadata": {},
   "source": [
    "## Оценка результатов А/В тестирования"
   ]
  },
  {
   "cell_type": "markdown",
   "metadata": {},
   "source": [
    "**Задача:**\n",
    "* проверка статистической разницы долей z-критерием"
   ]
  },
  {
   "cell_type": "code",
   "execution_count": 45,
   "metadata": {},
   "outputs": [
    {
     "data": {
      "text/html": [
       "<div>\n",
       "<style scoped>\n",
       "    .dataframe tbody tr th:only-of-type {\n",
       "        vertical-align: middle;\n",
       "    }\n",
       "\n",
       "    .dataframe tbody tr th {\n",
       "        vertical-align: top;\n",
       "    }\n",
       "\n",
       "    .dataframe thead th {\n",
       "        text-align: right;\n",
       "    }\n",
       "</style>\n",
       "<table border=\"1\" class=\"dataframe\">\n",
       "  <thead>\n",
       "    <tr style=\"text-align: right;\">\n",
       "      <th>event_name</th>\n",
       "      <th>group</th>\n",
       "      <th>login</th>\n",
       "      <th>product_cart</th>\n",
       "      <th>product_page</th>\n",
       "      <th>purchase</th>\n",
       "      <th>product_cart_impactconv</th>\n",
       "      <th>product_page_impactconv</th>\n",
       "      <th>purchase_impactconv</th>\n",
       "    </tr>\n",
       "  </thead>\n",
       "  <tbody>\n",
       "    <tr>\n",
       "      <th>0</th>\n",
       "      <td>a</td>\n",
       "      <td>1515</td>\n",
       "      <td>458</td>\n",
       "      <td>962</td>\n",
       "      <td>462</td>\n",
       "      <td>0.30231</td>\n",
       "      <td>0.634983</td>\n",
       "      <td>0.30495</td>\n",
       "    </tr>\n",
       "  </tbody>\n",
       "</table>\n",
       "</div>"
      ],
      "text/plain": [
       "event_name group  login  product_cart  product_page  purchase  \\\n",
       "0              a   1515           458           962       462   \n",
       "\n",
       "event_name  product_cart_impactconv  product_page_impactconv  \\\n",
       "0                           0.30231                 0.634983   \n",
       "\n",
       "event_name  purchase_impactconv  \n",
       "0                       0.30495  "
      ]
     },
     "metadata": {},
     "output_type": "display_data"
    },
    {
     "data": {
      "text/html": [
       "<div>\n",
       "<style scoped>\n",
       "    .dataframe tbody tr th:only-of-type {\n",
       "        vertical-align: middle;\n",
       "    }\n",
       "\n",
       "    .dataframe tbody tr th {\n",
       "        vertical-align: top;\n",
       "    }\n",
       "\n",
       "    .dataframe thead th {\n",
       "        text-align: right;\n",
       "    }\n",
       "</style>\n",
       "<table border=\"1\" class=\"dataframe\">\n",
       "  <thead>\n",
       "    <tr style=\"text-align: right;\">\n",
       "      <th>event_name</th>\n",
       "      <th>group</th>\n",
       "      <th>login</th>\n",
       "      <th>product_cart</th>\n",
       "      <th>product_page</th>\n",
       "      <th>purchase</th>\n",
       "      <th>product_cart_impactconv</th>\n",
       "      <th>product_page_impactconv</th>\n",
       "      <th>purchase_impactconv</th>\n",
       "    </tr>\n",
       "  </thead>\n",
       "  <tbody>\n",
       "    <tr>\n",
       "      <th>1</th>\n",
       "      <td>b</td>\n",
       "      <td>639</td>\n",
       "      <td>187</td>\n",
       "      <td>365</td>\n",
       "      <td>183</td>\n",
       "      <td>0.292645</td>\n",
       "      <td>0.571205</td>\n",
       "      <td>0.286385</td>\n",
       "    </tr>\n",
       "  </tbody>\n",
       "</table>\n",
       "</div>"
      ],
      "text/plain": [
       "event_name group  login  product_cart  product_page  purchase  \\\n",
       "1              b    639           187           365       183   \n",
       "\n",
       "event_name  product_cart_impactconv  product_page_impactconv  \\\n",
       "1                          0.292645                 0.571205   \n",
       "\n",
       "event_name  purchase_impactconv  \n",
       "1                      0.286385  "
      ]
     },
     "metadata": {},
     "output_type": "display_data"
    }
   ],
   "source": [
    "# используем массив таблицы данных test_data_impact_check для проверки гипотез,\n",
    "# разбиваем на группы\n",
    "\n",
    "test_data_impact_check = test_data_impact_check.reset_index()\n",
    "test_data_impact_check_A = test_data_impact_check[test_data_impact_check['group'] == 'a']\n",
    "test_data_impact_check_B = test_data_impact_check[test_data_impact_check['group'] == 'b']\n",
    "\n",
    "display(test_data_impact_check_A, test_data_impact_check_B)"
   ]
  },
  {
   "cell_type": "markdown",
   "metadata": {},
   "source": [
    "**Формулировка гипотез**\n",
    "\n",
    "Для проверки статистической значимости различий конверсии между группами\n",
    "формулируем гипотезы:\n",
    "\n",
    "* **Гипотеза 0** = 'отличие между группами отсутствует & выявленная разница не является статистически достоверной'\n",
    "* **Гипотеза 1** = 'существует отличие между группами & выявленная разница является статистически достоверной'"
   ]
  },
  {
   "cell_type": "code",
   "execution_count": 46,
   "metadata": {},
   "outputs": [],
   "source": [
    "# создаем функцию определения статистической значимости  различий в 3-х группах\n",
    "# используем поправку Бонферрони\n",
    "\n",
    "def stat_sign_chek(successes, trials):\n",
    "    alpha = 0.05/3 # определяем критический уровень стат значимости\n",
    "    p1 = successes[0] / trials[0] # считаем пропорцию успехов в первой группе\n",
    "    p2 = successes[1] / trials[1] # считаем пропорцию успехов во второй группе\n",
    "    p_combined = (successes[0] + successes[1]) / (trials[0] + trials[1]) # считаем пропорцию успехов в комбинированном датасете\n",
    "    difference = p1 - p2 # определяем разницу пропорций в датасетоах\n",
    "    z_value = difference / mth.sqrt(p_combined * (1 - p_combined) * (1 / trials[0] + 1 / trials[1])) # считаем статистику\n",
    "                                                                                                    # в стандартных отклонениях\n",
    "                                                                                                    # стандартного нормального\n",
    "                                                                                                    # распределения\n",
    "    distr = st.norm(0, 1) # задаем стандартное нормальное распределение\n",
    "    p_value = (1 - distr.cdf(abs(z_value))) * 2\n",
    "    if (p_value < alpha):\n",
    "        print('Отвергаем нулевыую гипотезу: между группами есть значимая разница.')\n",
    "    else:\n",
    "        print('Не получилось отвергнуть нулевую гипотезу, нет оснований считать группы разными.')\n",
    "       \n",
    "    return p_value"
   ]
  },
  {
   "cell_type": "code",
   "execution_count": 47,
   "metadata": {},
   "outputs": [
    {
     "name": "stdout",
     "output_type": "stream",
     "text": [
      "Отвергаем нулевыую гипотезу: между группами есть значимая разница.\n"
     ]
    },
    {
     "data": {
      "text/plain": [
       "array([0.00543366])"
      ]
     },
     "execution_count": 47,
     "metadata": {},
     "output_type": "execute_result"
    }
   ],
   "source": [
    "# производим проверку стат значимостиразницы различия конверсии метрики product_page\n",
    "# между А/В группами с учетом поправки Бонферрони\n",
    "#alpha = 0.05 / 3 = 0.0166666667\n",
    "\n",
    "trials = np.array([test_data_impact_check_A['login'], test_data_impact_check_B['login']])\n",
    "success = np.array([test_data_impact_check_A['product_page'], test_data_impact_check_B['product_page']])\n",
    "    \n",
    "stat_sign_chek(success, trials)"
   ]
  },
  {
   "cell_type": "code",
   "execution_count": 48,
   "metadata": {},
   "outputs": [
    {
     "name": "stdout",
     "output_type": "stream",
     "text": [
      "Не получилось отвергнуть нулевую гипотезу, нет оснований считать группы разными.\n"
     ]
    },
    {
     "data": {
      "text/plain": [
       "array([0.65459946])"
      ]
     },
     "execution_count": 48,
     "metadata": {},
     "output_type": "execute_result"
    }
   ],
   "source": [
    "# производим проверку стат значимостиразницы различия конверсии метрики product_cart\n",
    "# между А/В группами с учетом поправки Бонферрони\n",
    "# alpha = 0.05 / 3 = 0.0166666667\n",
    "\n",
    "trials = np.array([test_data_impact_check_A['login'], test_data_impact_check_B['login']])\n",
    "success = np.array([test_data_impact_check_A['product_cart'], test_data_impact_check_B['product_cart']])\n",
    "    \n",
    "stat_sign_chek(success, trials)"
   ]
  },
  {
   "cell_type": "code",
   "execution_count": 49,
   "metadata": {},
   "outputs": [
    {
     "name": "stdout",
     "output_type": "stream",
     "text": [
      "Не получилось отвергнуть нулевую гипотезу, нет оснований считать группы разными.\n"
     ]
    },
    {
     "data": {
      "text/plain": [
       "array([0.39015605])"
      ]
     },
     "execution_count": 49,
     "metadata": {},
     "output_type": "execute_result"
    }
   ],
   "source": [
    "# производим проверку стат значимостиразницы различия конверсии метрики product_cart\n",
    "# между А/В группами с учетом поправки Бонферрони\n",
    "# alpha = 0.05 / 3 = 0.0166666667\n",
    "\n",
    "trials = np.array([test_data_impact_check_A['login'], test_data_impact_check_B['login']])\n",
    "success = np.array([test_data_impact_check_A['purchase'], test_data_impact_check_B['purchase']])\n",
    "    \n",
    "stat_sign_chek(success, trials)"
   ]
  },
  {
   "cell_type": "markdown",
   "metadata": {},
   "source": [
    "## Выводы\n",
    "* результаты исследовательского анализа данных показали перимущество группы А (контрольной) в конверсии по всем целевым метрикам\n",
    "* ожидаемый эффект: за 14 дней с момента регистрации пользователи покажут улучшение каждой метрики не менее, чем на 10% - не достигнут, преимущество осталось за контрольной группой\n",
    "* результаты проверки статистической значимости различий на анализировавшемся датасете подтвердили наличие разницы в конверсии между контрольной и тестовой группами по метрике **product_page**, причем в отличии от ожиданий, контрольная группа показала лучший результат. По метрикам **product_cart** и **purchase** отличие между группами отсутствует.\n",
    "\n",
    "**Существенные ошибки в организации теста, выявленные по результатам исследовательского анализа данных, а именно:**\n",
    "1. отсутствие данных о действиях пользователей в период эксперимента, приведшие к потере 45% пользователей в общем и к критическому дисбалансу в группах\n",
    "2. частичное отсутсствие данных за 30 декабря и полное отсутствие данных за период 31 декабря - 4 января \n",
    "3. пересечение эксперимента с топовой промоактивностью года\n",
    "4. пересечение пользователей, закрепленных за тестом с другим тестом, также имеющим целью повлиять на конверсию\n",
    "\n",
    "**позволяют не признать результаты теста.**"
   ]
  },
  {
   "cell_type": "markdown",
   "metadata": {},
   "source": [
    "### Рекомендации\n",
    "\n",
    "* при осуществлении **дизайна** теста обязательно включать **АА тест** для проверки качества деления, определения долей групп и подтверждения однородности трафика\n",
    "* сверять сроки проведения тестов со сроками **промоактивностей**, не допускать наложения в случае возможности влияния на результат\n",
    "* не допускать **параллельного проведения тестов с идентичными целями на пересекающихся аудиториях**\n",
    "* выявить **причину отсутствия данных** и принять меры по ее устранению для будующих тестов"
   ]
  }
 ],
 "metadata": {
  "ExecuteTimeLog": [
   {
    "duration": 1908,
    "start_time": "2022-03-22T07:08:19.135Z"
   },
   {
    "duration": 215,
    "start_time": "2022-03-22T07:08:57.263Z"
   },
   {
    "duration": 81,
    "start_time": "2022-03-22T07:09:12.085Z"
   },
   {
    "duration": 64,
    "start_time": "2022-03-22T07:09:17.510Z"
   },
   {
    "duration": 73,
    "start_time": "2022-03-22T07:09:24.628Z"
   },
   {
    "duration": 95,
    "start_time": "2022-03-22T07:09:28.260Z"
   },
   {
    "duration": 43,
    "start_time": "2022-03-22T07:10:41.503Z"
   },
   {
    "duration": 112,
    "start_time": "2022-03-22T07:11:45.281Z"
   },
   {
    "duration": 786,
    "start_time": "2022-03-22T07:12:25.350Z"
   },
   {
    "duration": 1517,
    "start_time": "2022-03-22T07:13:09.240Z"
   },
   {
    "duration": 2142,
    "start_time": "2022-03-22T07:15:05.809Z"
   },
   {
    "duration": 855,
    "start_time": "2022-03-22T07:47:01.850Z"
   },
   {
    "duration": 673,
    "start_time": "2022-03-22T07:47:44.915Z"
   },
   {
    "duration": 5,
    "start_time": "2022-03-22T07:47:51.822Z"
   },
   {
    "duration": 5,
    "start_time": "2022-03-22T07:47:59.170Z"
   },
   {
    "duration": 844,
    "start_time": "2022-03-22T07:48:05.774Z"
   },
   {
    "duration": 690,
    "start_time": "2022-03-22T07:48:57.211Z"
   },
   {
    "duration": 5,
    "start_time": "2022-03-22T07:52:16.889Z"
   },
   {
    "duration": 5,
    "start_time": "2022-03-22T07:52:45.600Z"
   },
   {
    "duration": 4,
    "start_time": "2022-03-22T07:53:01.154Z"
   },
   {
    "duration": 4,
    "start_time": "2022-03-22T07:53:18.530Z"
   },
   {
    "duration": 5,
    "start_time": "2022-03-22T07:53:27.373Z"
   },
   {
    "duration": 5,
    "start_time": "2022-03-22T07:53:38.149Z"
   },
   {
    "duration": 41,
    "start_time": "2022-03-22T07:53:46.849Z"
   },
   {
    "duration": 14,
    "start_time": "2022-03-22T07:55:31.599Z"
   },
   {
    "duration": 31,
    "start_time": "2022-03-22T07:56:50.499Z"
   },
   {
    "duration": 12,
    "start_time": "2022-03-22T07:57:56.658Z"
   },
   {
    "duration": 16,
    "start_time": "2022-03-22T07:59:14.615Z"
   },
   {
    "duration": 12,
    "start_time": "2022-03-22T07:59:42.413Z"
   },
   {
    "duration": 22,
    "start_time": "2022-03-22T07:59:53.545Z"
   },
   {
    "duration": 21,
    "start_time": "2022-03-22T08:01:02.833Z"
   },
   {
    "duration": 22,
    "start_time": "2022-03-22T08:01:22.971Z"
   },
   {
    "duration": 1677,
    "start_time": "2022-03-22T08:01:57.834Z"
   },
   {
    "duration": 39,
    "start_time": "2022-03-22T08:01:59.513Z"
   },
   {
    "duration": 124,
    "start_time": "2022-03-22T08:01:59.554Z"
   },
   {
    "duration": 757,
    "start_time": "2022-03-22T08:01:59.684Z"
   },
   {
    "duration": 60,
    "start_time": "2022-03-22T08:02:00.444Z"
   },
   {
    "duration": 37,
    "start_time": "2022-03-22T08:02:00.507Z"
   },
   {
    "duration": 53,
    "start_time": "2022-03-22T08:02:00.546Z"
   },
   {
    "duration": 163,
    "start_time": "2022-03-22T08:02:00.601Z"
   },
   {
    "duration": 0,
    "start_time": "2022-03-22T08:02:00.766Z"
   },
   {
    "duration": 35,
    "start_time": "2022-03-22T08:02:49.465Z"
   },
   {
    "duration": 1615,
    "start_time": "2022-03-22T08:03:50.861Z"
   },
   {
    "duration": 43,
    "start_time": "2022-03-22T08:03:52.479Z"
   },
   {
    "duration": 118,
    "start_time": "2022-03-22T08:03:52.524Z"
   },
   {
    "duration": 737,
    "start_time": "2022-03-22T08:03:52.646Z"
   },
   {
    "duration": 49,
    "start_time": "2022-03-22T08:03:53.386Z"
   },
   {
    "duration": 1007,
    "start_time": "2022-03-22T08:03:53.437Z"
   },
   {
    "duration": 0,
    "start_time": "2022-03-22T08:03:54.446Z"
   },
   {
    "duration": 0,
    "start_time": "2022-03-22T08:03:54.448Z"
   },
   {
    "duration": 0,
    "start_time": "2022-03-22T08:03:54.449Z"
   },
   {
    "duration": 715,
    "start_time": "2022-03-22T08:04:42.512Z"
   },
   {
    "duration": 870,
    "start_time": "2022-03-22T08:06:05.856Z"
   },
   {
    "duration": 102,
    "start_time": "2022-03-22T08:28:46.148Z"
   },
   {
    "duration": 128,
    "start_time": "2022-03-22T08:29:07.072Z"
   },
   {
    "duration": 717,
    "start_time": "2022-03-22T08:29:16.136Z"
   },
   {
    "duration": 718,
    "start_time": "2022-03-22T08:30:20.773Z"
   },
   {
    "duration": 119,
    "start_time": "2022-03-22T08:30:48.432Z"
   },
   {
    "duration": 144,
    "start_time": "2022-03-22T08:31:06.252Z"
   },
   {
    "duration": 144,
    "start_time": "2022-03-22T08:31:18.437Z"
   },
   {
    "duration": 106,
    "start_time": "2022-03-22T08:37:13.363Z"
   },
   {
    "duration": 783,
    "start_time": "2022-03-22T08:37:22.466Z"
   },
   {
    "duration": 713,
    "start_time": "2022-03-22T08:37:50.680Z"
   },
   {
    "duration": 120,
    "start_time": "2022-03-22T08:38:05.397Z"
   },
   {
    "duration": 125,
    "start_time": "2022-03-22T08:38:12.012Z"
   },
   {
    "duration": 720,
    "start_time": "2022-03-22T08:38:28.313Z"
   },
   {
    "duration": 48,
    "start_time": "2022-03-22T08:38:55.622Z"
   },
   {
    "duration": 845,
    "start_time": "2022-03-22T08:40:50.773Z"
   },
   {
    "duration": 711,
    "start_time": "2022-03-22T08:46:23.857Z"
   },
   {
    "duration": 734,
    "start_time": "2022-03-22T08:47:11.764Z"
   },
   {
    "duration": 5,
    "start_time": "2022-03-22T08:49:26.058Z"
   },
   {
    "duration": 5,
    "start_time": "2022-03-22T08:49:39.481Z"
   },
   {
    "duration": 14,
    "start_time": "2022-03-22T08:50:06.920Z"
   },
   {
    "duration": 835,
    "start_time": "2022-03-22T08:59:18.419Z"
   },
   {
    "duration": 736,
    "start_time": "2022-03-22T09:03:19.152Z"
   },
   {
    "duration": 137,
    "start_time": "2022-03-22T09:03:31.560Z"
   },
   {
    "duration": 181,
    "start_time": "2022-03-22T09:05:05.034Z"
   },
   {
    "duration": 720,
    "start_time": "2022-03-22T09:08:51.316Z"
   },
   {
    "duration": 765,
    "start_time": "2022-03-22T09:09:14.241Z"
   },
   {
    "duration": 747,
    "start_time": "2022-03-22T09:09:37.492Z"
   },
   {
    "duration": 28,
    "start_time": "2022-03-22T09:15:13.194Z"
   },
   {
    "duration": 59,
    "start_time": "2022-03-22T09:16:17.733Z"
   },
   {
    "duration": 22,
    "start_time": "2022-03-22T09:16:40.014Z"
   },
   {
    "duration": 6,
    "start_time": "2022-03-22T09:17:04.826Z"
   },
   {
    "duration": 5,
    "start_time": "2022-03-22T09:17:10.735Z"
   },
   {
    "duration": 54,
    "start_time": "2022-03-22T09:17:17.063Z"
   },
   {
    "duration": 21,
    "start_time": "2022-03-22T09:17:51.397Z"
   },
   {
    "duration": 28,
    "start_time": "2022-03-22T09:18:22.969Z"
   },
   {
    "duration": 1564,
    "start_time": "2022-03-22T09:20:10.581Z"
   },
   {
    "duration": 41,
    "start_time": "2022-03-22T09:20:12.147Z"
   },
   {
    "duration": 124,
    "start_time": "2022-03-22T09:20:12.190Z"
   },
   {
    "duration": 831,
    "start_time": "2022-03-22T09:20:12.317Z"
   },
   {
    "duration": 56,
    "start_time": "2022-03-22T09:20:13.150Z"
   },
   {
    "duration": 822,
    "start_time": "2022-03-22T09:20:13.209Z"
   },
   {
    "duration": 50,
    "start_time": "2022-03-22T09:20:14.033Z"
   },
   {
    "duration": 2613,
    "start_time": "2022-03-22T09:20:14.086Z"
   },
   {
    "duration": 13,
    "start_time": "2022-03-22T09:22:21.760Z"
   },
   {
    "duration": 12,
    "start_time": "2022-03-22T09:22:48.019Z"
   },
   {
    "duration": 12,
    "start_time": "2022-03-22T09:22:56.813Z"
   },
   {
    "duration": 13,
    "start_time": "2022-03-22T09:23:35.788Z"
   },
   {
    "duration": 13,
    "start_time": "2022-03-22T09:23:59.747Z"
   },
   {
    "duration": 14,
    "start_time": "2022-03-22T09:24:13.263Z"
   },
   {
    "duration": 12,
    "start_time": "2022-03-22T09:24:58.287Z"
   },
   {
    "duration": 1536,
    "start_time": "2022-03-22T09:28:26.925Z"
   },
   {
    "duration": 42,
    "start_time": "2022-03-22T09:28:28.464Z"
   },
   {
    "duration": 126,
    "start_time": "2022-03-22T09:28:28.508Z"
   },
   {
    "duration": 838,
    "start_time": "2022-03-22T09:28:28.637Z"
   },
   {
    "duration": 48,
    "start_time": "2022-03-22T09:28:29.484Z"
   },
   {
    "duration": 752,
    "start_time": "2022-03-22T09:28:29.535Z"
   },
   {
    "duration": 27,
    "start_time": "2022-03-22T09:28:30.290Z"
   },
   {
    "duration": 2363,
    "start_time": "2022-03-22T09:28:30.320Z"
   },
   {
    "duration": 17,
    "start_time": "2022-03-22T09:32:48.787Z"
   },
   {
    "duration": 11,
    "start_time": "2022-03-22T09:33:40.733Z"
   },
   {
    "duration": 1810,
    "start_time": "2022-03-22T09:34:17.602Z"
   },
   {
    "duration": 20,
    "start_time": "2022-03-22T09:34:39.576Z"
   },
   {
    "duration": 8,
    "start_time": "2022-03-22T09:35:25.883Z"
   },
   {
    "duration": 2069,
    "start_time": "2022-03-22T09:35:53.613Z"
   },
   {
    "duration": 10,
    "start_time": "2022-03-22T09:36:28.220Z"
   },
   {
    "duration": 28,
    "start_time": "2022-03-22T09:37:52.271Z"
   },
   {
    "duration": 1656,
    "start_time": "2022-03-22T09:38:08.986Z"
   },
   {
    "duration": 37,
    "start_time": "2022-03-22T09:38:10.645Z"
   },
   {
    "duration": 131,
    "start_time": "2022-03-22T09:38:10.684Z"
   },
   {
    "duration": 791,
    "start_time": "2022-03-22T09:38:10.818Z"
   },
   {
    "duration": 50,
    "start_time": "2022-03-22T09:38:11.612Z"
   },
   {
    "duration": 757,
    "start_time": "2022-03-22T09:38:11.665Z"
   },
   {
    "duration": 27,
    "start_time": "2022-03-22T09:38:12.424Z"
   },
   {
    "duration": 32,
    "start_time": "2022-03-22T09:38:12.453Z"
   },
   {
    "duration": 2222,
    "start_time": "2022-03-22T09:38:12.488Z"
   },
   {
    "duration": 13,
    "start_time": "2022-03-22T09:39:31.363Z"
   },
   {
    "duration": 39,
    "start_time": "2022-03-22T09:39:38.370Z"
   },
   {
    "duration": 169,
    "start_time": "2022-03-22T09:40:57.548Z"
   },
   {
    "duration": 47,
    "start_time": "2022-03-22T09:42:07.161Z"
   },
   {
    "duration": 1740,
    "start_time": "2022-03-22T09:42:53.146Z"
   },
   {
    "duration": 45,
    "start_time": "2022-03-22T09:42:54.889Z"
   },
   {
    "duration": 124,
    "start_time": "2022-03-22T09:42:54.936Z"
   },
   {
    "duration": 771,
    "start_time": "2022-03-22T09:42:55.062Z"
   },
   {
    "duration": 63,
    "start_time": "2022-03-22T09:42:55.836Z"
   },
   {
    "duration": 809,
    "start_time": "2022-03-22T09:42:55.901Z"
   },
   {
    "duration": 190,
    "start_time": "2022-03-22T09:42:56.713Z"
   },
   {
    "duration": 2216,
    "start_time": "2022-03-22T09:42:56.905Z"
   },
   {
    "duration": 194,
    "start_time": "2022-03-22T09:46:56.062Z"
   },
   {
    "duration": 146,
    "start_time": "2022-03-22T09:47:20.332Z"
   },
   {
    "duration": 153,
    "start_time": "2022-03-22T09:48:07.619Z"
   },
   {
    "duration": 71,
    "start_time": "2022-03-22T09:48:25.321Z"
   },
   {
    "duration": 258,
    "start_time": "2022-03-22T09:49:08.645Z"
   },
   {
    "duration": 77,
    "start_time": "2022-03-22T09:49:34.533Z"
   },
   {
    "duration": 116,
    "start_time": "2022-03-22T09:55:43.825Z"
   },
   {
    "duration": 69,
    "start_time": "2022-03-22T09:55:58.753Z"
   },
   {
    "duration": 68,
    "start_time": "2022-03-22T09:56:34.354Z"
   },
   {
    "duration": 128,
    "start_time": "2022-03-22T09:57:01.797Z"
   },
   {
    "duration": 72,
    "start_time": "2022-03-22T09:57:12.385Z"
   },
   {
    "duration": 71,
    "start_time": "2022-03-22T09:57:50.365Z"
   },
   {
    "duration": 355,
    "start_time": "2022-03-22T09:59:04.681Z"
   },
   {
    "duration": 339,
    "start_time": "2022-03-22T10:03:24.438Z"
   },
   {
    "duration": 341,
    "start_time": "2022-03-22T10:03:52.052Z"
   },
   {
    "duration": 338,
    "start_time": "2022-03-22T10:04:04.151Z"
   },
   {
    "duration": 328,
    "start_time": "2022-03-22T10:04:14.142Z"
   },
   {
    "duration": 7,
    "start_time": "2022-03-22T10:35:28.055Z"
   },
   {
    "duration": 7,
    "start_time": "2022-03-22T10:36:20.533Z"
   },
   {
    "duration": 99,
    "start_time": "2022-03-22T10:37:37.141Z"
   },
   {
    "duration": 6,
    "start_time": "2022-03-22T10:37:45.292Z"
   },
   {
    "duration": 2128,
    "start_time": "2022-03-22T11:15:54.695Z"
   },
   {
    "duration": 1872,
    "start_time": "2022-03-22T11:16:46.454Z"
   },
   {
    "duration": 2072,
    "start_time": "2022-03-22T11:18:45.018Z"
   },
   {
    "duration": 66,
    "start_time": "2022-03-22T11:19:31.766Z"
   },
   {
    "duration": 67,
    "start_time": "2022-03-22T11:19:57.066Z"
   },
   {
    "duration": 77,
    "start_time": "2022-03-22T11:20:50.687Z"
   },
   {
    "duration": 67,
    "start_time": "2022-03-22T11:20:59.253Z"
   },
   {
    "duration": 76,
    "start_time": "2022-03-22T11:38:41.894Z"
   },
   {
    "duration": 9,
    "start_time": "2022-03-22T11:41:53.570Z"
   },
   {
    "duration": 8,
    "start_time": "2022-03-22T11:43:21.890Z"
   },
   {
    "duration": 82,
    "start_time": "2022-03-22T11:48:04.340Z"
   },
   {
    "duration": 57,
    "start_time": "2022-03-22T11:49:14.133Z"
   },
   {
    "duration": 13,
    "start_time": "2022-03-22T12:04:18.749Z"
   },
   {
    "duration": 1609,
    "start_time": "2022-03-22T12:09:48.941Z"
   },
   {
    "duration": 42,
    "start_time": "2022-03-22T12:09:50.553Z"
   },
   {
    "duration": 122,
    "start_time": "2022-03-22T12:09:50.597Z"
   },
   {
    "duration": 764,
    "start_time": "2022-03-22T12:09:50.722Z"
   },
   {
    "duration": 50,
    "start_time": "2022-03-22T12:09:51.488Z"
   },
   {
    "duration": 764,
    "start_time": "2022-03-22T12:09:51.540Z"
   },
   {
    "duration": 184,
    "start_time": "2022-03-22T12:09:52.306Z"
   },
   {
    "duration": 70,
    "start_time": "2022-03-22T12:09:52.492Z"
   },
   {
    "duration": 357,
    "start_time": "2022-03-22T12:09:52.564Z"
   },
   {
    "duration": 94,
    "start_time": "2022-03-22T12:09:52.925Z"
   },
   {
    "duration": 9,
    "start_time": "2022-03-22T12:09:53.022Z"
   },
   {
    "duration": 101,
    "start_time": "2022-03-22T12:09:53.034Z"
   },
   {
    "duration": 9,
    "start_time": "2022-03-22T12:09:53.138Z"
   },
   {
    "duration": 23,
    "start_time": "2022-03-22T12:14:50.331Z"
   },
   {
    "duration": 8,
    "start_time": "2022-03-22T12:19:46.400Z"
   },
   {
    "duration": 8,
    "start_time": "2022-03-22T12:21:10.330Z"
   },
   {
    "duration": 57,
    "start_time": "2022-03-22T12:21:11.929Z"
   },
   {
    "duration": 65,
    "start_time": "2022-03-22T12:21:42.341Z"
   },
   {
    "duration": 22,
    "start_time": "2022-03-22T12:22:12.700Z"
   },
   {
    "duration": 9,
    "start_time": "2022-03-22T12:22:35.020Z"
   },
   {
    "duration": 58,
    "start_time": "2022-03-22T12:23:11.387Z"
   },
   {
    "duration": 143,
    "start_time": "2022-03-22T12:32:44.949Z"
   },
   {
    "duration": 11,
    "start_time": "2022-03-22T12:32:55.509Z"
   },
   {
    "duration": 13,
    "start_time": "2022-03-22T12:33:01.232Z"
   },
   {
    "duration": 14,
    "start_time": "2022-03-22T12:33:45.791Z"
   },
   {
    "duration": 108,
    "start_time": "2022-03-22T12:48:49.419Z"
   },
   {
    "duration": 121,
    "start_time": "2022-03-22T12:49:03.493Z"
   },
   {
    "duration": 361,
    "start_time": "2022-03-22T12:53:28.224Z"
   },
   {
    "duration": 407,
    "start_time": "2022-03-22T12:53:46.900Z"
   },
   {
    "duration": 355,
    "start_time": "2022-03-22T12:54:49.050Z"
   },
   {
    "duration": 28,
    "start_time": "2022-03-22T12:56:58.350Z"
   },
   {
    "duration": 94,
    "start_time": "2022-03-22T12:57:17.860Z"
   },
   {
    "duration": 103,
    "start_time": "2022-03-22T12:58:25.153Z"
   },
   {
    "duration": 93,
    "start_time": "2022-03-22T12:58:49.649Z"
   },
   {
    "duration": 105,
    "start_time": "2022-03-22T13:00:59.395Z"
   },
   {
    "duration": 30,
    "start_time": "2022-03-22T13:01:21.052Z"
   },
   {
    "duration": 18,
    "start_time": "2022-03-22T13:01:49.177Z"
   },
   {
    "duration": 20,
    "start_time": "2022-03-22T13:08:57.977Z"
   },
   {
    "duration": 16,
    "start_time": "2022-03-22T13:09:45.338Z"
   },
   {
    "duration": 18,
    "start_time": "2022-03-22T13:11:40.777Z"
   },
   {
    "duration": 19,
    "start_time": "2022-03-22T13:12:00.148Z"
   },
   {
    "duration": 2185,
    "start_time": "2022-03-22T13:12:43.808Z"
   },
   {
    "duration": 17,
    "start_time": "2022-03-22T13:13:32.718Z"
   },
   {
    "duration": 15,
    "start_time": "2022-03-22T13:14:08.406Z"
   },
   {
    "duration": 1602,
    "start_time": "2022-03-22T13:22:09.612Z"
   },
   {
    "duration": 38,
    "start_time": "2022-03-22T13:22:11.216Z"
   },
   {
    "duration": 129,
    "start_time": "2022-03-22T13:22:11.256Z"
   },
   {
    "duration": 776,
    "start_time": "2022-03-22T13:22:11.389Z"
   },
   {
    "duration": 78,
    "start_time": "2022-03-22T13:22:12.167Z"
   },
   {
    "duration": 1018,
    "start_time": "2022-03-22T13:22:12.248Z"
   },
   {
    "duration": 181,
    "start_time": "2022-03-22T13:22:13.269Z"
   },
   {
    "duration": 88,
    "start_time": "2022-03-22T13:22:13.452Z"
   },
   {
    "duration": 360,
    "start_time": "2022-03-22T13:22:13.542Z"
   },
   {
    "duration": 94,
    "start_time": "2022-03-22T13:22:13.907Z"
   },
   {
    "duration": 11,
    "start_time": "2022-03-22T13:22:14.003Z"
   },
   {
    "duration": 100,
    "start_time": "2022-03-22T13:22:14.017Z"
   },
   {
    "duration": 213,
    "start_time": "2022-03-22T13:22:14.119Z"
   },
   {
    "duration": 0,
    "start_time": "2022-03-22T13:22:14.334Z"
   },
   {
    "duration": 0,
    "start_time": "2022-03-22T13:22:14.336Z"
   },
   {
    "duration": 0,
    "start_time": "2022-03-22T13:22:14.337Z"
   },
   {
    "duration": 0,
    "start_time": "2022-03-22T13:22:14.339Z"
   },
   {
    "duration": 0,
    "start_time": "2022-03-22T13:22:14.340Z"
   },
   {
    "duration": 22,
    "start_time": "2022-03-22T13:23:58.601Z"
   },
   {
    "duration": 1695,
    "start_time": "2022-03-22T13:24:09.245Z"
   },
   {
    "duration": 40,
    "start_time": "2022-03-22T13:24:10.943Z"
   },
   {
    "duration": 125,
    "start_time": "2022-03-22T13:24:10.986Z"
   },
   {
    "duration": 804,
    "start_time": "2022-03-22T13:24:11.114Z"
   },
   {
    "duration": 63,
    "start_time": "2022-03-22T13:24:11.920Z"
   },
   {
    "duration": 760,
    "start_time": "2022-03-22T13:24:11.986Z"
   },
   {
    "duration": 181,
    "start_time": "2022-03-22T13:24:12.748Z"
   },
   {
    "duration": 87,
    "start_time": "2022-03-22T13:24:12.931Z"
   },
   {
    "duration": 346,
    "start_time": "2022-03-22T13:24:13.020Z"
   },
   {
    "duration": 90,
    "start_time": "2022-03-22T13:24:13.369Z"
   },
   {
    "duration": 26,
    "start_time": "2022-03-22T13:24:13.461Z"
   },
   {
    "duration": 65,
    "start_time": "2022-03-22T13:24:13.489Z"
   },
   {
    "duration": 47,
    "start_time": "2022-03-22T13:24:13.556Z"
   },
   {
    "duration": 27,
    "start_time": "2022-03-22T13:24:13.606Z"
   },
   {
    "duration": 79,
    "start_time": "2022-03-22T13:24:13.635Z"
   },
   {
    "duration": 20,
    "start_time": "2022-03-22T13:24:13.716Z"
   },
   {
    "duration": 32,
    "start_time": "2022-03-22T13:24:13.738Z"
   },
   {
    "duration": 16,
    "start_time": "2022-03-22T13:24:13.784Z"
   },
   {
    "duration": 75,
    "start_time": "2022-03-22T13:31:08.786Z"
   },
   {
    "duration": 199,
    "start_time": "2022-03-22T13:32:27.360Z"
   },
   {
    "duration": 74,
    "start_time": "2022-03-22T13:32:42.165Z"
   },
   {
    "duration": 65,
    "start_time": "2022-03-22T13:32:56.499Z"
   },
   {
    "duration": 72,
    "start_time": "2022-03-22T13:33:15.536Z"
   },
   {
    "duration": 69,
    "start_time": "2022-03-22T13:33:45.330Z"
   },
   {
    "duration": 76,
    "start_time": "2022-03-22T13:34:02.951Z"
   },
   {
    "duration": 74,
    "start_time": "2022-03-22T13:35:01.563Z"
   },
   {
    "duration": 76,
    "start_time": "2022-03-22T13:38:09.488Z"
   },
   {
    "duration": 80,
    "start_time": "2022-03-22T13:38:51.250Z"
   },
   {
    "duration": 19,
    "start_time": "2022-03-22T14:29:00.021Z"
   },
   {
    "duration": 21,
    "start_time": "2022-03-22T14:29:06.426Z"
   },
   {
    "duration": 9,
    "start_time": "2022-03-22T14:31:40.112Z"
   },
   {
    "duration": 33,
    "start_time": "2022-03-22T14:38:11.706Z"
   },
   {
    "duration": 1751,
    "start_time": "2022-03-22T14:39:54.109Z"
   },
   {
    "duration": 43,
    "start_time": "2022-03-22T14:39:55.862Z"
   },
   {
    "duration": 136,
    "start_time": "2022-03-22T14:39:55.908Z"
   },
   {
    "duration": 902,
    "start_time": "2022-03-22T14:39:56.048Z"
   },
   {
    "duration": 68,
    "start_time": "2022-03-22T14:39:56.953Z"
   },
   {
    "duration": 823,
    "start_time": "2022-03-22T14:39:57.024Z"
   },
   {
    "duration": 203,
    "start_time": "2022-03-22T14:39:57.849Z"
   },
   {
    "duration": 84,
    "start_time": "2022-03-22T14:39:58.055Z"
   },
   {
    "duration": 370,
    "start_time": "2022-03-22T14:39:58.141Z"
   },
   {
    "duration": 88,
    "start_time": "2022-03-22T14:39:58.514Z"
   },
   {
    "duration": 11,
    "start_time": "2022-03-22T14:39:58.604Z"
   },
   {
    "duration": 95,
    "start_time": "2022-03-22T14:39:58.618Z"
   },
   {
    "duration": 21,
    "start_time": "2022-03-22T14:39:58.716Z"
   },
   {
    "duration": 43,
    "start_time": "2022-03-22T14:39:58.740Z"
   },
   {
    "duration": 62,
    "start_time": "2022-03-22T14:39:58.786Z"
   },
   {
    "duration": 40,
    "start_time": "2022-03-22T14:39:58.850Z"
   },
   {
    "duration": 15,
    "start_time": "2022-03-22T14:39:58.892Z"
   },
   {
    "duration": 16,
    "start_time": "2022-03-22T14:39:58.909Z"
   },
   {
    "duration": 130,
    "start_time": "2022-03-22T14:39:58.927Z"
   },
   {
    "duration": 44,
    "start_time": "2022-03-22T14:39:59.059Z"
   },
   {
    "duration": 69,
    "start_time": "2022-03-22T18:51:43.740Z"
   },
   {
    "duration": 1378,
    "start_time": "2022-03-22T18:51:55.391Z"
   },
   {
    "duration": 41,
    "start_time": "2022-03-22T18:51:56.771Z"
   },
   {
    "duration": 210,
    "start_time": "2022-03-22T18:51:56.813Z"
   },
   {
    "duration": 730,
    "start_time": "2022-03-22T18:51:57.025Z"
   },
   {
    "duration": 48,
    "start_time": "2022-03-22T18:51:57.757Z"
   },
   {
    "duration": 512,
    "start_time": "2022-03-22T18:51:57.807Z"
   },
   {
    "duration": 126,
    "start_time": "2022-03-22T18:51:58.321Z"
   },
   {
    "duration": 64,
    "start_time": "2022-03-22T18:51:58.448Z"
   },
   {
    "duration": 230,
    "start_time": "2022-03-22T18:51:58.513Z"
   },
   {
    "duration": 60,
    "start_time": "2022-03-22T18:51:58.745Z"
   },
   {
    "duration": 6,
    "start_time": "2022-03-22T18:51:58.807Z"
   },
   {
    "duration": 50,
    "start_time": "2022-03-22T18:51:58.815Z"
   },
   {
    "duration": 13,
    "start_time": "2022-03-22T18:51:58.867Z"
   },
   {
    "duration": 11,
    "start_time": "2022-03-22T18:51:58.883Z"
   },
   {
    "duration": 32,
    "start_time": "2022-03-22T18:51:58.895Z"
   },
   {
    "duration": 39,
    "start_time": "2022-03-22T18:51:58.929Z"
   },
   {
    "duration": 9,
    "start_time": "2022-03-22T18:51:58.970Z"
   },
   {
    "duration": 12,
    "start_time": "2022-03-22T18:51:58.980Z"
   },
   {
    "duration": 81,
    "start_time": "2022-03-22T18:51:58.993Z"
   },
   {
    "duration": 24,
    "start_time": "2022-03-22T18:51:59.076Z"
   },
   {
    "duration": 6,
    "start_time": "2022-03-22T18:51:59.101Z"
   },
   {
    "duration": 7,
    "start_time": "2022-03-22T19:02:00.673Z"
   },
   {
    "duration": 36,
    "start_time": "2022-03-22T19:04:25.358Z"
   },
   {
    "duration": 27,
    "start_time": "2022-03-22T19:04:38.157Z"
   },
   {
    "duration": 25,
    "start_time": "2022-03-22T19:07:34.653Z"
   },
   {
    "duration": 23,
    "start_time": "2022-03-22T19:07:45.140Z"
   },
   {
    "duration": 26,
    "start_time": "2022-03-22T19:09:48.154Z"
   },
   {
    "duration": 19,
    "start_time": "2022-03-22T19:20:54.368Z"
   },
   {
    "duration": 7,
    "start_time": "2022-03-22T19:22:14.913Z"
   },
   {
    "duration": 15,
    "start_time": "2022-03-22T19:30:30.288Z"
   },
   {
    "duration": 8,
    "start_time": "2022-03-22T19:30:41.358Z"
   },
   {
    "duration": 116,
    "start_time": "2022-03-22T19:31:11.792Z"
   },
   {
    "duration": 1305,
    "start_time": "2022-03-22T19:31:47.435Z"
   },
   {
    "duration": 28,
    "start_time": "2022-03-22T19:31:48.742Z"
   },
   {
    "duration": 84,
    "start_time": "2022-03-22T19:31:48.771Z"
   },
   {
    "duration": 793,
    "start_time": "2022-03-22T19:31:48.858Z"
   },
   {
    "duration": 47,
    "start_time": "2022-03-22T19:31:49.653Z"
   },
   {
    "duration": 547,
    "start_time": "2022-03-22T19:31:49.702Z"
   },
   {
    "duration": 121,
    "start_time": "2022-03-22T19:31:50.251Z"
   },
   {
    "duration": 55,
    "start_time": "2022-03-22T19:31:50.374Z"
   },
   {
    "duration": 244,
    "start_time": "2022-03-22T19:31:50.431Z"
   },
   {
    "duration": 54,
    "start_time": "2022-03-22T19:31:50.677Z"
   },
   {
    "duration": 7,
    "start_time": "2022-03-22T19:31:50.733Z"
   },
   {
    "duration": 55,
    "start_time": "2022-03-22T19:31:50.742Z"
   },
   {
    "duration": 14,
    "start_time": "2022-03-22T19:31:50.799Z"
   },
   {
    "duration": 10,
    "start_time": "2022-03-22T19:31:50.815Z"
   },
   {
    "duration": 63,
    "start_time": "2022-03-22T19:31:50.827Z"
   },
   {
    "duration": 12,
    "start_time": "2022-03-22T19:31:50.891Z"
   },
   {
    "duration": 9,
    "start_time": "2022-03-22T19:31:50.904Z"
   },
   {
    "duration": 11,
    "start_time": "2022-03-22T19:31:50.915Z"
   },
   {
    "duration": 80,
    "start_time": "2022-03-22T19:31:50.928Z"
   },
   {
    "duration": 28,
    "start_time": "2022-03-22T19:31:51.010Z"
   },
   {
    "duration": 24,
    "start_time": "2022-03-22T19:31:51.040Z"
   },
   {
    "duration": 126,
    "start_time": "2022-03-22T19:31:51.066Z"
   },
   {
    "duration": 56,
    "start_time": "2022-03-22T19:33:22.127Z"
   },
   {
    "duration": 39,
    "start_time": "2022-03-22T19:34:35.955Z"
   },
   {
    "duration": 39,
    "start_time": "2022-03-22T19:34:47.406Z"
   },
   {
    "duration": 44,
    "start_time": "2022-03-22T19:36:39.429Z"
   },
   {
    "duration": 43,
    "start_time": "2022-03-22T19:36:48.411Z"
   },
   {
    "duration": 13,
    "start_time": "2022-03-22T19:42:16.161Z"
   },
   {
    "duration": 13,
    "start_time": "2022-03-22T19:42:31.308Z"
   },
   {
    "duration": 14,
    "start_time": "2022-03-22T19:43:08.871Z"
   },
   {
    "duration": 74,
    "start_time": "2022-03-23T09:10:04.011Z"
   },
   {
    "duration": 1907,
    "start_time": "2022-03-23T09:10:24.921Z"
   },
   {
    "duration": 44,
    "start_time": "2022-03-23T09:10:26.831Z"
   },
   {
    "duration": 144,
    "start_time": "2022-03-23T09:10:26.877Z"
   },
   {
    "duration": 1599,
    "start_time": "2022-03-23T09:10:27.024Z"
   },
   {
    "duration": 88,
    "start_time": "2022-03-23T09:10:28.625Z"
   },
   {
    "duration": 795,
    "start_time": "2022-03-23T09:10:28.715Z"
   },
   {
    "duration": 197,
    "start_time": "2022-03-23T09:10:29.512Z"
   },
   {
    "duration": 91,
    "start_time": "2022-03-23T09:10:29.711Z"
   },
   {
    "duration": 320,
    "start_time": "2022-03-23T09:10:29.804Z"
   },
   {
    "duration": 90,
    "start_time": "2022-03-23T09:10:30.128Z"
   },
   {
    "duration": 8,
    "start_time": "2022-03-23T09:10:30.221Z"
   },
   {
    "duration": 83,
    "start_time": "2022-03-23T09:10:30.231Z"
   },
   {
    "duration": 23,
    "start_time": "2022-03-23T09:10:30.316Z"
   },
   {
    "duration": 38,
    "start_time": "2022-03-23T09:10:30.341Z"
   },
   {
    "duration": 55,
    "start_time": "2022-03-23T09:10:30.381Z"
   },
   {
    "duration": 44,
    "start_time": "2022-03-23T09:10:30.438Z"
   },
   {
    "duration": 15,
    "start_time": "2022-03-23T09:10:30.484Z"
   },
   {
    "duration": 19,
    "start_time": "2022-03-23T09:10:30.501Z"
   },
   {
    "duration": 104,
    "start_time": "2022-03-23T09:10:30.523Z"
   },
   {
    "duration": 99,
    "start_time": "2022-03-23T09:10:30.629Z"
   },
   {
    "duration": 46,
    "start_time": "2022-03-23T09:10:30.731Z"
   },
   {
    "duration": 8,
    "start_time": "2022-03-23T09:10:30.780Z"
   },
   {
    "duration": 59,
    "start_time": "2022-03-23T09:10:30.790Z"
   },
   {
    "duration": 35,
    "start_time": "2022-03-23T09:10:30.851Z"
   },
   {
    "duration": 72,
    "start_time": "2022-03-23T09:14:56.605Z"
   },
   {
    "duration": 61,
    "start_time": "2022-03-23T09:17:26.618Z"
   },
   {
    "duration": 36,
    "start_time": "2022-03-23T09:21:51.529Z"
   },
   {
    "duration": 70,
    "start_time": "2022-03-23T09:24:33.093Z"
   },
   {
    "duration": 42,
    "start_time": "2022-03-23T09:24:46.004Z"
   },
   {
    "duration": 38,
    "start_time": "2022-03-23T09:30:23.473Z"
   },
   {
    "duration": 36,
    "start_time": "2022-03-23T09:31:21.302Z"
   },
   {
    "duration": 28,
    "start_time": "2022-03-23T09:41:19.230Z"
   },
   {
    "duration": 25,
    "start_time": "2022-03-23T09:41:27.340Z"
   },
   {
    "duration": 1633,
    "start_time": "2022-03-23T09:41:51.205Z"
   },
   {
    "duration": 41,
    "start_time": "2022-03-23T09:41:52.841Z"
   },
   {
    "duration": 117,
    "start_time": "2022-03-23T09:41:52.885Z"
   },
   {
    "duration": 713,
    "start_time": "2022-03-23T09:41:53.005Z"
   },
   {
    "duration": 57,
    "start_time": "2022-03-23T09:41:53.721Z"
   },
   {
    "duration": 803,
    "start_time": "2022-03-23T09:41:53.780Z"
   },
   {
    "duration": 200,
    "start_time": "2022-03-23T09:41:54.585Z"
   },
   {
    "duration": 90,
    "start_time": "2022-03-23T09:41:54.787Z"
   },
   {
    "duration": 303,
    "start_time": "2022-03-23T09:41:54.880Z"
   },
   {
    "duration": 94,
    "start_time": "2022-03-23T09:41:55.189Z"
   },
   {
    "duration": 9,
    "start_time": "2022-03-23T09:41:55.286Z"
   },
   {
    "duration": 87,
    "start_time": "2022-03-23T09:41:55.298Z"
   },
   {
    "duration": 23,
    "start_time": "2022-03-23T09:41:55.388Z"
   },
   {
    "duration": 28,
    "start_time": "2022-03-23T09:41:55.414Z"
   },
   {
    "duration": 72,
    "start_time": "2022-03-23T09:41:55.445Z"
   },
   {
    "duration": 20,
    "start_time": "2022-03-23T09:41:55.520Z"
   },
   {
    "duration": 42,
    "start_time": "2022-03-23T09:41:55.543Z"
   },
   {
    "duration": 27,
    "start_time": "2022-03-23T09:41:55.587Z"
   },
   {
    "duration": 99,
    "start_time": "2022-03-23T09:41:55.615Z"
   },
   {
    "duration": 59,
    "start_time": "2022-03-23T09:41:55.716Z"
   },
   {
    "duration": 37,
    "start_time": "2022-03-23T09:41:55.777Z"
   },
   {
    "duration": 23,
    "start_time": "2022-03-23T09:41:55.816Z"
   },
   {
    "duration": 34,
    "start_time": "2022-03-23T09:41:55.841Z"
   },
   {
    "duration": 49,
    "start_time": "2022-03-23T09:41:55.877Z"
   },
   {
    "duration": 50,
    "start_time": "2022-03-23T09:41:55.929Z"
   },
   {
    "duration": 1588,
    "start_time": "2022-03-23T09:42:49.775Z"
   },
   {
    "duration": 39,
    "start_time": "2022-03-23T09:42:51.365Z"
   },
   {
    "duration": 124,
    "start_time": "2022-03-23T09:42:51.406Z"
   },
   {
    "duration": 750,
    "start_time": "2022-03-23T09:42:51.533Z"
   },
   {
    "duration": 49,
    "start_time": "2022-03-23T09:42:52.286Z"
   },
   {
    "duration": 748,
    "start_time": "2022-03-23T09:42:52.337Z"
   },
   {
    "duration": 203,
    "start_time": "2022-03-23T09:42:53.087Z"
   },
   {
    "duration": 83,
    "start_time": "2022-03-23T09:42:53.292Z"
   },
   {
    "duration": 326,
    "start_time": "2022-03-23T09:42:53.377Z"
   },
   {
    "duration": 93,
    "start_time": "2022-03-23T09:42:53.707Z"
   },
   {
    "duration": 9,
    "start_time": "2022-03-23T09:42:53.803Z"
   },
   {
    "duration": 79,
    "start_time": "2022-03-23T09:42:53.814Z"
   },
   {
    "duration": 21,
    "start_time": "2022-03-23T09:42:53.895Z"
   },
   {
    "duration": 16,
    "start_time": "2022-03-23T09:42:53.918Z"
   },
   {
    "duration": 81,
    "start_time": "2022-03-23T09:42:53.936Z"
   },
   {
    "duration": 18,
    "start_time": "2022-03-23T09:42:54.020Z"
   },
   {
    "duration": 39,
    "start_time": "2022-03-23T09:42:54.041Z"
   },
   {
    "duration": 13,
    "start_time": "2022-03-23T09:42:54.082Z"
   },
   {
    "duration": 107,
    "start_time": "2022-03-23T09:42:54.098Z"
   },
   {
    "duration": 42,
    "start_time": "2022-03-23T09:42:54.207Z"
   },
   {
    "duration": 53,
    "start_time": "2022-03-23T09:42:54.251Z"
   },
   {
    "duration": 23,
    "start_time": "2022-03-23T09:42:54.306Z"
   },
   {
    "duration": 9,
    "start_time": "2022-03-23T09:42:54.331Z"
   },
   {
    "duration": 81,
    "start_time": "2022-03-23T09:42:54.342Z"
   },
   {
    "duration": 18,
    "start_time": "2022-03-23T09:42:54.425Z"
   },
   {
    "duration": 17,
    "start_time": "2022-03-23T09:45:09.475Z"
   },
   {
    "duration": 21,
    "start_time": "2022-03-23T09:46:05.615Z"
   },
   {
    "duration": 1606,
    "start_time": "2022-03-23T09:46:48.359Z"
   },
   {
    "duration": 36,
    "start_time": "2022-03-23T09:46:49.967Z"
   },
   {
    "duration": 124,
    "start_time": "2022-03-23T09:46:50.006Z"
   },
   {
    "duration": 744,
    "start_time": "2022-03-23T09:46:50.134Z"
   },
   {
    "duration": 46,
    "start_time": "2022-03-23T09:46:50.880Z"
   },
   {
    "duration": 752,
    "start_time": "2022-03-23T09:46:50.929Z"
   },
   {
    "duration": 206,
    "start_time": "2022-03-23T09:46:51.684Z"
   },
   {
    "duration": 90,
    "start_time": "2022-03-23T09:46:51.893Z"
   },
   {
    "duration": 319,
    "start_time": "2022-03-23T09:46:51.985Z"
   },
   {
    "duration": 87,
    "start_time": "2022-03-23T09:46:52.308Z"
   },
   {
    "duration": 8,
    "start_time": "2022-03-23T09:46:52.397Z"
   },
   {
    "duration": 76,
    "start_time": "2022-03-23T09:46:52.407Z"
   },
   {
    "duration": 20,
    "start_time": "2022-03-23T09:46:52.487Z"
   },
   {
    "duration": 18,
    "start_time": "2022-03-23T09:46:52.509Z"
   },
   {
    "duration": 84,
    "start_time": "2022-03-23T09:46:52.530Z"
   },
   {
    "duration": 17,
    "start_time": "2022-03-23T09:46:52.616Z"
   },
   {
    "duration": 39,
    "start_time": "2022-03-23T09:46:52.636Z"
   },
   {
    "duration": 13,
    "start_time": "2022-03-23T09:46:52.677Z"
   },
   {
    "duration": 100,
    "start_time": "2022-03-23T09:46:52.692Z"
   },
   {
    "duration": 42,
    "start_time": "2022-03-23T09:46:52.794Z"
   },
   {
    "duration": 56,
    "start_time": "2022-03-23T09:46:52.838Z"
   },
   {
    "duration": 25,
    "start_time": "2022-03-23T09:46:52.897Z"
   },
   {
    "duration": 54,
    "start_time": "2022-03-23T09:46:52.925Z"
   },
   {
    "duration": 7,
    "start_time": "2022-03-23T09:46:52.981Z"
   },
   {
    "duration": 50,
    "start_time": "2022-03-23T09:46:52.990Z"
   },
   {
    "duration": 47,
    "start_time": "2022-03-23T09:46:53.042Z"
   },
   {
    "duration": 52,
    "start_time": "2022-03-23T09:49:00.714Z"
   },
   {
    "duration": 43,
    "start_time": "2022-03-23T09:50:16.164Z"
   },
   {
    "duration": 23,
    "start_time": "2022-03-23T09:51:19.735Z"
   },
   {
    "duration": 42,
    "start_time": "2022-03-23T09:52:55.627Z"
   },
   {
    "duration": 52,
    "start_time": "2022-03-23T09:53:14.649Z"
   },
   {
    "duration": 77,
    "start_time": "2022-03-23T09:53:52.042Z"
   },
   {
    "duration": 1687,
    "start_time": "2022-03-23T09:54:39.287Z"
   },
   {
    "duration": 41,
    "start_time": "2022-03-23T09:54:40.977Z"
   },
   {
    "duration": 135,
    "start_time": "2022-03-23T09:54:41.021Z"
   },
   {
    "duration": 778,
    "start_time": "2022-03-23T09:54:41.159Z"
   },
   {
    "duration": 62,
    "start_time": "2022-03-23T09:54:41.941Z"
   },
   {
    "duration": 792,
    "start_time": "2022-03-23T09:54:42.005Z"
   },
   {
    "duration": 208,
    "start_time": "2022-03-23T09:54:42.799Z"
   },
   {
    "duration": 93,
    "start_time": "2022-03-23T09:54:43.010Z"
   },
   {
    "duration": 355,
    "start_time": "2022-03-23T09:54:43.106Z"
   },
   {
    "duration": 111,
    "start_time": "2022-03-23T09:54:43.463Z"
   },
   {
    "duration": 10,
    "start_time": "2022-03-23T09:54:43.586Z"
   },
   {
    "duration": 81,
    "start_time": "2022-03-23T09:54:43.598Z"
   },
   {
    "duration": 26,
    "start_time": "2022-03-23T09:54:43.682Z"
   },
   {
    "duration": 19,
    "start_time": "2022-03-23T09:54:43.712Z"
   },
   {
    "duration": 95,
    "start_time": "2022-03-23T09:54:43.733Z"
   },
   {
    "duration": 22,
    "start_time": "2022-03-23T09:54:43.831Z"
   },
   {
    "duration": 19,
    "start_time": "2022-03-23T09:54:43.875Z"
   },
   {
    "duration": 20,
    "start_time": "2022-03-23T09:54:43.896Z"
   },
   {
    "duration": 112,
    "start_time": "2022-03-23T09:54:43.918Z"
   },
   {
    "duration": 64,
    "start_time": "2022-03-23T09:54:44.032Z"
   },
   {
    "duration": 102,
    "start_time": "2022-03-23T09:54:44.098Z"
   },
   {
    "duration": 73,
    "start_time": "2022-03-23T09:54:44.203Z"
   },
   {
    "duration": 24,
    "start_time": "2022-03-23T09:54:44.279Z"
   },
   {
    "duration": 8,
    "start_time": "2022-03-23T09:54:44.305Z"
   },
   {
    "duration": 103,
    "start_time": "2022-03-23T09:54:44.316Z"
   },
   {
    "duration": 28,
    "start_time": "2022-03-23T09:54:44.421Z"
   },
   {
    "duration": 26,
    "start_time": "2022-03-23T09:55:16.585Z"
   },
   {
    "duration": 30,
    "start_time": "2022-03-23T09:56:11.263Z"
   },
   {
    "duration": 1623,
    "start_time": "2022-03-23T09:56:53.577Z"
   },
   {
    "duration": 34,
    "start_time": "2022-03-23T09:56:55.203Z"
   },
   {
    "duration": 125,
    "start_time": "2022-03-23T09:56:55.240Z"
   },
   {
    "duration": 759,
    "start_time": "2022-03-23T09:56:55.374Z"
   },
   {
    "duration": 72,
    "start_time": "2022-03-23T09:56:56.138Z"
   },
   {
    "duration": 784,
    "start_time": "2022-03-23T09:56:56.212Z"
   },
   {
    "duration": 199,
    "start_time": "2022-03-23T09:56:56.998Z"
   },
   {
    "duration": 101,
    "start_time": "2022-03-23T09:56:57.200Z"
   },
   {
    "duration": 326,
    "start_time": "2022-03-23T09:56:57.303Z"
   },
   {
    "duration": 98,
    "start_time": "2022-03-23T09:56:57.631Z"
   },
   {
    "duration": 12,
    "start_time": "2022-03-23T09:56:57.731Z"
   },
   {
    "duration": 89,
    "start_time": "2022-03-23T09:56:57.746Z"
   },
   {
    "duration": 21,
    "start_time": "2022-03-23T09:56:57.837Z"
   },
   {
    "duration": 21,
    "start_time": "2022-03-23T09:56:57.876Z"
   },
   {
    "duration": 50,
    "start_time": "2022-03-23T09:56:57.899Z"
   },
   {
    "duration": 18,
    "start_time": "2022-03-23T09:56:57.987Z"
   },
   {
    "duration": 14,
    "start_time": "2022-03-23T09:56:58.007Z"
   },
   {
    "duration": 32,
    "start_time": "2022-03-23T09:56:58.023Z"
   },
   {
    "duration": 108,
    "start_time": "2022-03-23T09:56:58.057Z"
   },
   {
    "duration": 47,
    "start_time": "2022-03-23T09:56:58.167Z"
   },
   {
    "duration": 73,
    "start_time": "2022-03-23T09:56:58.216Z"
   },
   {
    "duration": 32,
    "start_time": "2022-03-23T09:56:58.292Z"
   },
   {
    "duration": 54,
    "start_time": "2022-03-23T09:56:58.327Z"
   },
   {
    "duration": 9,
    "start_time": "2022-03-23T09:56:58.385Z"
   },
   {
    "duration": 79,
    "start_time": "2022-03-23T09:56:58.396Z"
   },
   {
    "duration": 24,
    "start_time": "2022-03-23T09:56:58.477Z"
   },
   {
    "duration": 92,
    "start_time": "2022-03-23T10:47:29.900Z"
   },
   {
    "duration": 63,
    "start_time": "2022-03-23T10:47:42.428Z"
   },
   {
    "duration": 72,
    "start_time": "2022-03-23T10:51:15.618Z"
   },
   {
    "duration": 63,
    "start_time": "2022-03-23T10:55:57.971Z"
   },
   {
    "duration": 62,
    "start_time": "2022-03-23T10:56:18.767Z"
   },
   {
    "duration": 60,
    "start_time": "2022-03-23T10:59:36.774Z"
   },
   {
    "duration": 216,
    "start_time": "2022-03-23T10:59:59.017Z"
   },
   {
    "duration": 92,
    "start_time": "2022-03-23T11:00:33.840Z"
   },
   {
    "duration": 88,
    "start_time": "2022-03-23T11:00:59.083Z"
   },
   {
    "duration": 163,
    "start_time": "2022-03-23T11:04:38.964Z"
   },
   {
    "duration": 14,
    "start_time": "2022-03-23T11:04:47.475Z"
   },
   {
    "duration": 16,
    "start_time": "2022-03-23T11:04:56.755Z"
   },
   {
    "duration": 29,
    "start_time": "2022-03-23T11:12:51.600Z"
   },
   {
    "duration": 15,
    "start_time": "2022-03-23T11:13:09.845Z"
   },
   {
    "duration": 17,
    "start_time": "2022-03-23T11:14:27.410Z"
   },
   {
    "duration": 75,
    "start_time": "2022-03-23T11:22:50.283Z"
   },
   {
    "duration": 1938,
    "start_time": "2022-03-23T11:27:19.687Z"
   },
   {
    "duration": 32,
    "start_time": "2022-03-23T11:29:37.457Z"
   },
   {
    "duration": 38,
    "start_time": "2022-03-23T11:30:54.935Z"
   },
   {
    "duration": 37,
    "start_time": "2022-03-23T11:31:03.723Z"
   },
   {
    "duration": 32,
    "start_time": "2022-03-23T11:31:19.960Z"
   },
   {
    "duration": 158,
    "start_time": "2022-03-23T11:31:45.602Z"
   },
   {
    "duration": 93,
    "start_time": "2022-03-23T11:33:04.174Z"
   },
   {
    "duration": 43,
    "start_time": "2022-03-23T11:33:14.430Z"
   },
   {
    "duration": 89,
    "start_time": "2022-03-23T11:34:56.305Z"
   },
   {
    "duration": 40,
    "start_time": "2022-03-23T11:35:01.539Z"
   },
   {
    "duration": 33,
    "start_time": "2022-03-23T11:35:16.275Z"
   },
   {
    "duration": 31,
    "start_time": "2022-03-23T11:35:53.425Z"
   },
   {
    "duration": 102,
    "start_time": "2022-03-23T11:36:01.384Z"
   },
   {
    "duration": 33,
    "start_time": "2022-03-23T11:36:16.876Z"
   },
   {
    "duration": 39,
    "start_time": "2022-03-23T11:50:45.853Z"
   },
   {
    "duration": 55,
    "start_time": "2022-03-23T11:51:01.872Z"
   },
   {
    "duration": 84,
    "start_time": "2022-03-23T11:53:05.969Z"
   },
   {
    "duration": 118,
    "start_time": "2022-03-23T11:54:51.833Z"
   },
   {
    "duration": 70,
    "start_time": "2022-03-23T11:55:12.364Z"
   },
   {
    "duration": 87,
    "start_time": "2022-03-23T11:55:57.132Z"
   },
   {
    "duration": 84,
    "start_time": "2022-03-23T11:57:02.351Z"
   },
   {
    "duration": 128,
    "start_time": "2022-03-23T11:59:49.489Z"
   },
   {
    "duration": 128,
    "start_time": "2022-03-23T12:00:04.970Z"
   },
   {
    "duration": 119,
    "start_time": "2022-03-23T12:00:42.896Z"
   },
   {
    "duration": 22,
    "start_time": "2022-03-23T12:04:50.879Z"
   },
   {
    "duration": 54,
    "start_time": "2022-03-23T12:05:10.818Z"
   },
   {
    "duration": 49,
    "start_time": "2022-03-23T12:40:23.542Z"
   },
   {
    "duration": 57,
    "start_time": "2022-03-23T12:40:34.296Z"
   },
   {
    "duration": 16,
    "start_time": "2022-03-23T12:44:40.622Z"
   },
   {
    "duration": 18,
    "start_time": "2022-03-23T12:45:35.132Z"
   },
   {
    "duration": 114,
    "start_time": "2022-03-23T12:45:43.873Z"
   },
   {
    "duration": 22,
    "start_time": "2022-03-23T12:45:53.182Z"
   },
   {
    "duration": 445,
    "start_time": "2022-03-23T12:59:18.489Z"
   },
   {
    "duration": 921,
    "start_time": "2022-03-23T14:07:49.515Z"
   },
   {
    "duration": 477,
    "start_time": "2022-03-23T14:08:48.735Z"
   },
   {
    "duration": 647,
    "start_time": "2022-03-23T14:09:11.435Z"
   },
   {
    "duration": 638,
    "start_time": "2022-03-23T14:09:41.159Z"
   },
   {
    "duration": 1200,
    "start_time": "2022-03-23T14:11:25.633Z"
   },
   {
    "duration": 1775,
    "start_time": "2022-03-23T14:12:49.611Z"
   },
   {
    "duration": 1654,
    "start_time": "2022-03-23T14:14:25.776Z"
   },
   {
    "duration": 1765,
    "start_time": "2022-03-23T14:15:05.993Z"
   },
   {
    "duration": 2127,
    "start_time": "2022-03-23T14:16:44.396Z"
   },
   {
    "duration": 2330,
    "start_time": "2022-03-23T14:17:20.314Z"
   },
   {
    "duration": 2166,
    "start_time": "2022-03-23T14:30:50.333Z"
   },
   {
    "duration": 2200,
    "start_time": "2022-03-23T14:33:48.688Z"
   },
   {
    "duration": 2212,
    "start_time": "2022-03-23T14:36:16.331Z"
   },
   {
    "duration": 2044,
    "start_time": "2022-03-23T14:39:47.646Z"
   },
   {
    "duration": 2045,
    "start_time": "2022-03-23T14:41:54.053Z"
   },
   {
    "duration": 2127,
    "start_time": "2022-03-23T14:42:43.957Z"
   },
   {
    "duration": 2284,
    "start_time": "2022-03-23T14:43:59.757Z"
   },
   {
    "duration": 36,
    "start_time": "2022-03-23T14:54:53.932Z"
   },
   {
    "duration": 41,
    "start_time": "2022-03-23T14:56:48.255Z"
   },
   {
    "duration": 43,
    "start_time": "2022-03-23T14:57:20.843Z"
   },
   {
    "duration": 14,
    "start_time": "2022-03-23T14:57:58.843Z"
   },
   {
    "duration": 11,
    "start_time": "2022-03-23T15:04:29.932Z"
   },
   {
    "duration": 32,
    "start_time": "2022-03-23T15:08:45.375Z"
   },
   {
    "duration": 32,
    "start_time": "2022-03-23T15:08:53.825Z"
   },
   {
    "duration": 10,
    "start_time": "2022-03-23T15:09:02.928Z"
   },
   {
    "duration": 652,
    "start_time": "2022-03-23T15:14:02.601Z"
   },
   {
    "duration": 305,
    "start_time": "2022-03-23T15:15:05.683Z"
   },
   {
    "duration": 265,
    "start_time": "2022-03-23T15:15:29.296Z"
   },
   {
    "duration": 242,
    "start_time": "2022-03-23T15:16:59.966Z"
   },
   {
    "duration": 235,
    "start_time": "2022-03-23T15:18:10.030Z"
   },
   {
    "duration": 255,
    "start_time": "2022-03-23T15:18:44.321Z"
   },
   {
    "duration": 339,
    "start_time": "2022-03-23T15:28:28.827Z"
   },
   {
    "duration": 431,
    "start_time": "2022-03-23T15:29:16.337Z"
   },
   {
    "duration": 426,
    "start_time": "2022-03-23T15:29:45.421Z"
   },
   {
    "duration": 419,
    "start_time": "2022-03-23T15:30:33.392Z"
   },
   {
    "duration": 606,
    "start_time": "2022-03-23T15:31:35.847Z"
   },
   {
    "duration": 494,
    "start_time": "2022-03-23T15:31:46.811Z"
   },
   {
    "duration": 552,
    "start_time": "2022-03-23T15:32:02.930Z"
   },
   {
    "duration": 540,
    "start_time": "2022-03-23T15:34:34.036Z"
   },
   {
    "duration": 477,
    "start_time": "2022-03-23T15:59:39.534Z"
   },
   {
    "duration": 655,
    "start_time": "2022-03-23T16:00:04.753Z"
   },
   {
    "duration": 550,
    "start_time": "2022-03-23T16:00:42.339Z"
   },
   {
    "duration": 578,
    "start_time": "2022-03-23T16:01:23.170Z"
   },
   {
    "duration": 601,
    "start_time": "2022-03-23T16:02:25.713Z"
   },
   {
    "duration": 282,
    "start_time": "2022-03-23T16:24:31.056Z"
   },
   {
    "duration": 288,
    "start_time": "2022-03-23T16:25:31.517Z"
   },
   {
    "duration": 307,
    "start_time": "2022-03-23T16:26:19.675Z"
   },
   {
    "duration": 202,
    "start_time": "2022-03-23T16:27:05.221Z"
   },
   {
    "duration": 211,
    "start_time": "2022-03-23T16:27:54.957Z"
   },
   {
    "duration": 314,
    "start_time": "2022-03-23T16:28:22.407Z"
   },
   {
    "duration": 315,
    "start_time": "2022-03-23T16:28:29.136Z"
   },
   {
    "duration": 309,
    "start_time": "2022-03-23T16:29:09.278Z"
   },
   {
    "duration": 16,
    "start_time": "2022-03-23T16:30:39.218Z"
   },
   {
    "duration": 347,
    "start_time": "2022-03-23T16:30:56.031Z"
   },
   {
    "duration": 393,
    "start_time": "2022-03-23T16:31:41.124Z"
   },
   {
    "duration": 377,
    "start_time": "2022-03-23T16:43:42.200Z"
   },
   {
    "duration": 16,
    "start_time": "2022-03-23T17:52:16.845Z"
   },
   {
    "duration": 51,
    "start_time": "2022-03-23T17:54:26.626Z"
   },
   {
    "duration": 65,
    "start_time": "2022-03-23T17:55:48.128Z"
   },
   {
    "duration": 157,
    "start_time": "2022-03-23T17:57:17.368Z"
   },
   {
    "duration": 97,
    "start_time": "2022-03-23T17:59:46.515Z"
   },
   {
    "duration": 106,
    "start_time": "2022-03-23T18:00:17.035Z"
   },
   {
    "duration": 1408,
    "start_time": "2022-03-23T18:01:36.985Z"
   },
   {
    "duration": 118,
    "start_time": "2022-03-23T18:02:17.259Z"
   },
   {
    "duration": 110,
    "start_time": "2022-03-23T18:02:27.612Z"
   },
   {
    "duration": 111,
    "start_time": "2022-03-23T18:06:15.806Z"
   },
   {
    "duration": 52,
    "start_time": "2022-03-23T18:07:23.924Z"
   },
   {
    "duration": 69,
    "start_time": "2022-03-23T18:07:31.256Z"
   },
   {
    "duration": 59,
    "start_time": "2022-03-23T18:13:48.235Z"
   },
   {
    "duration": 70,
    "start_time": "2022-03-23T18:41:56.769Z"
   },
   {
    "duration": 99,
    "start_time": "2022-03-23T18:45:42.559Z"
   },
   {
    "duration": 97,
    "start_time": "2022-03-23T18:46:20.737Z"
   },
   {
    "duration": 104,
    "start_time": "2022-03-23T18:46:35.959Z"
   },
   {
    "duration": 102,
    "start_time": "2022-03-23T18:48:07.550Z"
   },
   {
    "duration": 103,
    "start_time": "2022-03-23T18:49:22.618Z"
   },
   {
    "duration": 100,
    "start_time": "2022-03-23T18:50:32.484Z"
   },
   {
    "duration": 108,
    "start_time": "2022-03-23T18:50:43.892Z"
   },
   {
    "duration": 218,
    "start_time": "2022-03-23T18:52:20.871Z"
   },
   {
    "duration": 121,
    "start_time": "2022-03-23T18:52:45.347Z"
   },
   {
    "duration": 112,
    "start_time": "2022-03-23T18:52:52.049Z"
   },
   {
    "duration": 122,
    "start_time": "2022-03-23T18:56:24.373Z"
   },
   {
    "duration": 17,
    "start_time": "2022-03-23T19:25:48.670Z"
   },
   {
    "duration": 11,
    "start_time": "2022-03-23T19:26:02.268Z"
   },
   {
    "duration": 12,
    "start_time": "2022-03-23T19:26:06.118Z"
   },
   {
    "duration": 35,
    "start_time": "2022-03-23T19:29:25.953Z"
   },
   {
    "duration": 592,
    "start_time": "2022-03-23T19:31:24.603Z"
   },
   {
    "duration": 2340,
    "start_time": "2022-03-23T19:36:27.165Z"
   },
   {
    "duration": 44,
    "start_time": "2022-03-23T19:38:52.895Z"
   },
   {
    "duration": 1955,
    "start_time": "2022-03-23T19:39:56.384Z"
   },
   {
    "duration": 41,
    "start_time": "2022-03-23T19:39:59.762Z"
   },
   {
    "duration": 1870,
    "start_time": "2022-03-23T19:40:39.128Z"
   },
   {
    "duration": 42,
    "start_time": "2022-03-23T19:40:42.064Z"
   },
   {
    "duration": 21,
    "start_time": "2022-03-23T19:41:07.945Z"
   },
   {
    "duration": 8,
    "start_time": "2022-03-23T19:43:51.650Z"
   },
   {
    "duration": 416,
    "start_time": "2022-03-23T19:46:26.399Z"
   },
   {
    "duration": 759,
    "start_time": "2022-03-23T19:51:09.415Z"
   },
   {
    "duration": 1027,
    "start_time": "2022-03-23T19:52:07.668Z"
   },
   {
    "duration": 968,
    "start_time": "2022-03-23T19:54:13.526Z"
   },
   {
    "duration": 1426,
    "start_time": "2022-03-23T19:56:21.830Z"
   },
   {
    "duration": 1722,
    "start_time": "2022-03-23T19:57:26.529Z"
   },
   {
    "duration": 1321,
    "start_time": "2022-03-23T19:58:19.505Z"
   },
   {
    "duration": 1225,
    "start_time": "2022-03-23T19:59:14.428Z"
   },
   {
    "duration": 1007,
    "start_time": "2022-03-23T20:00:22.087Z"
   },
   {
    "duration": 1091,
    "start_time": "2022-03-23T20:01:13.009Z"
   },
   {
    "duration": 1025,
    "start_time": "2022-03-23T20:01:50.433Z"
   },
   {
    "duration": 1280,
    "start_time": "2022-03-23T20:03:12.671Z"
   },
   {
    "duration": 1075,
    "start_time": "2022-03-23T20:03:35.416Z"
   },
   {
    "duration": 1287,
    "start_time": "2022-03-23T20:04:29.528Z"
   },
   {
    "duration": 1349,
    "start_time": "2022-03-23T20:05:40.592Z"
   },
   {
    "duration": 24,
    "start_time": "2022-03-23T20:22:12.768Z"
   },
   {
    "duration": 17,
    "start_time": "2022-03-23T20:23:25.847Z"
   },
   {
    "duration": 15,
    "start_time": "2022-03-23T20:30:23.473Z"
   },
   {
    "duration": 8,
    "start_time": "2022-03-23T20:49:37.258Z"
   },
   {
    "duration": 17,
    "start_time": "2022-03-23T21:00:10.451Z"
   },
   {
    "duration": 19,
    "start_time": "2022-03-23T21:01:25.322Z"
   },
   {
    "duration": 8,
    "start_time": "2022-03-23T21:03:51.977Z"
   },
   {
    "duration": 21,
    "start_time": "2022-03-23T21:03:53.232Z"
   },
   {
    "duration": 1576,
    "start_time": "2022-03-23T21:04:35.393Z"
   },
   {
    "duration": 41,
    "start_time": "2022-03-23T21:04:36.973Z"
   },
   {
    "duration": 113,
    "start_time": "2022-03-23T21:04:37.016Z"
   },
   {
    "duration": 769,
    "start_time": "2022-03-23T21:04:37.131Z"
   },
   {
    "duration": 47,
    "start_time": "2022-03-23T21:04:37.903Z"
   },
   {
    "duration": 789,
    "start_time": "2022-03-23T21:04:37.952Z"
   },
   {
    "duration": 176,
    "start_time": "2022-03-23T21:04:38.743Z"
   },
   {
    "duration": 94,
    "start_time": "2022-03-23T21:04:38.922Z"
   },
   {
    "duration": 334,
    "start_time": "2022-03-23T21:04:39.018Z"
   },
   {
    "duration": 82,
    "start_time": "2022-03-23T21:04:39.354Z"
   },
   {
    "duration": 9,
    "start_time": "2022-03-23T21:04:39.438Z"
   },
   {
    "duration": 76,
    "start_time": "2022-03-23T21:04:39.449Z"
   },
   {
    "duration": 47,
    "start_time": "2022-03-23T21:04:39.527Z"
   },
   {
    "duration": 16,
    "start_time": "2022-03-23T21:04:39.578Z"
   },
   {
    "duration": 49,
    "start_time": "2022-03-23T21:04:39.596Z"
   },
   {
    "duration": 41,
    "start_time": "2022-03-23T21:04:39.648Z"
   },
   {
    "duration": 13,
    "start_time": "2022-03-23T21:04:39.691Z"
   },
   {
    "duration": 14,
    "start_time": "2022-03-23T21:04:39.706Z"
   },
   {
    "duration": 116,
    "start_time": "2022-03-23T21:04:39.722Z"
   },
   {
    "duration": 53,
    "start_time": "2022-03-23T21:04:39.840Z"
   },
   {
    "duration": 60,
    "start_time": "2022-03-23T21:04:39.895Z"
   },
   {
    "duration": 48,
    "start_time": "2022-03-23T21:04:39.956Z"
   },
   {
    "duration": 25,
    "start_time": "2022-03-23T21:04:40.007Z"
   },
   {
    "duration": 104,
    "start_time": "2022-03-23T21:04:40.034Z"
   },
   {
    "duration": 38,
    "start_time": "2022-03-23T21:04:40.141Z"
   },
   {
    "duration": 20,
    "start_time": "2022-03-23T21:04:40.182Z"
   },
   {
    "duration": 33,
    "start_time": "2022-03-23T21:04:40.204Z"
   },
   {
    "duration": 132,
    "start_time": "2022-03-23T21:04:40.274Z"
   },
   {
    "duration": 2162,
    "start_time": "2022-03-23T21:04:40.409Z"
   },
   {
    "duration": 12,
    "start_time": "2022-03-23T21:04:42.575Z"
   },
   {
    "duration": 507,
    "start_time": "2022-03-23T21:04:42.589Z"
   },
   {
    "duration": 127,
    "start_time": "2022-03-23T21:04:43.098Z"
   },
   {
    "duration": 2013,
    "start_time": "2022-03-23T21:04:43.228Z"
   },
   {
    "duration": 20,
    "start_time": "2022-03-23T21:04:45.243Z"
   },
   {
    "duration": 11,
    "start_time": "2022-03-23T21:04:45.273Z"
   },
   {
    "duration": 1289,
    "start_time": "2022-03-23T21:04:45.286Z"
   },
   {
    "duration": 18,
    "start_time": "2022-03-23T21:04:46.577Z"
   },
   {
    "duration": 8,
    "start_time": "2022-03-23T21:04:46.598Z"
   },
   {
    "duration": 187,
    "start_time": "2022-03-23T21:04:46.608Z"
   },
   {
    "duration": 8,
    "start_time": "2022-03-23T21:05:11.622Z"
   },
   {
    "duration": 10,
    "start_time": "2022-03-23T21:05:12.605Z"
   },
   {
    "duration": 7,
    "start_time": "2022-03-23T21:05:35.163Z"
   },
   {
    "duration": 9,
    "start_time": "2022-03-23T21:05:36.678Z"
   },
   {
    "duration": 11,
    "start_time": "2022-03-23T21:07:04.653Z"
   },
   {
    "duration": 10,
    "start_time": "2022-03-23T21:07:59.755Z"
   },
   {
    "duration": 7,
    "start_time": "2022-03-23T21:09:50.207Z"
   },
   {
    "duration": 9,
    "start_time": "2022-03-23T21:09:51.143Z"
   },
   {
    "duration": 9,
    "start_time": "2022-03-23T21:09:52.559Z"
   },
   {
    "duration": 9,
    "start_time": "2022-03-23T21:09:54.045Z"
   },
   {
    "duration": 98,
    "start_time": "2022-03-23T21:23:47.112Z"
   },
   {
    "duration": 1749,
    "start_time": "2022-03-23T21:25:48.652Z"
   },
   {
    "duration": 37,
    "start_time": "2022-03-23T21:25:50.403Z"
   },
   {
    "duration": 143,
    "start_time": "2022-03-23T21:25:50.442Z"
   },
   {
    "duration": 769,
    "start_time": "2022-03-23T21:25:50.587Z"
   },
   {
    "duration": 52,
    "start_time": "2022-03-23T21:25:51.359Z"
   },
   {
    "duration": 761,
    "start_time": "2022-03-23T21:25:51.414Z"
   },
   {
    "duration": 209,
    "start_time": "2022-03-23T21:25:52.177Z"
   },
   {
    "duration": 69,
    "start_time": "2022-03-23T21:25:52.388Z"
   },
   {
    "duration": 334,
    "start_time": "2022-03-23T21:25:52.459Z"
   },
   {
    "duration": 89,
    "start_time": "2022-03-23T21:25:52.797Z"
   },
   {
    "duration": 8,
    "start_time": "2022-03-23T21:25:52.889Z"
   },
   {
    "duration": 78,
    "start_time": "2022-03-23T21:25:52.900Z"
   },
   {
    "duration": 20,
    "start_time": "2022-03-23T21:25:52.981Z"
   },
   {
    "duration": 15,
    "start_time": "2022-03-23T21:25:53.004Z"
   },
   {
    "duration": 85,
    "start_time": "2022-03-23T21:25:53.022Z"
   },
   {
    "duration": 17,
    "start_time": "2022-03-23T21:25:53.109Z"
   },
   {
    "duration": 14,
    "start_time": "2022-03-23T21:25:53.129Z"
   },
   {
    "duration": 16,
    "start_time": "2022-03-23T21:25:53.174Z"
   },
   {
    "duration": 103,
    "start_time": "2022-03-23T21:25:53.193Z"
   },
   {
    "duration": 42,
    "start_time": "2022-03-23T21:25:53.298Z"
   },
   {
    "duration": 83,
    "start_time": "2022-03-23T21:25:53.342Z"
   },
   {
    "duration": 47,
    "start_time": "2022-03-23T21:25:53.427Z"
   },
   {
    "duration": 26,
    "start_time": "2022-03-23T21:25:53.477Z"
   },
   {
    "duration": 95,
    "start_time": "2022-03-23T21:25:53.506Z"
   },
   {
    "duration": 15,
    "start_time": "2022-03-23T21:25:53.603Z"
   },
   {
    "duration": 15,
    "start_time": "2022-03-23T21:25:53.620Z"
   },
   {
    "duration": 60,
    "start_time": "2022-03-23T21:25:53.637Z"
   },
   {
    "duration": 143,
    "start_time": "2022-03-23T21:25:53.702Z"
   },
   {
    "duration": 2128,
    "start_time": "2022-03-23T21:25:53.847Z"
   },
   {
    "duration": 13,
    "start_time": "2022-03-23T21:25:55.977Z"
   },
   {
    "duration": 523,
    "start_time": "2022-03-23T21:25:55.993Z"
   },
   {
    "duration": 130,
    "start_time": "2022-03-23T21:25:56.518Z"
   },
   {
    "duration": 2023,
    "start_time": "2022-03-23T21:25:56.650Z"
   },
   {
    "duration": 23,
    "start_time": "2022-03-23T21:25:58.675Z"
   },
   {
    "duration": 8,
    "start_time": "2022-03-23T21:25:58.700Z"
   },
   {
    "duration": 1303,
    "start_time": "2022-03-23T21:25:58.710Z"
   },
   {
    "duration": 14,
    "start_time": "2022-03-23T21:26:00.015Z"
   },
   {
    "duration": 9,
    "start_time": "2022-03-23T21:26:00.031Z"
   },
   {
    "duration": 18,
    "start_time": "2022-03-23T21:26:00.042Z"
   },
   {
    "duration": 27,
    "start_time": "2022-03-23T21:26:00.062Z"
   },
   {
    "duration": 13,
    "start_time": "2022-03-23T21:26:00.091Z"
   },
   {
    "duration": 1736,
    "start_time": "2022-03-23T21:54:29.769Z"
   },
   {
    "duration": 37,
    "start_time": "2022-03-23T21:54:31.509Z"
   },
   {
    "duration": 130,
    "start_time": "2022-03-23T21:54:31.549Z"
   },
   {
    "duration": 792,
    "start_time": "2022-03-23T21:54:31.681Z"
   },
   {
    "duration": 58,
    "start_time": "2022-03-23T21:54:32.476Z"
   },
   {
    "duration": 780,
    "start_time": "2022-03-23T21:54:32.537Z"
   },
   {
    "duration": 198,
    "start_time": "2022-03-23T21:54:33.319Z"
   },
   {
    "duration": 94,
    "start_time": "2022-03-23T21:54:33.520Z"
   },
   {
    "duration": 338,
    "start_time": "2022-03-23T21:54:33.617Z"
   },
   {
    "duration": 86,
    "start_time": "2022-03-23T21:54:33.958Z"
   },
   {
    "duration": 9,
    "start_time": "2022-03-23T21:54:34.046Z"
   },
   {
    "duration": 59,
    "start_time": "2022-03-23T21:54:34.073Z"
   },
   {
    "duration": 41,
    "start_time": "2022-03-23T21:54:34.135Z"
   },
   {
    "duration": 16,
    "start_time": "2022-03-23T21:54:34.181Z"
   },
   {
    "duration": 76,
    "start_time": "2022-03-23T21:54:34.199Z"
   },
   {
    "duration": 24,
    "start_time": "2022-03-23T21:54:34.277Z"
   },
   {
    "duration": 26,
    "start_time": "2022-03-23T21:54:34.303Z"
   },
   {
    "duration": 45,
    "start_time": "2022-03-23T21:54:34.331Z"
   },
   {
    "duration": 139,
    "start_time": "2022-03-23T21:54:34.379Z"
   },
   {
    "duration": 71,
    "start_time": "2022-03-23T21:54:34.521Z"
   },
   {
    "duration": 78,
    "start_time": "2022-03-23T21:54:34.596Z"
   },
   {
    "duration": 35,
    "start_time": "2022-03-23T21:54:34.676Z"
   },
   {
    "duration": 26,
    "start_time": "2022-03-23T21:54:34.713Z"
   },
   {
    "duration": 108,
    "start_time": "2022-03-23T21:54:34.742Z"
   },
   {
    "duration": 34,
    "start_time": "2022-03-23T21:54:34.852Z"
   },
   {
    "duration": 20,
    "start_time": "2022-03-23T21:54:34.888Z"
   },
   {
    "duration": 64,
    "start_time": "2022-03-23T21:54:34.911Z"
   },
   {
    "duration": 147,
    "start_time": "2022-03-23T21:54:34.978Z"
   },
   {
    "duration": 2608,
    "start_time": "2022-03-23T21:54:35.128Z"
   },
   {
    "duration": 14,
    "start_time": "2022-03-23T21:54:37.739Z"
   },
   {
    "duration": 534,
    "start_time": "2022-03-23T21:54:37.755Z"
   },
   {
    "duration": 138,
    "start_time": "2022-03-23T21:54:38.292Z"
   },
   {
    "duration": 2673,
    "start_time": "2022-03-23T21:54:38.433Z"
   },
   {
    "duration": 32,
    "start_time": "2022-03-23T21:54:41.108Z"
   },
   {
    "duration": 8,
    "start_time": "2022-03-23T21:54:41.143Z"
   },
   {
    "duration": 1790,
    "start_time": "2022-03-23T21:54:41.176Z"
   },
   {
    "duration": 13,
    "start_time": "2022-03-23T21:54:42.969Z"
   },
   {
    "duration": 14,
    "start_time": "2022-03-23T21:54:42.984Z"
   },
   {
    "duration": 24,
    "start_time": "2022-03-23T21:54:43.000Z"
   },
   {
    "duration": 31,
    "start_time": "2022-03-23T21:54:43.026Z"
   },
   {
    "duration": 21,
    "start_time": "2022-03-23T21:54:43.062Z"
   },
   {
    "duration": 1725,
    "start_time": "2022-03-24T14:14:52.809Z"
   },
   {
    "duration": 43,
    "start_time": "2022-03-24T14:14:54.536Z"
   },
   {
    "duration": 114,
    "start_time": "2022-03-24T14:14:54.584Z"
   },
   {
    "duration": 758,
    "start_time": "2022-03-24T14:14:54.701Z"
   },
   {
    "duration": 53,
    "start_time": "2022-03-24T14:14:55.461Z"
   },
   {
    "duration": 753,
    "start_time": "2022-03-24T14:14:55.516Z"
   },
   {
    "duration": 178,
    "start_time": "2022-03-24T14:14:56.272Z"
   },
   {
    "duration": 88,
    "start_time": "2022-03-24T14:14:56.456Z"
   },
   {
    "duration": 381,
    "start_time": "2022-03-24T14:14:56.547Z"
   },
   {
    "duration": 124,
    "start_time": "2022-03-24T14:14:56.931Z"
   },
   {
    "duration": 28,
    "start_time": "2022-03-24T14:14:57.058Z"
   },
   {
    "duration": 63,
    "start_time": "2022-03-24T14:14:57.088Z"
   },
   {
    "duration": 54,
    "start_time": "2022-03-24T14:14:57.154Z"
   },
   {
    "duration": 22,
    "start_time": "2022-03-24T14:14:57.210Z"
   },
   {
    "duration": 86,
    "start_time": "2022-03-24T14:14:57.235Z"
   },
   {
    "duration": 21,
    "start_time": "2022-03-24T14:14:57.324Z"
   },
   {
    "duration": 41,
    "start_time": "2022-03-24T14:14:57.347Z"
   },
   {
    "duration": 23,
    "start_time": "2022-03-24T14:14:57.392Z"
   },
   {
    "duration": 103,
    "start_time": "2022-03-24T14:14:57.417Z"
   },
   {
    "duration": 76,
    "start_time": "2022-03-24T14:14:57.523Z"
   },
   {
    "duration": 55,
    "start_time": "2022-03-24T14:14:57.602Z"
   },
   {
    "duration": 48,
    "start_time": "2022-03-24T14:14:57.659Z"
   },
   {
    "duration": 28,
    "start_time": "2022-03-24T14:14:57.712Z"
   },
   {
    "duration": 116,
    "start_time": "2022-03-24T14:14:57.743Z"
   },
   {
    "duration": 25,
    "start_time": "2022-03-24T14:14:57.861Z"
   },
   {
    "duration": 18,
    "start_time": "2022-03-24T14:14:57.888Z"
   },
   {
    "duration": 33,
    "start_time": "2022-03-24T14:14:57.909Z"
   },
   {
    "duration": 165,
    "start_time": "2022-03-24T14:14:57.944Z"
   },
   {
    "duration": 2538,
    "start_time": "2022-03-24T14:14:58.111Z"
   },
   {
    "duration": 19,
    "start_time": "2022-03-24T14:15:00.651Z"
   },
   {
    "duration": 526,
    "start_time": "2022-03-24T14:15:00.683Z"
   },
   {
    "duration": 156,
    "start_time": "2022-03-24T14:15:01.212Z"
   },
   {
    "duration": 2678,
    "start_time": "2022-03-24T14:15:01.370Z"
   },
   {
    "duration": 34,
    "start_time": "2022-03-24T14:15:04.051Z"
   },
   {
    "duration": 30,
    "start_time": "2022-03-24T14:15:04.087Z"
   },
   {
    "duration": 1256,
    "start_time": "2022-03-24T14:15:04.120Z"
   },
   {
    "duration": 18,
    "start_time": "2022-03-24T14:15:05.378Z"
   },
   {
    "duration": 41,
    "start_time": "2022-03-24T14:15:05.399Z"
   },
   {
    "duration": 62,
    "start_time": "2022-03-24T14:15:05.442Z"
   },
   {
    "duration": 69,
    "start_time": "2022-03-24T14:15:05.506Z"
   },
   {
    "duration": 34,
    "start_time": "2022-03-24T14:15:05.578Z"
   },
   {
    "duration": 28,
    "start_time": "2022-03-24T14:42:58.340Z"
   },
   {
    "duration": 13,
    "start_time": "2022-03-24T14:43:30.663Z"
   },
   {
    "duration": 15,
    "start_time": "2022-03-24T14:43:35.757Z"
   },
   {
    "duration": 19,
    "start_time": "2022-03-24T14:43:41.171Z"
   },
   {
    "duration": 14,
    "start_time": "2022-03-24T14:43:52.025Z"
   },
   {
    "duration": 17,
    "start_time": "2022-03-24T14:43:54.953Z"
   },
   {
    "duration": 7,
    "start_time": "2022-03-24T14:48:23.570Z"
   },
   {
    "duration": 7,
    "start_time": "2022-03-24T14:48:25.319Z"
   },
   {
    "duration": 11,
    "start_time": "2022-03-24T14:48:25.681Z"
   },
   {
    "duration": 6,
    "start_time": "2022-03-24T14:48:26.402Z"
   },
   {
    "duration": 6,
    "start_time": "2022-03-24T14:48:30.321Z"
   },
   {
    "duration": 49,
    "start_time": "2022-03-24T17:17:36.720Z"
   },
   {
    "duration": 1354,
    "start_time": "2022-03-24T17:17:46.142Z"
   },
   {
    "duration": 31,
    "start_time": "2022-03-24T17:17:47.498Z"
   },
   {
    "duration": 85,
    "start_time": "2022-03-24T17:17:47.530Z"
   },
   {
    "duration": 525,
    "start_time": "2022-03-24T17:17:47.617Z"
   },
   {
    "duration": 36,
    "start_time": "2022-03-24T17:17:48.144Z"
   },
   {
    "duration": 519,
    "start_time": "2022-03-24T17:17:48.182Z"
   },
   {
    "duration": 134,
    "start_time": "2022-03-24T17:17:48.702Z"
   },
   {
    "duration": 51,
    "start_time": "2022-03-24T17:17:48.838Z"
   },
   {
    "duration": 227,
    "start_time": "2022-03-24T17:17:48.891Z"
   },
   {
    "duration": 55,
    "start_time": "2022-03-24T17:17:49.121Z"
   },
   {
    "duration": 6,
    "start_time": "2022-03-24T17:17:49.179Z"
   },
   {
    "duration": 59,
    "start_time": "2022-03-24T17:17:49.187Z"
   },
   {
    "duration": 16,
    "start_time": "2022-03-24T17:17:49.248Z"
   },
   {
    "duration": 43,
    "start_time": "2022-03-24T17:17:49.266Z"
   },
   {
    "duration": 46,
    "start_time": "2022-03-24T17:17:49.311Z"
   },
   {
    "duration": 12,
    "start_time": "2022-03-24T17:17:49.360Z"
   },
   {
    "duration": 37,
    "start_time": "2022-03-24T17:17:49.374Z"
   },
   {
    "duration": 9,
    "start_time": "2022-03-24T17:17:49.413Z"
   },
   {
    "duration": 55,
    "start_time": "2022-03-24T17:17:49.423Z"
   },
   {
    "duration": 46,
    "start_time": "2022-03-24T17:17:49.480Z"
   },
   {
    "duration": 57,
    "start_time": "2022-03-24T17:17:49.528Z"
   },
   {
    "duration": 46,
    "start_time": "2022-03-24T17:17:49.587Z"
   },
   {
    "duration": 25,
    "start_time": "2022-03-24T17:17:49.635Z"
   },
   {
    "duration": 90,
    "start_time": "2022-03-24T17:17:49.661Z"
   },
   {
    "duration": 14,
    "start_time": "2022-03-24T17:17:49.753Z"
   },
   {
    "duration": 13,
    "start_time": "2022-03-24T17:17:49.769Z"
   },
   {
    "duration": 46,
    "start_time": "2022-03-24T17:17:49.784Z"
   },
   {
    "duration": 99,
    "start_time": "2022-03-24T17:17:49.834Z"
   },
   {
    "duration": 1414,
    "start_time": "2022-03-24T17:17:49.935Z"
   },
   {
    "duration": 8,
    "start_time": "2022-03-24T17:17:51.350Z"
   },
   {
    "duration": 319,
    "start_time": "2022-03-24T17:17:51.359Z"
   },
   {
    "duration": 87,
    "start_time": "2022-03-24T17:17:51.680Z"
   },
   {
    "duration": 1192,
    "start_time": "2022-03-24T17:17:51.768Z"
   },
   {
    "duration": 14,
    "start_time": "2022-03-24T17:17:52.961Z"
   },
   {
    "duration": 18,
    "start_time": "2022-03-24T17:17:52.977Z"
   },
   {
    "duration": 912,
    "start_time": "2022-03-24T17:17:52.997Z"
   },
   {
    "duration": 10,
    "start_time": "2022-03-24T17:17:53.911Z"
   },
   {
    "duration": 6,
    "start_time": "2022-03-24T17:17:53.922Z"
   },
   {
    "duration": 11,
    "start_time": "2022-03-24T17:17:53.929Z"
   },
   {
    "duration": 9,
    "start_time": "2022-03-24T17:17:53.942Z"
   },
   {
    "duration": 10,
    "start_time": "2022-03-24T17:17:53.952Z"
   },
   {
    "duration": 36,
    "start_time": "2022-03-24T17:21:02.138Z"
   },
   {
    "duration": 101,
    "start_time": "2022-03-24T17:31:52.343Z"
   },
   {
    "duration": 1138,
    "start_time": "2022-03-24T17:32:03.023Z"
   },
   {
    "duration": 15,
    "start_time": "2022-03-24T17:32:20.881Z"
   },
   {
    "duration": 18,
    "start_time": "2022-03-24T17:35:41.611Z"
   },
   {
    "duration": 21,
    "start_time": "2022-03-24T17:36:00.151Z"
   },
   {
    "duration": 13,
    "start_time": "2022-03-24T18:10:45.120Z"
   },
   {
    "duration": 27,
    "start_time": "2022-03-24T18:11:21.013Z"
   },
   {
    "duration": 1244,
    "start_time": "2022-03-24T18:25:33.308Z"
   },
   {
    "duration": 31,
    "start_time": "2022-03-24T18:25:34.554Z"
   },
   {
    "duration": 81,
    "start_time": "2022-03-24T18:25:34.587Z"
   },
   {
    "duration": 546,
    "start_time": "2022-03-24T18:25:34.671Z"
   },
   {
    "duration": 36,
    "start_time": "2022-03-24T18:25:35.218Z"
   },
   {
    "duration": 559,
    "start_time": "2022-03-24T18:25:35.256Z"
   },
   {
    "duration": 131,
    "start_time": "2022-03-24T18:25:35.816Z"
   },
   {
    "duration": 64,
    "start_time": "2022-03-24T18:25:35.949Z"
   },
   {
    "duration": 216,
    "start_time": "2022-03-24T18:25:36.014Z"
   },
   {
    "duration": 55,
    "start_time": "2022-03-24T18:25:36.234Z"
   },
   {
    "duration": 24,
    "start_time": "2022-03-24T18:25:36.290Z"
   },
   {
    "duration": 40,
    "start_time": "2022-03-24T18:25:36.315Z"
   },
   {
    "duration": 15,
    "start_time": "2022-03-24T18:25:36.356Z"
   },
   {
    "duration": 40,
    "start_time": "2022-03-24T18:25:36.373Z"
   },
   {
    "duration": 33,
    "start_time": "2022-03-24T18:25:36.415Z"
   },
   {
    "duration": 11,
    "start_time": "2022-03-24T18:25:36.450Z"
   },
   {
    "duration": 9,
    "start_time": "2022-03-24T18:25:36.463Z"
   },
   {
    "duration": 42,
    "start_time": "2022-03-24T18:25:36.474Z"
   },
   {
    "duration": 55,
    "start_time": "2022-03-24T18:25:36.517Z"
   },
   {
    "duration": 47,
    "start_time": "2022-03-24T18:25:36.574Z"
   },
   {
    "duration": 40,
    "start_time": "2022-03-24T18:25:36.623Z"
   },
   {
    "duration": 20,
    "start_time": "2022-03-24T18:25:36.665Z"
   },
   {
    "duration": 18,
    "start_time": "2022-03-24T18:25:36.708Z"
   },
   {
    "duration": 20,
    "start_time": "2022-03-24T18:25:36.727Z"
   },
   {
    "duration": 78,
    "start_time": "2022-03-24T18:25:36.749Z"
   },
   {
    "duration": 11,
    "start_time": "2022-03-24T18:25:36.829Z"
   },
   {
    "duration": 12,
    "start_time": "2022-03-24T18:25:36.842Z"
   },
   {
    "duration": 51,
    "start_time": "2022-03-24T18:25:36.858Z"
   },
   {
    "duration": 86,
    "start_time": "2022-03-24T18:25:36.911Z"
   },
   {
    "duration": 1479,
    "start_time": "2022-03-24T18:25:36.999Z"
   },
   {
    "duration": 9,
    "start_time": "2022-03-24T18:25:38.480Z"
   },
   {
    "duration": 367,
    "start_time": "2022-03-24T18:25:38.490Z"
   },
   {
    "duration": 92,
    "start_time": "2022-03-24T18:25:38.860Z"
   },
   {
    "duration": 1326,
    "start_time": "2022-03-24T18:25:38.954Z"
   },
   {
    "duration": 11,
    "start_time": "2022-03-24T18:25:40.282Z"
   },
   {
    "duration": 13,
    "start_time": "2022-03-24T18:25:40.295Z"
   },
   {
    "duration": 831,
    "start_time": "2022-03-24T18:25:40.310Z"
   },
   {
    "duration": 12,
    "start_time": "2022-03-24T18:25:41.142Z"
   },
   {
    "duration": 5,
    "start_time": "2022-03-24T18:25:41.156Z"
   },
   {
    "duration": 12,
    "start_time": "2022-03-24T18:25:41.164Z"
   },
   {
    "duration": 10,
    "start_time": "2022-03-24T18:25:41.178Z"
   },
   {
    "duration": 21,
    "start_time": "2022-03-24T18:25:41.189Z"
   },
   {
    "duration": 24,
    "start_time": "2022-03-24T18:31:56.978Z"
   },
   {
    "duration": 79,
    "start_time": "2022-03-24T18:48:32.985Z"
   },
   {
    "duration": 89,
    "start_time": "2022-03-24T18:54:19.606Z"
   },
   {
    "duration": 110,
    "start_time": "2022-03-24T18:56:11.399Z"
   },
   {
    "duration": 9,
    "start_time": "2022-03-24T18:56:39.273Z"
   },
   {
    "duration": 10,
    "start_time": "2022-03-24T18:58:00.411Z"
   },
   {
    "duration": 92,
    "start_time": "2022-03-24T19:00:14.411Z"
   },
   {
    "duration": 81,
    "start_time": "2022-03-24T19:07:29.101Z"
   },
   {
    "duration": 88,
    "start_time": "2022-03-24T19:07:41.695Z"
   },
   {
    "duration": 99,
    "start_time": "2022-03-24T19:08:09.106Z"
   },
   {
    "duration": 1239,
    "start_time": "2022-03-24T19:29:55.893Z"
   },
   {
    "duration": 11,
    "start_time": "2022-03-24T19:31:06.739Z"
   },
   {
    "duration": 11,
    "start_time": "2022-03-24T19:31:41.554Z"
   },
   {
    "duration": 1182,
    "start_time": "2022-03-24T19:32:33.226Z"
   },
   {
    "duration": 10,
    "start_time": "2022-03-24T19:32:34.493Z"
   },
   {
    "duration": 1169,
    "start_time": "2022-03-24T19:47:42.536Z"
   },
   {
    "duration": 12,
    "start_time": "2022-03-24T19:47:44.740Z"
   },
   {
    "duration": 1173,
    "start_time": "2022-03-24T20:13:28.827Z"
   },
   {
    "duration": 11,
    "start_time": "2022-03-24T20:13:30.002Z"
   },
   {
    "duration": 1189,
    "start_time": "2022-03-24T20:15:12.950Z"
   },
   {
    "duration": 26,
    "start_time": "2022-03-24T20:15:14.141Z"
   },
   {
    "duration": 83,
    "start_time": "2022-03-24T20:15:14.168Z"
   },
   {
    "duration": 546,
    "start_time": "2022-03-24T20:15:14.253Z"
   },
   {
    "duration": 36,
    "start_time": "2022-03-24T20:15:14.801Z"
   },
   {
    "duration": 522,
    "start_time": "2022-03-24T20:15:14.839Z"
   },
   {
    "duration": 127,
    "start_time": "2022-03-24T20:15:15.363Z"
   },
   {
    "duration": 64,
    "start_time": "2022-03-24T20:15:15.491Z"
   },
   {
    "duration": 213,
    "start_time": "2022-03-24T20:15:15.556Z"
   },
   {
    "duration": 56,
    "start_time": "2022-03-24T20:15:15.771Z"
   },
   {
    "duration": 6,
    "start_time": "2022-03-24T20:15:15.829Z"
   },
   {
    "duration": 41,
    "start_time": "2022-03-24T20:15:15.837Z"
   },
   {
    "duration": 37,
    "start_time": "2022-03-24T20:15:15.880Z"
   },
   {
    "duration": 11,
    "start_time": "2022-03-24T20:15:15.919Z"
   },
   {
    "duration": 32,
    "start_time": "2022-03-24T20:15:15.931Z"
   },
   {
    "duration": 13,
    "start_time": "2022-03-24T20:15:15.965Z"
   },
   {
    "duration": 10,
    "start_time": "2022-03-24T20:15:16.009Z"
   },
   {
    "duration": 11,
    "start_time": "2022-03-24T20:15:16.021Z"
   },
   {
    "duration": 53,
    "start_time": "2022-03-24T20:15:16.033Z"
   },
   {
    "duration": 45,
    "start_time": "2022-03-24T20:15:16.087Z"
   },
   {
    "duration": 38,
    "start_time": "2022-03-24T20:15:16.134Z"
   },
   {
    "duration": 45,
    "start_time": "2022-03-24T20:15:16.173Z"
   },
   {
    "duration": 16,
    "start_time": "2022-03-24T20:15:16.219Z"
   },
   {
    "duration": 18,
    "start_time": "2022-03-24T20:15:16.237Z"
   },
   {
    "duration": 73,
    "start_time": "2022-03-24T20:15:16.256Z"
   },
   {
    "duration": 10,
    "start_time": "2022-03-24T20:15:16.331Z"
   },
   {
    "duration": 11,
    "start_time": "2022-03-24T20:15:16.342Z"
   },
   {
    "duration": 21,
    "start_time": "2022-03-24T20:15:16.356Z"
   },
   {
    "duration": 113,
    "start_time": "2022-03-24T20:15:16.378Z"
   },
   {
    "duration": 1108,
    "start_time": "2022-03-24T20:15:16.492Z"
   },
   {
    "duration": 14,
    "start_time": "2022-03-24T20:15:17.602Z"
   },
   {
    "duration": 9,
    "start_time": "2022-03-24T20:15:17.618Z"
   },
   {
    "duration": 24,
    "start_time": "2022-03-24T20:15:17.628Z"
   },
   {
    "duration": 317,
    "start_time": "2022-03-24T20:15:17.654Z"
   },
   {
    "duration": 85,
    "start_time": "2022-03-24T20:15:17.973Z"
   },
   {
    "duration": 1263,
    "start_time": "2022-03-24T20:15:18.061Z"
   },
   {
    "duration": 13,
    "start_time": "2022-03-24T20:15:19.326Z"
   },
   {
    "duration": 7,
    "start_time": "2022-03-24T20:15:19.341Z"
   },
   {
    "duration": 836,
    "start_time": "2022-03-24T20:15:19.349Z"
   },
   {
    "duration": 14,
    "start_time": "2022-03-24T20:15:20.187Z"
   },
   {
    "duration": 7,
    "start_time": "2022-03-24T20:15:20.202Z"
   },
   {
    "duration": 11,
    "start_time": "2022-03-24T20:15:20.211Z"
   },
   {
    "duration": 11,
    "start_time": "2022-03-24T20:15:20.223Z"
   },
   {
    "duration": 7,
    "start_time": "2022-03-24T20:15:20.235Z"
   },
   {
    "duration": 1169,
    "start_time": "2022-03-24T21:19:48.148Z"
   },
   {
    "duration": 27,
    "start_time": "2022-03-24T21:19:49.319Z"
   },
   {
    "duration": 84,
    "start_time": "2022-03-24T21:19:49.347Z"
   },
   {
    "duration": 531,
    "start_time": "2022-03-24T21:19:49.433Z"
   },
   {
    "duration": 33,
    "start_time": "2022-03-24T21:19:49.966Z"
   },
   {
    "duration": 516,
    "start_time": "2022-03-24T21:19:50.009Z"
   },
   {
    "duration": 127,
    "start_time": "2022-03-24T21:19:50.526Z"
   },
   {
    "duration": 65,
    "start_time": "2022-03-24T21:19:50.655Z"
   },
   {
    "duration": 217,
    "start_time": "2022-03-24T21:19:50.721Z"
   },
   {
    "duration": 51,
    "start_time": "2022-03-24T21:19:50.941Z"
   },
   {
    "duration": 18,
    "start_time": "2022-03-24T21:19:50.994Z"
   },
   {
    "duration": 37,
    "start_time": "2022-03-24T21:19:51.014Z"
   },
   {
    "duration": 13,
    "start_time": "2022-03-24T21:19:51.053Z"
   },
   {
    "duration": 10,
    "start_time": "2022-03-24T21:19:51.068Z"
   },
   {
    "duration": 60,
    "start_time": "2022-03-24T21:19:51.079Z"
   },
   {
    "duration": 12,
    "start_time": "2022-03-24T21:19:51.140Z"
   },
   {
    "duration": 9,
    "start_time": "2022-03-24T21:19:51.154Z"
   },
   {
    "duration": 14,
    "start_time": "2022-03-24T21:19:51.164Z"
   },
   {
    "duration": 81,
    "start_time": "2022-03-24T21:19:51.179Z"
   },
   {
    "duration": 27,
    "start_time": "2022-03-24T21:19:51.262Z"
   },
   {
    "duration": 51,
    "start_time": "2022-03-24T21:19:51.291Z"
   },
   {
    "duration": 21,
    "start_time": "2022-03-24T21:19:51.344Z"
   },
   {
    "duration": 15,
    "start_time": "2022-03-24T21:19:51.366Z"
   },
   {
    "duration": 40,
    "start_time": "2022-03-24T21:19:51.383Z"
   },
   {
    "duration": 48,
    "start_time": "2022-03-24T21:19:51.425Z"
   },
   {
    "duration": 35,
    "start_time": "2022-03-24T21:19:51.475Z"
   },
   {
    "duration": 13,
    "start_time": "2022-03-24T21:19:51.512Z"
   },
   {
    "duration": 22,
    "start_time": "2022-03-24T21:19:51.529Z"
   },
   {
    "duration": 8,
    "start_time": "2022-03-24T21:19:51.554Z"
   },
   {
    "duration": 127,
    "start_time": "2022-03-24T21:19:51.564Z"
   },
   {
    "duration": 1088,
    "start_time": "2022-03-24T21:19:51.693Z"
   },
   {
    "duration": 10,
    "start_time": "2022-03-24T21:19:52.782Z"
   },
   {
    "duration": 33,
    "start_time": "2022-03-24T21:19:52.793Z"
   },
   {
    "duration": 307,
    "start_time": "2022-03-24T21:19:52.828Z"
   },
   {
    "duration": 90,
    "start_time": "2022-03-24T21:19:53.137Z"
   },
   {
    "duration": 1259,
    "start_time": "2022-03-24T21:19:53.229Z"
   },
   {
    "duration": 23,
    "start_time": "2022-03-24T21:19:54.490Z"
   },
   {
    "duration": 5,
    "start_time": "2022-03-24T21:19:54.514Z"
   },
   {
    "duration": 872,
    "start_time": "2022-03-24T21:19:54.521Z"
   },
   {
    "duration": 13,
    "start_time": "2022-03-24T21:19:55.394Z"
   },
   {
    "duration": 6,
    "start_time": "2022-03-24T21:19:55.409Z"
   },
   {
    "duration": 10,
    "start_time": "2022-03-24T21:19:55.416Z"
   },
   {
    "duration": 9,
    "start_time": "2022-03-24T21:19:55.427Z"
   },
   {
    "duration": 7,
    "start_time": "2022-03-24T21:19:55.437Z"
   },
   {
    "duration": 1293,
    "start_time": "2022-03-24T21:30:12.998Z"
   },
   {
    "duration": 32,
    "start_time": "2022-03-24T21:30:14.293Z"
   },
   {
    "duration": 95,
    "start_time": "2022-03-24T21:30:14.327Z"
   },
   {
    "duration": 576,
    "start_time": "2022-03-24T21:30:14.424Z"
   },
   {
    "duration": 42,
    "start_time": "2022-03-24T21:30:15.002Z"
   },
   {
    "duration": 544,
    "start_time": "2022-03-24T21:30:15.046Z"
   },
   {
    "duration": 140,
    "start_time": "2022-03-24T21:30:15.592Z"
   },
   {
    "duration": 75,
    "start_time": "2022-03-24T21:30:15.734Z"
   },
   {
    "duration": 235,
    "start_time": "2022-03-24T21:30:15.810Z"
   },
   {
    "duration": 67,
    "start_time": "2022-03-24T21:30:16.048Z"
   },
   {
    "duration": 7,
    "start_time": "2022-03-24T21:30:16.116Z"
   },
   {
    "duration": 40,
    "start_time": "2022-03-24T21:30:16.125Z"
   },
   {
    "duration": 15,
    "start_time": "2022-03-24T21:30:16.167Z"
   },
   {
    "duration": 35,
    "start_time": "2022-03-24T21:30:16.183Z"
   },
   {
    "duration": 36,
    "start_time": "2022-03-24T21:30:16.220Z"
   },
   {
    "duration": 11,
    "start_time": "2022-03-24T21:30:16.258Z"
   },
   {
    "duration": 41,
    "start_time": "2022-03-24T21:30:16.271Z"
   },
   {
    "duration": 9,
    "start_time": "2022-03-24T21:30:16.314Z"
   },
   {
    "duration": 61,
    "start_time": "2022-03-24T21:30:16.325Z"
   },
   {
    "duration": 47,
    "start_time": "2022-03-24T21:30:16.388Z"
   },
   {
    "duration": 39,
    "start_time": "2022-03-24T21:30:16.437Z"
   },
   {
    "duration": 40,
    "start_time": "2022-03-24T21:30:16.478Z"
   },
   {
    "duration": 17,
    "start_time": "2022-03-24T21:30:16.520Z"
   },
   {
    "duration": 20,
    "start_time": "2022-03-24T21:30:16.539Z"
   },
   {
    "duration": 81,
    "start_time": "2022-03-24T21:30:16.560Z"
   },
   {
    "duration": 11,
    "start_time": "2022-03-24T21:30:16.642Z"
   },
   {
    "duration": 12,
    "start_time": "2022-03-24T21:30:16.655Z"
   },
   {
    "duration": 51,
    "start_time": "2022-03-24T21:30:16.671Z"
   },
   {
    "duration": 8,
    "start_time": "2022-03-24T21:30:16.724Z"
   },
   {
    "duration": 111,
    "start_time": "2022-03-24T21:30:16.734Z"
   },
   {
    "duration": 1277,
    "start_time": "2022-03-24T21:30:16.847Z"
   },
   {
    "duration": 9,
    "start_time": "2022-03-24T21:30:18.126Z"
   },
   {
    "duration": 26,
    "start_time": "2022-03-24T21:30:18.136Z"
   },
   {
    "duration": 334,
    "start_time": "2022-03-24T21:30:18.164Z"
   },
   {
    "duration": 85,
    "start_time": "2022-03-24T21:30:18.500Z"
   },
   {
    "duration": 1376,
    "start_time": "2022-03-24T21:30:18.587Z"
   },
   {
    "duration": 13,
    "start_time": "2022-03-24T21:30:19.965Z"
   },
   {
    "duration": 5,
    "start_time": "2022-03-24T21:30:19.979Z"
   },
   {
    "duration": 848,
    "start_time": "2022-03-24T21:30:19.986Z"
   },
   {
    "duration": 12,
    "start_time": "2022-03-24T21:30:20.836Z"
   },
   {
    "duration": 6,
    "start_time": "2022-03-24T21:30:20.850Z"
   },
   {
    "duration": 11,
    "start_time": "2022-03-24T21:30:20.857Z"
   },
   {
    "duration": 8,
    "start_time": "2022-03-24T21:30:20.870Z"
   },
   {
    "duration": 7,
    "start_time": "2022-03-24T21:30:20.880Z"
   },
   {
    "duration": 2057,
    "start_time": "2022-03-25T09:17:44.382Z"
   },
   {
    "duration": 50,
    "start_time": "2022-03-25T09:17:46.444Z"
   },
   {
    "duration": 113,
    "start_time": "2022-03-25T09:17:46.497Z"
   },
   {
    "duration": 689,
    "start_time": "2022-03-25T09:17:46.613Z"
   },
   {
    "duration": 56,
    "start_time": "2022-03-25T09:17:47.304Z"
   },
   {
    "duration": 732,
    "start_time": "2022-03-25T09:17:47.363Z"
   },
   {
    "duration": 201,
    "start_time": "2022-03-25T09:17:48.097Z"
   },
   {
    "duration": 89,
    "start_time": "2022-03-25T09:17:48.300Z"
   },
   {
    "duration": 316,
    "start_time": "2022-03-25T09:17:48.391Z"
   },
   {
    "duration": 87,
    "start_time": "2022-03-25T09:17:48.711Z"
   },
   {
    "duration": 10,
    "start_time": "2022-03-25T09:17:48.800Z"
   },
   {
    "duration": 79,
    "start_time": "2022-03-25T09:17:48.812Z"
   },
   {
    "duration": 23,
    "start_time": "2022-03-25T09:17:48.893Z"
   },
   {
    "duration": 38,
    "start_time": "2022-03-25T09:17:48.919Z"
   },
   {
    "duration": 48,
    "start_time": "2022-03-25T09:17:48.960Z"
   },
   {
    "duration": 46,
    "start_time": "2022-03-25T09:17:49.010Z"
   },
   {
    "duration": 14,
    "start_time": "2022-03-25T09:17:49.058Z"
   },
   {
    "duration": 16,
    "start_time": "2022-03-25T09:17:49.074Z"
   },
   {
    "duration": 112,
    "start_time": "2022-03-25T09:17:49.092Z"
   },
   {
    "duration": 54,
    "start_time": "2022-03-25T09:17:49.206Z"
   },
   {
    "duration": 57,
    "start_time": "2022-03-25T09:17:49.262Z"
   },
   {
    "duration": 32,
    "start_time": "2022-03-25T09:17:49.342Z"
   },
   {
    "duration": 25,
    "start_time": "2022-03-25T09:17:49.376Z"
   },
   {
    "duration": 52,
    "start_time": "2022-03-25T09:17:49.403Z"
   },
   {
    "duration": 88,
    "start_time": "2022-03-25T09:17:49.457Z"
   },
   {
    "duration": 16,
    "start_time": "2022-03-25T09:17:49.547Z"
   },
   {
    "duration": 16,
    "start_time": "2022-03-25T09:17:49.565Z"
   },
   {
    "duration": 63,
    "start_time": "2022-03-25T09:17:49.586Z"
   },
   {
    "duration": 11,
    "start_time": "2022-03-25T09:17:49.651Z"
   },
   {
    "duration": 141,
    "start_time": "2022-03-25T09:17:49.664Z"
   },
   {
    "duration": 1574,
    "start_time": "2022-03-25T09:17:49.807Z"
   },
   {
    "duration": 13,
    "start_time": "2022-03-25T09:17:51.384Z"
   },
   {
    "duration": 54,
    "start_time": "2022-03-25T09:17:51.399Z"
   },
   {
    "duration": 497,
    "start_time": "2022-03-25T09:17:51.455Z"
   },
   {
    "duration": 119,
    "start_time": "2022-03-25T09:17:51.954Z"
   },
   {
    "duration": 1762,
    "start_time": "2022-03-25T09:17:52.075Z"
   },
   {
    "duration": 21,
    "start_time": "2022-03-25T09:17:53.839Z"
   },
   {
    "duration": 12,
    "start_time": "2022-03-25T09:17:53.862Z"
   },
   {
    "duration": 1323,
    "start_time": "2022-03-25T09:17:53.876Z"
   },
   {
    "duration": 20,
    "start_time": "2022-03-25T09:17:55.201Z"
   },
   {
    "duration": 8,
    "start_time": "2022-03-25T09:17:55.242Z"
   },
   {
    "duration": 14,
    "start_time": "2022-03-25T09:17:55.252Z"
   },
   {
    "duration": 9,
    "start_time": "2022-03-25T09:17:55.268Z"
   },
   {
    "duration": 10,
    "start_time": "2022-03-25T09:17:55.279Z"
   },
   {
    "duration": 51,
    "start_time": "2022-03-25T12:16:24.413Z"
   },
   {
    "duration": 1547,
    "start_time": "2022-03-25T12:16:36.481Z"
   },
   {
    "duration": 36,
    "start_time": "2022-03-25T12:16:38.030Z"
   },
   {
    "duration": 95,
    "start_time": "2022-03-25T12:16:38.068Z"
   },
   {
    "duration": 765,
    "start_time": "2022-03-25T12:16:38.165Z"
   },
   {
    "duration": 45,
    "start_time": "2022-03-25T12:16:38.933Z"
   },
   {
    "duration": 557,
    "start_time": "2022-03-25T12:16:38.980Z"
   },
   {
    "duration": 129,
    "start_time": "2022-03-25T12:16:39.539Z"
   },
   {
    "duration": 108,
    "start_time": "2022-03-25T12:16:39.669Z"
   },
   {
    "duration": 255,
    "start_time": "2022-03-25T12:16:39.779Z"
   },
   {
    "duration": 62,
    "start_time": "2022-03-25T12:16:40.036Z"
   },
   {
    "duration": 7,
    "start_time": "2022-03-25T12:16:40.100Z"
   },
   {
    "duration": 68,
    "start_time": "2022-03-25T12:16:40.109Z"
   },
   {
    "duration": 16,
    "start_time": "2022-03-25T12:16:40.179Z"
   },
   {
    "duration": 39,
    "start_time": "2022-03-25T12:16:40.199Z"
   },
   {
    "duration": 39,
    "start_time": "2022-03-25T12:16:40.240Z"
   },
   {
    "duration": 13,
    "start_time": "2022-03-25T12:16:40.281Z"
   },
   {
    "duration": 37,
    "start_time": "2022-03-25T12:16:40.296Z"
   },
   {
    "duration": 11,
    "start_time": "2022-03-25T12:16:40.335Z"
   },
   {
    "duration": 61,
    "start_time": "2022-03-25T12:16:40.348Z"
   },
   {
    "duration": 32,
    "start_time": "2022-03-25T12:16:40.431Z"
   },
   {
    "duration": 43,
    "start_time": "2022-03-25T12:16:40.465Z"
   },
   {
    "duration": 42,
    "start_time": "2022-03-25T12:16:40.511Z"
   },
   {
    "duration": 20,
    "start_time": "2022-03-25T12:16:40.555Z"
   },
   {
    "duration": 21,
    "start_time": "2022-03-25T12:16:40.577Z"
   },
   {
    "duration": 71,
    "start_time": "2022-03-25T12:16:40.632Z"
   },
   {
    "duration": 34,
    "start_time": "2022-03-25T12:16:40.704Z"
   },
   {
    "duration": 13,
    "start_time": "2022-03-25T12:16:40.739Z"
   },
   {
    "duration": 37,
    "start_time": "2022-03-25T12:16:40.754Z"
   },
   {
    "duration": 11,
    "start_time": "2022-03-25T12:16:40.793Z"
   },
   {
    "duration": 121,
    "start_time": "2022-03-25T12:16:40.806Z"
   },
   {
    "duration": 1420,
    "start_time": "2022-03-25T12:16:40.929Z"
   },
   {
    "duration": 10,
    "start_time": "2022-03-25T12:16:42.351Z"
   },
   {
    "duration": 66,
    "start_time": "2022-03-25T12:16:42.363Z"
   },
   {
    "duration": 363,
    "start_time": "2022-03-25T12:16:42.431Z"
   },
   {
    "duration": 103,
    "start_time": "2022-03-25T12:16:42.797Z"
   },
   {
    "duration": 1658,
    "start_time": "2022-03-25T12:16:42.903Z"
   },
   {
    "duration": 16,
    "start_time": "2022-03-25T12:16:44.563Z"
   },
   {
    "duration": 8,
    "start_time": "2022-03-25T12:16:44.581Z"
   },
   {
    "duration": 1077,
    "start_time": "2022-03-25T12:16:44.591Z"
   },
   {
    "duration": 15,
    "start_time": "2022-03-25T12:16:45.669Z"
   },
   {
    "duration": 6,
    "start_time": "2022-03-25T12:16:45.688Z"
   },
   {
    "duration": 28,
    "start_time": "2022-03-25T12:16:45.696Z"
   },
   {
    "duration": 31,
    "start_time": "2022-03-25T12:16:45.726Z"
   },
   {
    "duration": 11,
    "start_time": "2022-03-25T12:16:45.758Z"
   },
   {
    "duration": 10,
    "start_time": "2022-03-25T12:16:45.771Z"
   },
   {
    "duration": 5,
    "start_time": "2022-03-25T12:20:58.877Z"
   },
   {
    "duration": 17,
    "start_time": "2022-03-25T12:21:23.051Z"
   },
   {
    "duration": 125,
    "start_time": "2022-03-25T12:25:52.066Z"
   },
   {
    "duration": 22,
    "start_time": "2022-03-25T12:25:59.463Z"
   },
   {
    "duration": 35,
    "start_time": "2022-03-25T12:36:50.861Z"
   },
   {
    "duration": 12,
    "start_time": "2022-03-25T13:34:16.224Z"
   },
   {
    "duration": 10,
    "start_time": "2022-03-25T13:36:11.486Z"
   },
   {
    "duration": 5,
    "start_time": "2022-03-25T13:36:24.243Z"
   },
   {
    "duration": 17,
    "start_time": "2022-03-25T13:39:41.573Z"
   },
   {
    "duration": 12,
    "start_time": "2022-03-25T13:41:41.636Z"
   },
   {
    "duration": 13,
    "start_time": "2022-03-25T13:41:52.092Z"
   },
   {
    "duration": 8,
    "start_time": "2022-03-25T13:44:45.647Z"
   },
   {
    "duration": 8,
    "start_time": "2022-03-25T13:45:49.865Z"
   },
   {
    "duration": 16,
    "start_time": "2022-03-25T13:50:58.896Z"
   },
   {
    "duration": 16,
    "start_time": "2022-03-25T13:51:27.414Z"
   },
   {
    "duration": 10,
    "start_time": "2022-03-25T13:58:52.654Z"
   },
   {
    "duration": 3278,
    "start_time": "2022-03-25T13:59:09.510Z"
   },
   {
    "duration": 8,
    "start_time": "2022-03-25T14:00:26.301Z"
   },
   {
    "duration": 12,
    "start_time": "2022-03-25T14:00:47.922Z"
   },
   {
    "duration": 8,
    "start_time": "2022-03-25T14:01:24.021Z"
   },
   {
    "duration": 11,
    "start_time": "2022-03-25T14:01:36.297Z"
   },
   {
    "duration": 9,
    "start_time": "2022-03-25T14:01:59.407Z"
   },
   {
    "duration": 9,
    "start_time": "2022-03-25T14:02:11.934Z"
   },
   {
    "duration": 8,
    "start_time": "2022-03-25T14:02:18.199Z"
   },
   {
    "duration": 22,
    "start_time": "2022-03-25T14:03:01.870Z"
   },
   {
    "duration": 25,
    "start_time": "2022-03-25T14:03:15.943Z"
   },
   {
    "duration": 34,
    "start_time": "2022-03-25T14:03:52.874Z"
   },
   {
    "duration": 18,
    "start_time": "2022-03-25T14:04:25.017Z"
   },
   {
    "duration": 10,
    "start_time": "2022-03-25T14:05:14.178Z"
   },
   {
    "duration": 12,
    "start_time": "2022-03-25T14:08:01.523Z"
   },
   {
    "duration": 10,
    "start_time": "2022-03-25T14:09:01.410Z"
   },
   {
    "duration": 12,
    "start_time": "2022-03-25T14:10:16.133Z"
   },
   {
    "duration": 11,
    "start_time": "2022-03-25T14:12:19.455Z"
   },
   {
    "duration": 29,
    "start_time": "2022-03-25T14:15:00.993Z"
   },
   {
    "duration": 32,
    "start_time": "2022-03-25T14:18:00.150Z"
   },
   {
    "duration": 28,
    "start_time": "2022-03-25T14:18:19.087Z"
   },
   {
    "duration": 12,
    "start_time": "2022-03-25T14:22:55.982Z"
   },
   {
    "duration": 10,
    "start_time": "2022-03-25T14:25:36.027Z"
   },
   {
    "duration": 119,
    "start_time": "2022-03-25T14:26:52.220Z"
   },
   {
    "duration": 190,
    "start_time": "2022-03-25T14:27:58.154Z"
   },
   {
    "duration": 240,
    "start_time": "2022-03-25T14:28:07.681Z"
   },
   {
    "duration": 152,
    "start_time": "2022-03-25T14:28:36.026Z"
   },
   {
    "duration": 151,
    "start_time": "2022-03-25T14:31:11.482Z"
   },
   {
    "duration": 159,
    "start_time": "2022-03-25T14:31:24.824Z"
   },
   {
    "duration": 28,
    "start_time": "2022-03-25T14:34:03.998Z"
   },
   {
    "duration": 12,
    "start_time": "2022-03-25T14:34:05.972Z"
   },
   {
    "duration": 171,
    "start_time": "2022-03-25T14:34:08.630Z"
   },
   {
    "duration": 187,
    "start_time": "2022-03-25T14:35:12.171Z"
   },
   {
    "duration": 171,
    "start_time": "2022-03-25T14:36:54.741Z"
   },
   {
    "duration": 178,
    "start_time": "2022-03-25T14:37:38.967Z"
   },
   {
    "duration": 177,
    "start_time": "2022-03-25T14:37:58.306Z"
   },
   {
    "duration": 177,
    "start_time": "2022-03-25T14:38:44.380Z"
   },
   {
    "duration": 181,
    "start_time": "2022-03-25T14:39:10.246Z"
   },
   {
    "duration": 1386,
    "start_time": "2022-03-25T14:45:34.676Z"
   },
   {
    "duration": 34,
    "start_time": "2022-03-25T14:45:36.064Z"
   },
   {
    "duration": 100,
    "start_time": "2022-03-25T14:45:36.099Z"
   },
   {
    "duration": 1525,
    "start_time": "2022-03-25T14:45:36.202Z"
   },
   {
    "duration": 44,
    "start_time": "2022-03-25T14:45:37.728Z"
   },
   {
    "duration": 593,
    "start_time": "2022-03-25T14:45:37.774Z"
   },
   {
    "duration": 152,
    "start_time": "2022-03-25T14:45:38.369Z"
   },
   {
    "duration": 68,
    "start_time": "2022-03-25T14:45:38.523Z"
   },
   {
    "duration": 289,
    "start_time": "2022-03-25T14:45:38.594Z"
   },
   {
    "duration": 74,
    "start_time": "2022-03-25T14:45:38.887Z"
   },
   {
    "duration": 9,
    "start_time": "2022-03-25T14:45:38.963Z"
   },
   {
    "duration": 69,
    "start_time": "2022-03-25T14:45:38.974Z"
   },
   {
    "duration": 18,
    "start_time": "2022-03-25T14:45:39.045Z"
   },
   {
    "duration": 32,
    "start_time": "2022-03-25T14:45:39.065Z"
   },
   {
    "duration": 55,
    "start_time": "2022-03-25T14:45:39.100Z"
   },
   {
    "duration": 16,
    "start_time": "2022-03-25T14:45:39.157Z"
   },
   {
    "duration": 27,
    "start_time": "2022-03-25T14:45:39.175Z"
   },
   {
    "duration": 44,
    "start_time": "2022-03-25T14:45:39.204Z"
   },
   {
    "duration": 101,
    "start_time": "2022-03-25T14:45:39.251Z"
   },
   {
    "duration": 35,
    "start_time": "2022-03-25T14:45:39.354Z"
   },
   {
    "duration": 56,
    "start_time": "2022-03-25T14:45:39.391Z"
   },
   {
    "duration": 25,
    "start_time": "2022-03-25T14:45:39.449Z"
   },
   {
    "duration": 22,
    "start_time": "2022-03-25T14:45:39.475Z"
   },
   {
    "duration": 46,
    "start_time": "2022-03-25T14:45:39.499Z"
   },
   {
    "duration": 77,
    "start_time": "2022-03-25T14:45:39.546Z"
   },
   {
    "duration": 12,
    "start_time": "2022-03-25T14:45:39.624Z"
   },
   {
    "duration": 13,
    "start_time": "2022-03-25T14:45:39.638Z"
   },
   {
    "duration": 29,
    "start_time": "2022-03-25T14:45:39.655Z"
   },
   {
    "duration": 137,
    "start_time": "2022-03-25T14:45:39.686Z"
   },
   {
    "duration": 1575,
    "start_time": "2022-03-25T14:45:39.832Z"
   },
   {
    "duration": 9,
    "start_time": "2022-03-25T14:45:41.409Z"
   },
   {
    "duration": 43,
    "start_time": "2022-03-25T14:45:41.432Z"
   },
   {
    "duration": 349,
    "start_time": "2022-03-25T14:45:41.477Z"
   },
   {
    "duration": 8,
    "start_time": "2022-03-25T14:45:41.828Z"
   },
   {
    "duration": 54,
    "start_time": "2022-03-25T14:45:41.838Z"
   },
   {
    "duration": 20,
    "start_time": "2022-03-25T14:45:41.893Z"
   },
   {
    "duration": 43,
    "start_time": "2022-03-25T14:45:41.914Z"
   },
   {
    "duration": 21,
    "start_time": "2022-03-25T14:45:41.959Z"
   },
   {
    "duration": 208,
    "start_time": "2022-03-25T14:45:41.982Z"
   },
   {
    "duration": 106,
    "start_time": "2022-03-25T14:45:42.191Z"
   },
   {
    "duration": 1966,
    "start_time": "2022-03-25T14:45:42.299Z"
   },
   {
    "duration": 17,
    "start_time": "2022-03-25T14:45:44.267Z"
   },
   {
    "duration": 12,
    "start_time": "2022-03-25T14:45:44.285Z"
   },
   {
    "duration": 977,
    "start_time": "2022-03-25T14:45:44.299Z"
   },
   {
    "duration": 15,
    "start_time": "2022-03-25T14:45:45.278Z"
   },
   {
    "duration": 24,
    "start_time": "2022-03-25T14:45:45.295Z"
   },
   {
    "duration": 28,
    "start_time": "2022-03-25T14:45:45.321Z"
   },
   {
    "duration": 101,
    "start_time": "2022-03-25T14:45:45.352Z"
   },
   {
    "duration": 13,
    "start_time": "2022-03-25T14:45:45.456Z"
   },
   {
    "duration": 11,
    "start_time": "2022-03-25T14:45:45.471Z"
   },
   {
    "duration": 10,
    "start_time": "2022-03-25T14:45:45.484Z"
   },
   {
    "duration": 70,
    "start_time": "2022-03-25T15:18:26.453Z"
   },
   {
    "duration": 2543,
    "start_time": "2022-03-25T15:18:37.518Z"
   },
   {
    "duration": 51,
    "start_time": "2022-03-25T15:18:40.064Z"
   },
   {
    "duration": 159,
    "start_time": "2022-03-25T15:18:40.116Z"
   },
   {
    "duration": 3388,
    "start_time": "2022-03-25T15:18:40.278Z"
   },
   {
    "duration": 94,
    "start_time": "2022-03-25T15:18:43.669Z"
   },
   {
    "duration": 713,
    "start_time": "2022-03-25T15:18:43.766Z"
   },
   {
    "duration": 176,
    "start_time": "2022-03-25T15:18:44.481Z"
   },
   {
    "duration": 82,
    "start_time": "2022-03-25T15:18:44.659Z"
   },
   {
    "duration": 381,
    "start_time": "2022-03-25T15:18:44.743Z"
   },
   {
    "duration": 93,
    "start_time": "2022-03-25T15:18:45.126Z"
   },
   {
    "duration": 9,
    "start_time": "2022-03-25T15:18:45.221Z"
   },
   {
    "duration": 85,
    "start_time": "2022-03-25T15:18:45.232Z"
   },
   {
    "duration": 25,
    "start_time": "2022-03-25T15:18:45.319Z"
   },
   {
    "duration": 45,
    "start_time": "2022-03-25T15:18:45.348Z"
   },
   {
    "duration": 55,
    "start_time": "2022-03-25T15:18:45.395Z"
   },
   {
    "duration": 43,
    "start_time": "2022-03-25T15:18:45.452Z"
   },
   {
    "duration": 19,
    "start_time": "2022-03-25T15:18:45.498Z"
   },
   {
    "duration": 15,
    "start_time": "2022-03-25T15:18:45.520Z"
   },
   {
    "duration": 111,
    "start_time": "2022-03-25T15:18:45.537Z"
   },
   {
    "duration": 59,
    "start_time": "2022-03-25T15:18:45.650Z"
   },
   {
    "duration": 58,
    "start_time": "2022-03-25T15:18:45.711Z"
   },
   {
    "duration": 34,
    "start_time": "2022-03-25T15:18:45.784Z"
   },
   {
    "duration": 28,
    "start_time": "2022-03-25T15:18:45.820Z"
   },
   {
    "duration": 58,
    "start_time": "2022-03-25T15:18:45.851Z"
   },
   {
    "duration": 107,
    "start_time": "2022-03-25T15:18:45.912Z"
   },
   {
    "duration": 16,
    "start_time": "2022-03-25T15:18:46.021Z"
   },
   {
    "duration": 36,
    "start_time": "2022-03-25T15:18:46.039Z"
   },
   {
    "duration": 37,
    "start_time": "2022-03-25T15:18:46.085Z"
   },
   {
    "duration": 169,
    "start_time": "2022-03-25T15:18:46.125Z"
   },
   {
    "duration": 2114,
    "start_time": "2022-03-25T15:18:46.296Z"
   },
   {
    "duration": 13,
    "start_time": "2022-03-25T15:18:48.412Z"
   },
   {
    "duration": 67,
    "start_time": "2022-03-25T15:18:48.427Z"
   },
   {
    "duration": 528,
    "start_time": "2022-03-25T15:18:48.497Z"
   },
   {
    "duration": 11,
    "start_time": "2022-03-25T15:18:49.029Z"
   },
   {
    "duration": 50,
    "start_time": "2022-03-25T15:18:49.042Z"
   },
   {
    "duration": 25,
    "start_time": "2022-03-25T15:18:49.098Z"
   },
   {
    "duration": 63,
    "start_time": "2022-03-25T15:18:49.125Z"
   },
   {
    "duration": 20,
    "start_time": "2022-03-25T15:18:49.192Z"
   },
   {
    "duration": 296,
    "start_time": "2022-03-25T15:18:49.214Z"
   },
   {
    "duration": 131,
    "start_time": "2022-03-25T15:18:49.513Z"
   },
   {
    "duration": 2361,
    "start_time": "2022-03-25T15:18:49.650Z"
   },
   {
    "duration": 24,
    "start_time": "2022-03-25T15:18:52.014Z"
   },
   {
    "duration": 16,
    "start_time": "2022-03-25T15:18:52.041Z"
   },
   {
    "duration": 1376,
    "start_time": "2022-03-25T15:18:52.060Z"
   },
   {
    "duration": 15,
    "start_time": "2022-03-25T15:18:53.439Z"
   },
   {
    "duration": 30,
    "start_time": "2022-03-25T15:18:53.456Z"
   },
   {
    "duration": 30,
    "start_time": "2022-03-25T15:18:53.489Z"
   },
   {
    "duration": 142,
    "start_time": "2022-03-25T15:18:53.522Z"
   },
   {
    "duration": 166,
    "start_time": "2022-03-25T15:18:53.667Z"
   },
   {
    "duration": 0,
    "start_time": "2022-03-25T15:18:53.835Z"
   },
   {
    "duration": 0,
    "start_time": "2022-03-25T15:18:53.837Z"
   },
   {
    "duration": 2029,
    "start_time": "2022-03-25T15:22:44.868Z"
   },
   {
    "duration": 16,
    "start_time": "2022-03-25T15:23:23.799Z"
   },
   {
    "duration": 27,
    "start_time": "2022-03-25T15:24:08.561Z"
   },
   {
    "duration": 11,
    "start_time": "2022-03-25T15:25:35.856Z"
   },
   {
    "duration": 14,
    "start_time": "2022-03-25T15:26:21.337Z"
   },
   {
    "duration": 11,
    "start_time": "2022-03-25T15:26:53.978Z"
   },
   {
    "duration": 1746,
    "start_time": "2022-03-25T15:37:46.177Z"
   },
   {
    "duration": 39,
    "start_time": "2022-03-25T15:37:47.926Z"
   },
   {
    "duration": 142,
    "start_time": "2022-03-25T15:37:47.967Z"
   },
   {
    "duration": 816,
    "start_time": "2022-03-25T15:37:48.114Z"
   },
   {
    "duration": 64,
    "start_time": "2022-03-25T15:37:48.933Z"
   },
   {
    "duration": 1197,
    "start_time": "2022-03-25T15:37:48.999Z"
   },
   {
    "duration": 331,
    "start_time": "2022-03-25T15:37:50.199Z"
   },
   {
    "duration": 99,
    "start_time": "2022-03-25T15:37:50.533Z"
   },
   {
    "duration": 389,
    "start_time": "2022-03-25T15:37:50.636Z"
   },
   {
    "duration": 142,
    "start_time": "2022-03-25T15:37:51.029Z"
   },
   {
    "duration": 16,
    "start_time": "2022-03-25T15:37:51.174Z"
   },
   {
    "duration": 123,
    "start_time": "2022-03-25T15:37:51.193Z"
   },
   {
    "duration": 29,
    "start_time": "2022-03-25T15:37:51.320Z"
   },
   {
    "duration": 45,
    "start_time": "2022-03-25T15:37:51.352Z"
   },
   {
    "duration": 106,
    "start_time": "2022-03-25T15:37:51.400Z"
   },
   {
    "duration": 27,
    "start_time": "2022-03-25T15:37:51.509Z"
   },
   {
    "duration": 47,
    "start_time": "2022-03-25T15:37:51.539Z"
   },
   {
    "duration": 22,
    "start_time": "2022-03-25T15:37:51.588Z"
   },
   {
    "duration": 114,
    "start_time": "2022-03-25T15:37:51.613Z"
   },
   {
    "duration": 60,
    "start_time": "2022-03-25T15:37:51.730Z"
   },
   {
    "duration": 97,
    "start_time": "2022-03-25T15:37:51.792Z"
   },
   {
    "duration": 36,
    "start_time": "2022-03-25T15:37:51.892Z"
   },
   {
    "duration": 58,
    "start_time": "2022-03-25T15:37:51.931Z"
   },
   {
    "duration": 28,
    "start_time": "2022-03-25T15:37:51.992Z"
   },
   {
    "duration": 105,
    "start_time": "2022-03-25T15:37:52.023Z"
   },
   {
    "duration": 20,
    "start_time": "2022-03-25T15:37:52.131Z"
   },
   {
    "duration": 42,
    "start_time": "2022-03-25T15:37:52.154Z"
   },
   {
    "duration": 45,
    "start_time": "2022-03-25T15:37:52.202Z"
   },
   {
    "duration": 236,
    "start_time": "2022-03-25T15:37:52.250Z"
   },
   {
    "duration": 2830,
    "start_time": "2022-03-25T15:37:52.489Z"
   },
   {
    "duration": 16,
    "start_time": "2022-03-25T15:37:55.322Z"
   },
   {
    "duration": 85,
    "start_time": "2022-03-25T15:37:55.340Z"
   },
   {
    "duration": 759,
    "start_time": "2022-03-25T15:37:55.428Z"
   },
   {
    "duration": 13,
    "start_time": "2022-03-25T15:37:56.190Z"
   },
   {
    "duration": 32,
    "start_time": "2022-03-25T15:37:56.205Z"
   },
   {
    "duration": 13,
    "start_time": "2022-03-25T15:37:56.239Z"
   },
   {
    "duration": 61,
    "start_time": "2022-03-25T15:37:56.254Z"
   },
   {
    "duration": 17,
    "start_time": "2022-03-25T15:37:56.317Z"
   },
   {
    "duration": 292,
    "start_time": "2022-03-25T15:37:56.336Z"
   },
   {
    "duration": 126,
    "start_time": "2022-03-25T15:37:56.630Z"
   },
   {
    "duration": 2163,
    "start_time": "2022-03-25T15:37:56.758Z"
   },
   {
    "duration": 22,
    "start_time": "2022-03-25T15:37:58.923Z"
   },
   {
    "duration": 7,
    "start_time": "2022-03-25T15:37:58.948Z"
   },
   {
    "duration": 1307,
    "start_time": "2022-03-25T15:37:58.958Z"
   },
   {
    "duration": 28,
    "start_time": "2022-03-25T15:38:00.267Z"
   },
   {
    "duration": 103,
    "start_time": "2022-03-25T15:38:00.298Z"
   },
   {
    "duration": 41,
    "start_time": "2022-03-25T15:38:00.404Z"
   },
   {
    "duration": 25,
    "start_time": "2022-03-25T15:38:00.447Z"
   },
   {
    "duration": 24,
    "start_time": "2022-03-25T15:38:00.474Z"
   },
   {
    "duration": 1537,
    "start_time": "2022-03-25T17:25:11.054Z"
   },
   {
    "duration": 47,
    "start_time": "2022-03-25T17:25:12.593Z"
   },
   {
    "duration": 102,
    "start_time": "2022-03-25T17:25:12.642Z"
   },
   {
    "duration": 646,
    "start_time": "2022-03-25T17:25:12.747Z"
   },
   {
    "duration": 54,
    "start_time": "2022-03-25T17:25:13.396Z"
   },
   {
    "duration": 595,
    "start_time": "2022-03-25T17:25:13.452Z"
   },
   {
    "duration": 135,
    "start_time": "2022-03-25T17:25:14.050Z"
   },
   {
    "duration": 90,
    "start_time": "2022-03-25T17:25:14.187Z"
   },
   {
    "duration": 239,
    "start_time": "2022-03-25T17:25:14.278Z"
   },
   {
    "duration": 69,
    "start_time": "2022-03-25T17:25:14.519Z"
   },
   {
    "duration": 7,
    "start_time": "2022-03-25T17:25:14.589Z"
   },
   {
    "duration": 70,
    "start_time": "2022-03-25T17:25:14.597Z"
   },
   {
    "duration": 16,
    "start_time": "2022-03-25T17:25:14.669Z"
   },
   {
    "duration": 12,
    "start_time": "2022-03-25T17:25:14.687Z"
   },
   {
    "duration": 72,
    "start_time": "2022-03-25T17:25:14.701Z"
   },
   {
    "duration": 13,
    "start_time": "2022-03-25T17:25:14.774Z"
   },
   {
    "duration": 11,
    "start_time": "2022-03-25T17:25:14.789Z"
   },
   {
    "duration": 15,
    "start_time": "2022-03-25T17:25:14.802Z"
   },
   {
    "duration": 59,
    "start_time": "2022-03-25T17:25:14.839Z"
   },
   {
    "duration": 37,
    "start_time": "2022-03-25T17:25:14.900Z"
   },
   {
    "duration": 43,
    "start_time": "2022-03-25T17:25:14.939Z"
   },
   {
    "duration": 25,
    "start_time": "2022-03-25T17:25:14.984Z"
   },
   {
    "duration": 46,
    "start_time": "2022-03-25T17:25:15.010Z"
   },
   {
    "duration": 20,
    "start_time": "2022-03-25T17:25:15.057Z"
   },
   {
    "duration": 83,
    "start_time": "2022-03-25T17:25:15.079Z"
   },
   {
    "duration": 12,
    "start_time": "2022-03-25T17:25:15.164Z"
   },
   {
    "duration": 11,
    "start_time": "2022-03-25T17:25:15.177Z"
   },
   {
    "duration": 54,
    "start_time": "2022-03-25T17:25:15.192Z"
   },
   {
    "duration": 120,
    "start_time": "2022-03-25T17:25:15.248Z"
   },
   {
    "duration": 1425,
    "start_time": "2022-03-25T17:25:15.369Z"
   },
   {
    "duration": 9,
    "start_time": "2022-03-25T17:25:16.795Z"
   },
   {
    "duration": 42,
    "start_time": "2022-03-25T17:25:16.805Z"
   },
   {
    "duration": 356,
    "start_time": "2022-03-25T17:25:16.849Z"
   },
   {
    "duration": 8,
    "start_time": "2022-03-25T17:25:17.207Z"
   },
   {
    "duration": 38,
    "start_time": "2022-03-25T17:25:17.218Z"
   },
   {
    "duration": 11,
    "start_time": "2022-03-25T17:25:17.258Z"
   },
   {
    "duration": 27,
    "start_time": "2022-03-25T17:25:17.271Z"
   },
   {
    "duration": 39,
    "start_time": "2022-03-25T17:25:17.299Z"
   },
   {
    "duration": 202,
    "start_time": "2022-03-25T17:25:17.340Z"
   },
   {
    "duration": 97,
    "start_time": "2022-03-25T17:25:17.544Z"
   },
   {
    "duration": 1578,
    "start_time": "2022-03-25T17:25:17.645Z"
   },
   {
    "duration": 20,
    "start_time": "2022-03-25T17:25:19.225Z"
   },
   {
    "duration": 13,
    "start_time": "2022-03-25T17:25:19.247Z"
   },
   {
    "duration": 1010,
    "start_time": "2022-03-25T17:25:19.262Z"
   },
   {
    "duration": 20,
    "start_time": "2022-03-25T17:25:20.274Z"
   },
   {
    "duration": 78,
    "start_time": "2022-03-25T17:25:20.296Z"
   },
   {
    "duration": 14,
    "start_time": "2022-03-25T17:25:20.376Z"
   },
   {
    "duration": 15,
    "start_time": "2022-03-25T17:25:20.391Z"
   },
   {
    "duration": 9,
    "start_time": "2022-03-25T17:25:20.408Z"
   },
   {
    "duration": 5,
    "start_time": "2022-03-25T17:25:29.628Z"
   }
  ],
  "kernelspec": {
   "display_name": "Python 3 (ipykernel)",
   "language": "python",
   "name": "python3"
  },
  "language_info": {
   "codemirror_mode": {
    "name": "ipython",
    "version": 3
   },
   "file_extension": ".py",
   "mimetype": "text/x-python",
   "name": "python",
   "nbconvert_exporter": "python",
   "pygments_lexer": "ipython3",
   "version": "3.9.5"
  },
  "toc": {
   "base_numbering": 1,
   "nav_menu": {
    "height": "325px",
    "width": "581px"
   },
   "number_sections": true,
   "sideBar": true,
   "skip_h1_title": true,
   "title_cell": "Table of Contents",
   "title_sidebar": "Contents",
   "toc_cell": false,
   "toc_position": {},
   "toc_section_display": true,
   "toc_window_display": false
  }
 },
 "nbformat": 4,
 "nbformat_minor": 2
}
